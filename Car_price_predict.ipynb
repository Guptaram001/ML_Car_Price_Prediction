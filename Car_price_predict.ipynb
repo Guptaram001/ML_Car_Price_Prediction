{
 "cells": [
  {
   "cell_type": "markdown",
   "id": "d3848844",
   "metadata": {
    "papermill": {
     "duration": 0.02847,
     "end_time": "2025-01-14T13:58:08.331242",
     "exception": false,
     "start_time": "2025-01-14T13:58:08.302772",
     "status": "completed"
    },
    "tags": []
   },
   "source": [
    "# **Data Overview** "
   ]
  },
  {
   "cell_type": "code",
   "execution_count": 1,
   "id": "61a1ea69",
   "metadata": {
    "ExecuteTime": {
     "end_time": "2025-06-14T04:56:36.908021Z",
     "start_time": "2025-06-14T04:56:36.506049Z"
    },
    "_cell_guid": "b1076dfc-b9ad-4769-8c92-a6c4dae69d19",
    "_uuid": "8f2839f25d086af736a60e9eeb907d3b93b6e0e5",
    "execution": {
     "iopub.execute_input": "2025-01-14T13:58:08.388068Z",
     "iopub.status.busy": "2025-01-14T13:58:08.386865Z",
     "iopub.status.idle": "2025-01-14T13:58:09.343487Z",
     "shell.execute_reply": "2025-01-14T13:58:09.342133Z"
    },
    "papermill": {
     "duration": 0.987744,
     "end_time": "2025-01-14T13:58:09.346420",
     "exception": false,
     "start_time": "2025-01-14T13:58:08.358676",
     "status": "completed"
    },
    "tags": []
   },
   "outputs": [
    {
     "name": "stdout",
     "output_type": "stream",
     "text": [
      "./Data/training_data.csv\n",
      "./Data/test_data.csv\n"
     ]
    }
   ],
   "source": [
    "import numpy as np \n",
    "import pandas as pd \n",
    "\n",
    "import os\n",
    "\n",
    "from IPython.terminal.interactiveshell import black_reformat_handler\n",
    "\n",
    "for dirname, _, filenames in os.walk('./Data'):\n",
    "    for filename in filenames:\n",
    "        print(os.path.join(dirname, filename))"
   ]
  },
  {
   "cell_type": "code",
   "execution_count": 2,
   "id": "ce3ea9d4",
   "metadata": {
    "ExecuteTime": {
     "end_time": "2025-06-14T04:56:37.168827Z",
     "start_time": "2025-06-14T04:56:36.920114Z"
    },
    "execution": {
     "iopub.execute_input": "2025-01-14T13:58:09.403357Z",
     "iopub.status.busy": "2025-01-14T13:58:09.402197Z",
     "iopub.status.idle": "2025-01-14T13:58:10.727019Z",
     "shell.execute_reply": "2025-01-14T13:58:10.725710Z"
    },
    "papermill": {
     "duration": 1.355436,
     "end_time": "2025-01-14T13:58:10.729607",
     "exception": false,
     "start_time": "2025-01-14T13:58:09.374171",
     "status": "completed"
    },
    "tags": []
   },
   "outputs": [],
   "source": [
    "train_data = pd.read_csv('./Data/training_data.csv', low_memory=False)\n",
    "test_data = pd.read_csv('./Data/test_data.csv')\n"
   ]
  },
  {
   "cell_type": "code",
   "execution_count": 3,
   "id": "9ba40de40a0104d",
   "metadata": {
    "ExecuteTime": {
     "end_time": "2025-06-13T09:53:42.058712Z",
     "start_time": "2025-06-13T09:53:42.054999Z"
    }
   },
   "outputs": [
    {
     "data": {
      "text/plain": [
       "((98581, 33), (9874, 32))"
      ]
     },
     "execution_count": 3,
     "metadata": {},
     "output_type": "execute_result"
    }
   ],
   "source": [
    "train_data.shape,test_data.shape\n"
   ]
  },
  {
   "cell_type": "code",
   "execution_count": 4,
   "id": "de2bd3fb",
   "metadata": {
    "ExecuteTime": {
     "end_time": "2025-06-13T09:54:21.369207Z",
     "start_time": "2025-06-13T09:54:21.338855Z"
    },
    "execution": {
     "iopub.execute_input": "2025-01-14T13:58:10.796564Z",
     "iopub.status.busy": "2025-01-14T13:58:10.795742Z",
     "iopub.status.idle": "2025-01-14T13:58:10.894457Z",
     "shell.execute_reply": "2025-01-14T13:58:10.893084Z"
    },
    "papermill": {
     "duration": 0.133541,
     "end_time": "2025-01-14T13:58:10.897027",
     "exception": false,
     "start_time": "2025-01-14T13:58:10.763486",
     "status": "completed"
    },
    "tags": []
   },
   "outputs": [
    {
     "data": {
      "text/html": [
       "<div>\n",
       "<style scoped>\n",
       "    .dataframe tbody tr th:only-of-type {\n",
       "        vertical-align: middle;\n",
       "    }\n",
       "\n",
       "    .dataframe tbody tr th {\n",
       "        vertical-align: top;\n",
       "    }\n",
       "\n",
       "    .dataframe thead th {\n",
       "        text-align: right;\n",
       "    }\n",
       "</style>\n",
       "<table border=\"1\" class=\"dataframe\">\n",
       "  <thead>\n",
       "    <tr style=\"text-align: right;\">\n",
       "      <th></th>\n",
       "      <th>adId</th>\n",
       "      <th>price</th>\n",
       "      <th>Kilometerstand</th>\n",
       "      <th>Leistung</th>\n",
       "      <th>Anzahl der Fahrzeughalter</th>\n",
       "      <th>Energieeffizienzklasse</th>\n",
       "      <th>Farbe (Hersteller)</th>\n",
       "      <th>CO2-Effizienz</th>\n",
       "      <th>Zugr.-lgd. Treibstoffart</th>\n",
       "      <th>Anzahl Sitzplätze</th>\n",
       "      <th>Fahrzeugnummer</th>\n",
       "      <th>Einparkhilfe</th>\n",
       "    </tr>\n",
       "  </thead>\n",
       "  <tbody>\n",
       "    <tr>\n",
       "      <th>count</th>\n",
       "      <td>9.858100e+04</td>\n",
       "      <td>98581.000000</td>\n",
       "      <td>92591.00000</td>\n",
       "      <td>98581.000000</td>\n",
       "      <td>0.0</td>\n",
       "      <td>0.0</td>\n",
       "      <td>0.0</td>\n",
       "      <td>0.0</td>\n",
       "      <td>0.0</td>\n",
       "      <td>90860.000000</td>\n",
       "      <td>0.0</td>\n",
       "      <td>0.0</td>\n",
       "    </tr>\n",
       "    <tr>\n",
       "      <th>mean</th>\n",
       "      <td>2.587596e+08</td>\n",
       "      <td>27217.767389</td>\n",
       "      <td>53.14693</td>\n",
       "      <td>173.559489</td>\n",
       "      <td>NaN</td>\n",
       "      <td>NaN</td>\n",
       "      <td>NaN</td>\n",
       "      <td>NaN</td>\n",
       "      <td>NaN</td>\n",
       "      <td>5.055602</td>\n",
       "      <td>NaN</td>\n",
       "      <td>NaN</td>\n",
       "    </tr>\n",
       "    <tr>\n",
       "      <th>std</th>\n",
       "      <td>7.451374e+06</td>\n",
       "      <td>23254.977187</td>\n",
       "      <td>58.41863</td>\n",
       "      <td>88.534995</td>\n",
       "      <td>NaN</td>\n",
       "      <td>NaN</td>\n",
       "      <td>NaN</td>\n",
       "      <td>NaN</td>\n",
       "      <td>NaN</td>\n",
       "      <td>0.995301</td>\n",
       "      <td>NaN</td>\n",
       "      <td>NaN</td>\n",
       "    </tr>\n",
       "    <tr>\n",
       "      <th>min</th>\n",
       "      <td>1.442307e+08</td>\n",
       "      <td>250.000000</td>\n",
       "      <td>1.00000</td>\n",
       "      <td>0.000000</td>\n",
       "      <td>NaN</td>\n",
       "      <td>NaN</td>\n",
       "      <td>NaN</td>\n",
       "      <td>NaN</td>\n",
       "      <td>NaN</td>\n",
       "      <td>1.000000</td>\n",
       "      <td>NaN</td>\n",
       "      <td>NaN</td>\n",
       "    </tr>\n",
       "    <tr>\n",
       "      <th>25%</th>\n",
       "      <td>2.553876e+08</td>\n",
       "      <td>14226.000000</td>\n",
       "      <td>10.33850</td>\n",
       "      <td>120.000000</td>\n",
       "      <td>NaN</td>\n",
       "      <td>NaN</td>\n",
       "      <td>NaN</td>\n",
       "      <td>NaN</td>\n",
       "      <td>NaN</td>\n",
       "      <td>5.000000</td>\n",
       "      <td>NaN</td>\n",
       "      <td>NaN</td>\n",
       "    </tr>\n",
       "    <tr>\n",
       "      <th>50%</th>\n",
       "      <td>2.598839e+08</td>\n",
       "      <td>21685.000000</td>\n",
       "      <td>26.95000</td>\n",
       "      <td>150.000000</td>\n",
       "      <td>NaN</td>\n",
       "      <td>NaN</td>\n",
       "      <td>NaN</td>\n",
       "      <td>NaN</td>\n",
       "      <td>NaN</td>\n",
       "      <td>5.000000</td>\n",
       "      <td>NaN</td>\n",
       "      <td>NaN</td>\n",
       "    </tr>\n",
       "    <tr>\n",
       "      <th>75%</th>\n",
       "      <td>2.617437e+08</td>\n",
       "      <td>32990.000000</td>\n",
       "      <td>81.13400</td>\n",
       "      <td>190.000000</td>\n",
       "      <td>NaN</td>\n",
       "      <td>NaN</td>\n",
       "      <td>NaN</td>\n",
       "      <td>NaN</td>\n",
       "      <td>NaN</td>\n",
       "      <td>5.000000</td>\n",
       "      <td>NaN</td>\n",
       "      <td>NaN</td>\n",
       "    </tr>\n",
       "    <tr>\n",
       "      <th>max</th>\n",
       "      <td>2.764467e+08</td>\n",
       "      <td>885360.000000</td>\n",
       "      <td>658.00000</td>\n",
       "      <td>802.000000</td>\n",
       "      <td>NaN</td>\n",
       "      <td>NaN</td>\n",
       "      <td>NaN</td>\n",
       "      <td>NaN</td>\n",
       "      <td>NaN</td>\n",
       "      <td>67.000000</td>\n",
       "      <td>NaN</td>\n",
       "      <td>NaN</td>\n",
       "    </tr>\n",
       "  </tbody>\n",
       "</table>\n",
       "</div>"
      ],
      "text/plain": [
       "               adId          price  Kilometerstand      Leistung  \\\n",
       "count  9.858100e+04   98581.000000     92591.00000  98581.000000   \n",
       "mean   2.587596e+08   27217.767389        53.14693    173.559489   \n",
       "std    7.451374e+06   23254.977187        58.41863     88.534995   \n",
       "min    1.442307e+08     250.000000         1.00000      0.000000   \n",
       "25%    2.553876e+08   14226.000000        10.33850    120.000000   \n",
       "50%    2.598839e+08   21685.000000        26.95000    150.000000   \n",
       "75%    2.617437e+08   32990.000000        81.13400    190.000000   \n",
       "max    2.764467e+08  885360.000000       658.00000    802.000000   \n",
       "\n",
       "       Anzahl der Fahrzeughalter  Energieeffizienzklasse  Farbe (Hersteller)  \\\n",
       "count                        0.0                     0.0                 0.0   \n",
       "mean                         NaN                     NaN                 NaN   \n",
       "std                          NaN                     NaN                 NaN   \n",
       "min                          NaN                     NaN                 NaN   \n",
       "25%                          NaN                     NaN                 NaN   \n",
       "50%                          NaN                     NaN                 NaN   \n",
       "75%                          NaN                     NaN                 NaN   \n",
       "max                          NaN                     NaN                 NaN   \n",
       "\n",
       "       CO2-Effizienz  Zugr.-lgd. Treibstoffart  Anzahl Sitzplätze  \\\n",
       "count            0.0                       0.0       90860.000000   \n",
       "mean             NaN                       NaN           5.055602   \n",
       "std              NaN                       NaN           0.995301   \n",
       "min              NaN                       NaN           1.000000   \n",
       "25%              NaN                       NaN           5.000000   \n",
       "50%              NaN                       NaN           5.000000   \n",
       "75%              NaN                       NaN           5.000000   \n",
       "max              NaN                       NaN          67.000000   \n",
       "\n",
       "       Fahrzeugnummer  Einparkhilfe  \n",
       "count             0.0           0.0  \n",
       "mean              NaN           NaN  \n",
       "std               NaN           NaN  \n",
       "min               NaN           NaN  \n",
       "25%               NaN           NaN  \n",
       "50%               NaN           NaN  \n",
       "75%               NaN           NaN  \n",
       "max               NaN           NaN  "
      ]
     },
     "execution_count": 4,
     "metadata": {},
     "output_type": "execute_result"
    }
   ],
   "source": [
    "train_data.describe()"
   ]
  },
  {
   "cell_type": "code",
   "execution_count": 5,
   "id": "e4f00492",
   "metadata": {
    "ExecuteTime": {
     "end_time": "2025-06-13T07:38:56.959318Z",
     "start_time": "2025-06-13T07:38:56.933244Z"
    },
    "execution": {
     "iopub.execute_input": "2025-01-14T13:58:11.030741Z",
     "iopub.status.busy": "2025-01-14T13:58:11.030324Z",
     "iopub.status.idle": "2025-01-14T13:58:11.130428Z",
     "shell.execute_reply": "2025-01-14T13:58:11.128656Z"
    },
    "papermill": {
     "duration": 0.133006,
     "end_time": "2025-01-14T13:58:11.134010",
     "exception": false,
     "start_time": "2025-01-14T13:58:11.001004",
     "status": "completed"
    },
    "tags": []
   },
   "outputs": [
    {
     "name": "stdout",
     "output_type": "stream",
     "text": [
      "adId                           0.000000\n",
      "price                          0.000000\n",
      "Kategorie                      0.000000\n",
      "Erstzulassung                  0.000000\n",
      "colour                         0.282002\n",
      "Kilometerstand                 6.076222\n",
      "Leistung                       0.000000\n",
      "Kraftstoffart                  0.000000\n",
      "make                           0.000000\n",
      "model                          0.000000\n",
      "sellerType                     0.000000\n",
      "Klimatisierung                 0.047677\n",
      "Airbags                        0.329678\n",
      "Anzahl der Fahrzeughalter    100.000000\n",
      "Verfügbarkeit                 36.462401\n",
      "Herkunft                      16.201905\n",
      "Energieeffizienzklasse       100.000000\n",
      "Innenausstattung               0.200850\n",
      "CO2-Emissionen                 0.040576\n",
      "Getriebe                       0.013187\n",
      "Farbe (Hersteller)           100.000000\n",
      "Verbrauch                      0.025360\n",
      "CO2-Effizienz                100.000000\n",
      "Schadstoffklasse               0.333736\n",
      "Hubraum                        0.034489\n",
      "Zugr.-lgd. Treibstoffart     100.000000\n",
      "Anzahl Sitzplätze              7.832138\n",
      "Fahrzeugnummer               100.000000\n",
      "Anzahl der Türen              87.228776\n",
      "HU                            98.084824\n",
      "Umweltplakette                99.820452\n",
      "Fahrzeugzustand               99.987827\n",
      "Einparkhilfe                 100.000000\n",
      "dtype: float64\n"
     ]
    }
   ],
   "source": [
    "missing_percentage = (train_data.isna().sum() / len(train_data)) * 100\n",
    "print(missing_percentage)"
   ]
  },
  {
   "cell_type": "markdown",
   "id": "62aa4ea6",
   "metadata": {
    "papermill": {
     "duration": 0.026446,
     "end_time": "2025-01-14T13:58:11.199485",
     "exception": false,
     "start_time": "2025-01-14T13:58:11.173039",
     "status": "completed"
    },
    "tags": []
   },
   "source": [
    "**Dropping Useless Columns from train_data** "
   ]
  },
  {
   "cell_type": "code",
   "execution_count": 6,
   "id": "a4565b80",
   "metadata": {
    "ExecuteTime": {
     "end_time": "2025-06-13T09:57:53.543711Z",
     "start_time": "2025-06-13T09:57:53.525495Z"
    },
    "execution": {
     "iopub.execute_input": "2025-01-14T13:58:11.255316Z",
     "iopub.status.busy": "2025-01-14T13:58:11.254898Z",
     "iopub.status.idle": "2025-01-14T13:58:11.285213Z",
     "shell.execute_reply": "2025-01-14T13:58:11.284137Z"
    },
    "papermill": {
     "duration": 0.061766,
     "end_time": "2025-01-14T13:58:11.288274",
     "exception": false,
     "start_time": "2025-01-14T13:58:11.226508",
     "status": "completed"
    },
    "tags": []
   },
   "outputs": [],
   "source": [
    "#Columns with 99 to 100% empty values and irrelevent fields--> drop it\n",
    "columns_to_drop = ['Anzahl der Fahrzeughalter', 'Energieeffizienzklasse', 'Farbe (Hersteller)', \n",
    "                   'CO2-Effizienz', 'Zugr.-lgd. Treibstoffart', 'Fahrzeugnummer', \n",
    "                   'Einparkhilfe', 'HU','Umweltplakette','Fahrzeugzustand','adId','sellerType']\n",
    "train_data = train_data.drop(columns=columns_to_drop)"
   ]
  },
  {
   "cell_type": "code",
   "execution_count": 7,
   "id": "6fc9cafc",
   "metadata": {
    "ExecuteTime": {
     "end_time": "2025-06-13T09:57:54.811865Z",
     "start_time": "2025-06-13T09:57:54.784232Z"
    },
    "execution": {
     "iopub.execute_input": "2025-01-14T13:58:11.349790Z",
     "iopub.status.busy": "2025-01-14T13:58:11.349404Z",
     "iopub.status.idle": "2025-01-14T13:58:11.443872Z",
     "shell.execute_reply": "2025-01-14T13:58:11.442582Z"
    },
    "papermill": {
     "duration": 0.125047,
     "end_time": "2025-01-14T13:58:11.446300",
     "exception": false,
     "start_time": "2025-01-14T13:58:11.321253",
     "status": "completed"
    },
    "tags": []
   },
   "outputs": [
    {
     "name": "stdout",
     "output_type": "stream",
     "text": [
      "price                 0.000000\n",
      "Kategorie             0.000000\n",
      "Erstzulassung         0.000000\n",
      "colour                0.282002\n",
      "Kilometerstand        6.076222\n",
      "Leistung              0.000000\n",
      "Kraftstoffart         0.000000\n",
      "make                  0.000000\n",
      "model                 0.000000\n",
      "Klimatisierung        0.047677\n",
      "Airbags               0.329678\n",
      "Verfügbarkeit        36.462401\n",
      "Herkunft             16.201905\n",
      "Innenausstattung      0.200850\n",
      "CO2-Emissionen        0.040576\n",
      "Getriebe              0.013187\n",
      "Verbrauch             0.025360\n",
      "Schadstoffklasse      0.333736\n",
      "Hubraum               0.034489\n",
      "Anzahl Sitzplätze     7.832138\n",
      "Anzahl der Türen     87.228776\n",
      "dtype: float64\n"
     ]
    }
   ],
   "source": [
    "missing_percentage = (train_data.isna().sum() / len(train_data)) * 100\n",
    "print(missing_percentage)"
   ]
  },
  {
   "cell_type": "markdown",
   "id": "bda3770a",
   "metadata": {
    "papermill": {
     "duration": 0.026648,
     "end_time": "2025-01-14T13:58:11.501004",
     "exception": false,
     "start_time": "2025-01-14T13:58:11.474356",
     "status": "completed"
    },
    "tags": []
   },
   "source": [
    "**Dropping Useless Columns from test_data**"
   ]
  },
  {
   "cell_type": "code",
   "execution_count": 8,
   "id": "017205ee",
   "metadata": {
    "ExecuteTime": {
     "end_time": "2025-06-13T07:38:57.060031Z",
     "start_time": "2025-06-13T07:38:57.058346Z"
    }
   },
   "outputs": [
    {
     "data": {
      "text/plain": [
       "(9874, 32)"
      ]
     },
     "execution_count": 8,
     "metadata": {},
     "output_type": "execute_result"
    }
   ],
   "source": [
    "test_data.shape"
   ]
  },
  {
   "cell_type": "code",
   "execution_count": 9,
   "id": "412a24e8",
   "metadata": {
    "ExecuteTime": {
     "end_time": "2025-06-13T07:38:57.091527Z",
     "start_time": "2025-06-13T07:38:57.081449Z"
    }
   },
   "outputs": [
    {
     "data": {
      "text/html": [
       "<div>\n",
       "<style scoped>\n",
       "    .dataframe tbody tr th:only-of-type {\n",
       "        vertical-align: middle;\n",
       "    }\n",
       "\n",
       "    .dataframe tbody tr th {\n",
       "        vertical-align: top;\n",
       "    }\n",
       "\n",
       "    .dataframe thead th {\n",
       "        text-align: right;\n",
       "    }\n",
       "</style>\n",
       "<table border=\"1\" class=\"dataframe\">\n",
       "  <thead>\n",
       "    <tr style=\"text-align: right;\">\n",
       "      <th></th>\n",
       "      <th>adId</th>\n",
       "      <th>Kilometerstand</th>\n",
       "      <th>Leistung</th>\n",
       "      <th>Anzahl der Fahrzeughalter</th>\n",
       "      <th>Energieeffizienzklasse</th>\n",
       "      <th>Farbe (Hersteller)</th>\n",
       "      <th>CO2-Effizienz</th>\n",
       "      <th>Zugr.-lgd. Treibstoffart</th>\n",
       "      <th>Anzahl Sitzplätze</th>\n",
       "      <th>Fahrzeugnummer</th>\n",
       "      <th>Fahrzeugzustand</th>\n",
       "      <th>Einparkhilfe</th>\n",
       "    </tr>\n",
       "  </thead>\n",
       "  <tbody>\n",
       "    <tr>\n",
       "      <th>count</th>\n",
       "      <td>9.874000e+03</td>\n",
       "      <td>8850.000000</td>\n",
       "      <td>9874.000000</td>\n",
       "      <td>0.0</td>\n",
       "      <td>0.0</td>\n",
       "      <td>0.0</td>\n",
       "      <td>0.0</td>\n",
       "      <td>0.0</td>\n",
       "      <td>8945.000000</td>\n",
       "      <td>0.0</td>\n",
       "      <td>0.0</td>\n",
       "      <td>0.0</td>\n",
       "    </tr>\n",
       "    <tr>\n",
       "      <th>mean</th>\n",
       "      <td>2.592129e+08</td>\n",
       "      <td>51.575060</td>\n",
       "      <td>148.036763</td>\n",
       "      <td>NaN</td>\n",
       "      <td>NaN</td>\n",
       "      <td>NaN</td>\n",
       "      <td>NaN</td>\n",
       "      <td>NaN</td>\n",
       "      <td>5.246171</td>\n",
       "      <td>NaN</td>\n",
       "      <td>NaN</td>\n",
       "      <td>NaN</td>\n",
       "    </tr>\n",
       "    <tr>\n",
       "      <th>std</th>\n",
       "      <td>6.803387e+06</td>\n",
       "      <td>53.968971</td>\n",
       "      <td>51.438589</td>\n",
       "      <td>NaN</td>\n",
       "      <td>NaN</td>\n",
       "      <td>NaN</td>\n",
       "      <td>NaN</td>\n",
       "      <td>NaN</td>\n",
       "      <td>1.419813</td>\n",
       "      <td>NaN</td>\n",
       "      <td>NaN</td>\n",
       "      <td>NaN</td>\n",
       "    </tr>\n",
       "    <tr>\n",
       "      <th>min</th>\n",
       "      <td>1.965479e+08</td>\n",
       "      <td>1.000000</td>\n",
       "      <td>0.000000</td>\n",
       "      <td>NaN</td>\n",
       "      <td>NaN</td>\n",
       "      <td>NaN</td>\n",
       "      <td>NaN</td>\n",
       "      <td>NaN</td>\n",
       "      <td>1.000000</td>\n",
       "      <td>NaN</td>\n",
       "      <td>NaN</td>\n",
       "      <td>NaN</td>\n",
       "    </tr>\n",
       "    <tr>\n",
       "      <th>25%</th>\n",
       "      <td>2.561864e+08</td>\n",
       "      <td>13.288000</td>\n",
       "      <td>110.000000</td>\n",
       "      <td>NaN</td>\n",
       "      <td>NaN</td>\n",
       "      <td>NaN</td>\n",
       "      <td>NaN</td>\n",
       "      <td>NaN</td>\n",
       "      <td>5.000000</td>\n",
       "      <td>NaN</td>\n",
       "      <td>NaN</td>\n",
       "      <td>NaN</td>\n",
       "    </tr>\n",
       "    <tr>\n",
       "      <th>50%</th>\n",
       "      <td>2.600513e+08</td>\n",
       "      <td>29.139000</td>\n",
       "      <td>150.000000</td>\n",
       "      <td>NaN</td>\n",
       "      <td>NaN</td>\n",
       "      <td>NaN</td>\n",
       "      <td>NaN</td>\n",
       "      <td>NaN</td>\n",
       "      <td>5.000000</td>\n",
       "      <td>NaN</td>\n",
       "      <td>NaN</td>\n",
       "      <td>NaN</td>\n",
       "    </tr>\n",
       "    <tr>\n",
       "      <th>75%</th>\n",
       "      <td>2.617541e+08</td>\n",
       "      <td>75.000000</td>\n",
       "      <td>184.000000</td>\n",
       "      <td>NaN</td>\n",
       "      <td>NaN</td>\n",
       "      <td>NaN</td>\n",
       "      <td>NaN</td>\n",
       "      <td>NaN</td>\n",
       "      <td>5.000000</td>\n",
       "      <td>NaN</td>\n",
       "      <td>NaN</td>\n",
       "      <td>NaN</td>\n",
       "    </tr>\n",
       "    <tr>\n",
       "      <th>max</th>\n",
       "      <td>2.763584e+08</td>\n",
       "      <td>545.000000</td>\n",
       "      <td>455.000000</td>\n",
       "      <td>NaN</td>\n",
       "      <td>NaN</td>\n",
       "      <td>NaN</td>\n",
       "      <td>NaN</td>\n",
       "      <td>NaN</td>\n",
       "      <td>9.000000</td>\n",
       "      <td>NaN</td>\n",
       "      <td>NaN</td>\n",
       "      <td>NaN</td>\n",
       "    </tr>\n",
       "  </tbody>\n",
       "</table>\n",
       "</div>"
      ],
      "text/plain": [
       "               adId  Kilometerstand     Leistung  Anzahl der Fahrzeughalter  \\\n",
       "count  9.874000e+03     8850.000000  9874.000000                        0.0   \n",
       "mean   2.592129e+08       51.575060   148.036763                        NaN   \n",
       "std    6.803387e+06       53.968971    51.438589                        NaN   \n",
       "min    1.965479e+08        1.000000     0.000000                        NaN   \n",
       "25%    2.561864e+08       13.288000   110.000000                        NaN   \n",
       "50%    2.600513e+08       29.139000   150.000000                        NaN   \n",
       "75%    2.617541e+08       75.000000   184.000000                        NaN   \n",
       "max    2.763584e+08      545.000000   455.000000                        NaN   \n",
       "\n",
       "       Energieeffizienzklasse  Farbe (Hersteller)  CO2-Effizienz  \\\n",
       "count                     0.0                 0.0            0.0   \n",
       "mean                      NaN                 NaN            NaN   \n",
       "std                       NaN                 NaN            NaN   \n",
       "min                       NaN                 NaN            NaN   \n",
       "25%                       NaN                 NaN            NaN   \n",
       "50%                       NaN                 NaN            NaN   \n",
       "75%                       NaN                 NaN            NaN   \n",
       "max                       NaN                 NaN            NaN   \n",
       "\n",
       "       Zugr.-lgd. Treibstoffart  Anzahl Sitzplätze  Fahrzeugnummer  \\\n",
       "count                       0.0        8945.000000             0.0   \n",
       "mean                        NaN           5.246171             NaN   \n",
       "std                         NaN           1.419813             NaN   \n",
       "min                         NaN           1.000000             NaN   \n",
       "25%                         NaN           5.000000             NaN   \n",
       "50%                         NaN           5.000000             NaN   \n",
       "75%                         NaN           5.000000             NaN   \n",
       "max                         NaN           9.000000             NaN   \n",
       "\n",
       "       Fahrzeugzustand  Einparkhilfe  \n",
       "count              0.0           0.0  \n",
       "mean               NaN           NaN  \n",
       "std                NaN           NaN  \n",
       "min                NaN           NaN  \n",
       "25%                NaN           NaN  \n",
       "50%                NaN           NaN  \n",
       "75%                NaN           NaN  \n",
       "max                NaN           NaN  "
      ]
     },
     "execution_count": 9,
     "metadata": {},
     "output_type": "execute_result"
    }
   ],
   "source": [
    "test_data.describe()"
   ]
  },
  {
   "cell_type": "code",
   "execution_count": 10,
   "id": "4c406f5f",
   "metadata": {
    "ExecuteTime": {
     "end_time": "2025-06-13T07:38:57.141781Z",
     "start_time": "2025-06-13T07:38:57.136463Z"
    },
    "execution": {
     "iopub.execute_input": "2025-01-14T13:58:11.800712Z",
     "iopub.status.busy": "2025-01-14T13:58:11.799493Z",
     "iopub.status.idle": "2025-01-14T13:58:11.824925Z",
     "shell.execute_reply": "2025-01-14T13:58:11.823527Z"
    },
    "papermill": {
     "duration": 0.080993,
     "end_time": "2025-01-14T13:58:11.829037",
     "exception": false,
     "start_time": "2025-01-14T13:58:11.748044",
     "status": "completed"
    },
    "tags": []
   },
   "outputs": [
    {
     "name": "stdout",
     "output_type": "stream",
     "text": [
      "adId                           0.000000\n",
      "Kategorie                      0.000000\n",
      "Erstzulassung                  0.000000\n",
      "colour                         0.162042\n",
      "Kilometerstand                10.370670\n",
      "Leistung                       0.000000\n",
      "Kraftstoffart                  0.000000\n",
      "make                           0.000000\n",
      "model                          0.000000\n",
      "sellerType                     0.000000\n",
      "Klimatisierung                 0.050638\n",
      "Airbags                        0.455742\n",
      "Anzahl der Fahrzeughalter    100.000000\n",
      "Verfügbarkeit                 47.366822\n",
      "Herkunft                      21.622443\n",
      "Energieeffizienzklasse       100.000000\n",
      "Innenausstattung               0.202552\n",
      "CO2-Emissionen                 0.070893\n",
      "Getriebe                       0.020255\n",
      "Farbe (Hersteller)           100.000000\n",
      "Verbrauch                      0.010128\n",
      "CO2-Effizienz                100.000000\n",
      "Schadstoffklasse               0.475998\n",
      "Hubraum                        0.020255\n",
      "Zugr.-lgd. Treibstoffart     100.000000\n",
      "Anzahl Sitzplätze              9.408548\n",
      "Fahrzeugnummer               100.000000\n",
      "Anzahl der Türen              83.076767\n",
      "HU                            97.609885\n",
      "Umweltplakette                99.696172\n",
      "Fahrzeugzustand              100.000000\n",
      "Einparkhilfe                 100.000000\n",
      "dtype: float64\n"
     ]
    }
   ],
   "source": [
    "missing_percentage = (test_data.isna().sum() / len(test_data)) * 100\n",
    "print(missing_percentage)"
   ]
  },
  {
   "cell_type": "code",
   "execution_count": 11,
   "id": "f2850bb7",
   "metadata": {
    "ExecuteTime": {
     "end_time": "2025-06-13T09:59:27.137624Z",
     "start_time": "2025-06-13T09:59:27.133353Z"
    },
    "execution": {
     "iopub.execute_input": "2025-01-14T13:58:11.900942Z",
     "iopub.status.busy": "2025-01-14T13:58:11.900554Z",
     "iopub.status.idle": "2025-01-14T13:58:11.909823Z",
     "shell.execute_reply": "2025-01-14T13:58:11.908514Z"
    },
    "papermill": {
     "duration": 0.0436,
     "end_time": "2025-01-14T13:58:11.912654",
     "exception": false,
     "start_time": "2025-01-14T13:58:11.869054",
     "status": "completed"
    },
    "tags": []
   },
   "outputs": [],
   "source": [
    "#Columns with 99 to 100% empty values and irrelevent fields--> drop it\n",
    "\n",
    "columns_to_drop = ['Anzahl der Fahrzeughalter', 'Energieeffizienzklasse', 'Farbe (Hersteller)',\n",
    "                   'CO2-Effizienz', 'Zugr.-lgd. Treibstoffart', 'Fahrzeugnummer', \n",
    "                   'Einparkhilfe', 'HU','Umweltplakette','Fahrzeugzustand','sellerType']\n",
    "test_data = test_data.drop(columns=columns_to_drop)"
   ]
  },
  {
   "cell_type": "code",
   "execution_count": 12,
   "id": "3fa7f05a3d9e1dc9",
   "metadata": {
    "ExecuteTime": {
     "end_time": "2025-06-13T09:59:28.818690Z",
     "start_time": "2025-06-13T09:59:28.816161Z"
    }
   },
   "outputs": [
    {
     "data": {
      "text/plain": [
       "((9874, 21), (98581, 21))"
      ]
     },
     "execution_count": 12,
     "metadata": {},
     "output_type": "execute_result"
    }
   ],
   "source": [
    "test_data.shape,train_data.shape"
   ]
  },
  {
   "cell_type": "code",
   "execution_count": 13,
   "id": "9ca6a6deace511eb",
   "metadata": {
    "ExecuteTime": {
     "end_time": "2025-06-13T07:38:57.252272Z",
     "start_time": "2025-06-13T07:38:57.250334Z"
    }
   },
   "outputs": [
    {
     "data": {
      "text/plain": [
       "Index(['price', 'Kategorie', 'Erstzulassung', 'colour', 'Kilometerstand',\n",
       "       'Leistung', 'Kraftstoffart', 'make', 'model', 'Klimatisierung',\n",
       "       'Airbags', 'Verfügbarkeit', 'Herkunft', 'Innenausstattung',\n",
       "       'CO2-Emissionen', 'Getriebe', 'Verbrauch', 'Schadstoffklasse',\n",
       "       'Hubraum', 'Anzahl Sitzplätze', 'Anzahl der Türen'],\n",
       "      dtype='object')"
      ]
     },
     "execution_count": 13,
     "metadata": {},
     "output_type": "execute_result"
    }
   ],
   "source": [
    "train_data.columns"
   ]
  },
  {
   "cell_type": "code",
   "execution_count": 14,
   "id": "ae74c6749f877e50",
   "metadata": {
    "ExecuteTime": {
     "end_time": "2025-06-13T10:00:03.313741Z",
     "start_time": "2025-06-13T10:00:03.311122Z"
    }
   },
   "outputs": [
    {
     "data": {
      "text/plain": [
       "Index(['adId', 'Kategorie', 'Erstzulassung', 'colour', 'Kilometerstand',\n",
       "       'Leistung', 'Kraftstoffart', 'make', 'model', 'Klimatisierung',\n",
       "       'Airbags', 'Verfügbarkeit', 'Herkunft', 'Innenausstattung',\n",
       "       'CO2-Emissionen', 'Getriebe', 'Verbrauch', 'Schadstoffklasse',\n",
       "       'Hubraum', 'Anzahl Sitzplätze', 'Anzahl der Türen'],\n",
       "      dtype='object')"
      ]
     },
     "execution_count": 14,
     "metadata": {},
     "output_type": "execute_result"
    }
   ],
   "source": [
    "test_data.columns"
   ]
  },
  {
   "cell_type": "code",
   "execution_count": 15,
   "id": "7b76c376",
   "metadata": {
    "ExecuteTime": {
     "end_time": "2025-06-13T10:00:11.049379Z",
     "start_time": "2025-06-13T10:00:11.042522Z"
    },
    "execution": {
     "iopub.execute_input": "2025-01-14T13:58:11.979002Z",
     "iopub.status.busy": "2025-01-14T13:58:11.978540Z",
     "iopub.status.idle": "2025-01-14T13:58:11.997019Z",
     "shell.execute_reply": "2025-01-14T13:58:11.995517Z"
    },
    "papermill": {
     "duration": 0.05577,
     "end_time": "2025-01-14T13:58:12.001022",
     "exception": false,
     "start_time": "2025-01-14T13:58:11.945252",
     "status": "completed"
    },
    "tags": []
   },
   "outputs": [
    {
     "name": "stdout",
     "output_type": "stream",
     "text": [
      "adId                  0.000000\n",
      "Kategorie             0.000000\n",
      "Erstzulassung         0.000000\n",
      "colour                0.162042\n",
      "Kilometerstand       10.370670\n",
      "Leistung              0.000000\n",
      "Kraftstoffart         0.000000\n",
      "make                  0.000000\n",
      "model                 0.000000\n",
      "Klimatisierung        0.050638\n",
      "Airbags               0.455742\n",
      "Verfügbarkeit        47.366822\n",
      "Herkunft             21.622443\n",
      "Innenausstattung      0.202552\n",
      "CO2-Emissionen        0.070893\n",
      "Getriebe              0.020255\n",
      "Verbrauch             0.010128\n",
      "Schadstoffklasse      0.475998\n",
      "Hubraum               0.020255\n",
      "Anzahl Sitzplätze     9.408548\n",
      "Anzahl der Türen     83.076767\n",
      "dtype: float64\n"
     ]
    }
   ],
   "source": [
    "missing_percentage = (test_data.isna().sum() / len(test_data)) * 100\n",
    "print(missing_percentage)"
   ]
  },
  {
   "cell_type": "markdown",
   "id": "5f109e01",
   "metadata": {
    "papermill": {
     "duration": 0.030071,
     "end_time": "2025-01-14T13:58:12.060415",
     "exception": false,
     "start_time": "2025-01-14T13:58:12.030344",
     "status": "completed"
    },
    "tags": []
   },
   "source": [
    "# cleaning data"
   ]
  },
  {
   "cell_type": "markdown",
   "id": "2abaad1a",
   "metadata": {
    "papermill": {
     "duration": 0.027845,
     "end_time": "2025-01-14T13:58:12.117148",
     "exception": false,
     "start_time": "2025-01-14T13:58:12.089303",
     "status": "completed"
    },
    "tags": []
   },
   "source": [
    "**Processing Kategorie**"
   ]
  },
  {
   "cell_type": "code",
   "execution_count": 16,
   "id": "65b204141ff66ce5",
   "metadata": {
    "ExecuteTime": {
     "end_time": "2025-06-13T10:00:43.217214Z",
     "start_time": "2025-06-13T10:00:43.210099Z"
    }
   },
   "outputs": [
    {
     "data": {
      "text/plain": [
       "array(['Cabrio / Roadster', 'Van / Minibus', 'Sportwagen / Coupé',\n",
       "       'Limousine', 'Kombi, Vorführfahrzeug', 'Kombi',\n",
       "       'Kleinwagen, Vorführfahrzeug', 'Geländewagen / Pickup',\n",
       "       'Limousine, Vorführfahrzeug', 'Van / Minibus, Vorführfahrzeug',\n",
       "       'Sportwagen / Coupé, Vorführfahrzeug',\n",
       "       'Geländewagen / Pickup, Vorführfahrzeug', 'Kleinwagen',\n",
       "       'Kombi, Jahreswagen', 'Cabrio / Roadster, Vorführfahrzeug',\n",
       "       'Sportwagen / Coupé, Tageszulassung',\n",
       "       'Geländewagen / Pickup, Tageszulassung',\n",
       "       'Kleinwagen, Tageszulassung', 'Kombi, Tageszulassung',\n",
       "       'Geländewagen / Pickup, Jahreswagen', 'Limousine, Tageszulassung',\n",
       "       'Van / Minibus, Tageszulassung', 'Andere',\n",
       "       'Limousine, Jahreswagen', 'Andere, Vorführfahrzeug',\n",
       "       'Van / Minibus, Jahreswagen', 'Sportwagen / Coupé, Jahreswagen',\n",
       "       'Kleinwagen, Jahreswagen', 'SUV / Geländewagen / Pickup',\n",
       "       'Cabrio / Roadster, Tageszulassung',\n",
       "       'SUV / Geländewagen / Pickup, Vorführfahrzeug',\n",
       "       'Andere, Tageszulassung', 'Cabrio / Roadster, Jahreswagen',\n",
       "       'SUV / Geländewagen / Pickup, Tageszulassung',\n",
       "       'Andere, Jahreswagen', 'SUV / Geländewagen / Pickup, Jahreswagen'],\n",
       "      dtype=object)"
      ]
     },
     "execution_count": 16,
     "metadata": {},
     "output_type": "execute_result"
    }
   ],
   "source": [
    "train_data['Kategorie'].unique()"
   ]
  },
  {
   "cell_type": "code",
   "execution_count": 17,
   "id": "6b74cd8c",
   "metadata": {
    "ExecuteTime": {
     "end_time": "2025-06-13T10:03:19.286765Z",
     "start_time": "2025-06-13T10:03:19.196083Z"
    },
    "execution": {
     "iopub.execute_input": "2025-01-14T13:58:12.175947Z",
     "iopub.status.busy": "2025-01-14T13:58:12.175583Z",
     "iopub.status.idle": "2025-01-14T13:58:12.546372Z",
     "shell.execute_reply": "2025-01-14T13:58:12.545040Z"
    },
    "papermill": {
     "duration": 0.402265,
     "end_time": "2025-01-14T13:58:12.548985",
     "exception": false,
     "start_time": "2025-01-14T13:58:12.146720",
     "status": "completed"
    },
    "tags": []
   },
   "outputs": [],
   "source": [
    "train_data['primary_vehicle_type'] = train_data['Kategorie'].str.split(',').str[0]  \n",
    "train_data['descriptor'] = train_data['Kategorie'].str.split(',').str[1].str.strip()  \n",
    "test_data['primary_vehicle_type'] = test_data['Kategorie'].str.split(',').str[0] \n",
    "test_data['descriptor'] = test_data['Kategorie'].str.split(',').str[1].str.strip()"
   ]
  },
  {
   "cell_type": "code",
   "execution_count": 18,
   "id": "b06c490e59e44b3f",
   "metadata": {
    "ExecuteTime": {
     "end_time": "2025-06-13T10:05:03.238512Z",
     "start_time": "2025-06-13T10:05:03.232476Z"
    }
   },
   "outputs": [
    {
     "data": {
      "text/plain": [
       "array(['Cabrio / Roadster', 'Van / Minibus', 'Sportwagen / Coupé',\n",
       "       'Limousine', 'Kombi', 'Kleinwagen', 'Geländewagen / Pickup',\n",
       "       'Andere', 'SUV / Geländewagen / Pickup'], dtype=object)"
      ]
     },
     "execution_count": 18,
     "metadata": {},
     "output_type": "execute_result"
    }
   ],
   "source": [
    "train_data['primary_vehicle_type'].unique()"
   ]
  },
  {
   "cell_type": "code",
   "execution_count": 19,
   "id": "278c283c78d5472a",
   "metadata": {
    "ExecuteTime": {
     "end_time": "2025-06-13T10:04:02.025086Z",
     "start_time": "2025-06-13T10:04:02.021609Z"
    }
   },
   "outputs": [
    {
     "data": {
      "text/plain": [
       "array([nan, 'Vorführfahrzeug', 'Jahreswagen', 'Tageszulassung'],\n",
       "      dtype=object)"
      ]
     },
     "execution_count": 19,
     "metadata": {},
     "output_type": "execute_result"
    }
   ],
   "source": [
    "train_data['descriptor'].unique()"
   ]
  },
  {
   "cell_type": "code",
   "execution_count": 20,
   "id": "74c2d2b9",
   "metadata": {
    "ExecuteTime": {
     "end_time": "2025-06-13T10:05:26.649676Z",
     "start_time": "2025-06-13T10:05:26.632450Z"
    },
    "execution": {
     "iopub.execute_input": "2025-01-14T13:58:12.606934Z",
     "iopub.status.busy": "2025-01-14T13:58:12.606579Z",
     "iopub.status.idle": "2025-01-14T13:58:12.663056Z",
     "shell.execute_reply": "2025-01-14T13:58:12.662044Z"
    },
    "papermill": {
     "duration": 0.08818,
     "end_time": "2025-01-14T13:58:12.665568",
     "exception": false,
     "start_time": "2025-01-14T13:58:12.577388",
     "status": "completed"
    },
    "tags": []
   },
   "outputs": [],
   "source": [
    "# Simplify combined types\n",
    "train_data['primary_vehicle_type'] = train_data['primary_vehicle_type'].replace({\n",
    "    'SUV / Geländewagen / Pickup': 'SUV',\n",
    "    'Geländewagen / Pickup': 'SUV',\n",
    "    'Cabrio / Roadster':'Cabrio',\n",
    "    'Van / Minibus':'Van',\n",
    "    'Sportwagen / Coupé':'Sportwagen'\n",
    "})\n",
    "test_data['primary_vehicle_type'] = test_data['primary_vehicle_type'].replace({\n",
    "    'SUV / Geländewagen / Pickup': 'SUV',\n",
    "    'Geländewagen / Pickup': 'SUV',\n",
    "    'Cabrio / Roadster':'Cabrio',\n",
    "    'Van / Minibus':'Van',\n",
    "    'Sportwagen / Coupé':'Sportwagen'\n",
    "})"
   ]
  },
  {
   "cell_type": "code",
   "execution_count": 21,
   "id": "1088037c5d253e46",
   "metadata": {
    "ExecuteTime": {
     "end_time": "2025-06-13T10:05:31.591012Z",
     "start_time": "2025-06-13T10:05:31.585430Z"
    }
   },
   "outputs": [
    {
     "data": {
      "text/plain": [
       "0    Vorführfahrzeug\n",
       "Name: descriptor, dtype: object"
      ]
     },
     "execution_count": 21,
     "metadata": {},
     "output_type": "execute_result"
    }
   ],
   "source": [
    "train_data['descriptor'].mode()"
   ]
  },
  {
   "cell_type": "code",
   "execution_count": 22,
   "id": "359a2787",
   "metadata": {
    "ExecuteTime": {
     "end_time": "2025-06-13T10:06:32.945288Z",
     "start_time": "2025-06-13T10:06:32.930538Z"
    },
    "execution": {
     "iopub.execute_input": "2025-01-14T13:58:12.722762Z",
     "iopub.status.busy": "2025-01-14T13:58:12.722414Z",
     "iopub.status.idle": "2025-01-14T13:58:12.746996Z",
     "shell.execute_reply": "2025-01-14T13:58:12.745658Z"
    },
    "papermill": {
     "duration": 0.056226,
     "end_time": "2025-01-14T13:58:12.749476",
     "exception": false,
     "start_time": "2025-01-14T13:58:12.693250",
     "status": "completed"
    },
    "tags": []
   },
   "outputs": [],
   "source": [
    "train_data['descriptor']=train_data['descriptor'].fillna(train_data['descriptor'].mode().iloc[0])\n",
    "test_data['descriptor']=test_data['descriptor'].fillna(test_data['descriptor'].mode().iloc[0])"
   ]
  },
  {
   "cell_type": "code",
   "execution_count": 23,
   "id": "b5ec184dc54164f4",
   "metadata": {
    "ExecuteTime": {
     "end_time": "2025-06-13T10:07:00.739052Z",
     "start_time": "2025-06-13T10:07:00.734384Z"
    }
   },
   "outputs": [
    {
     "data": {
      "text/plain": [
       "np.int64(0)"
      ]
     },
     "execution_count": 23,
     "metadata": {},
     "output_type": "execute_result"
    }
   ],
   "source": [
    "train_data['descriptor'].isna().sum()"
   ]
  },
  {
   "cell_type": "markdown",
   "id": "0eea4c8c",
   "metadata": {
    "execution": {
     "iopub.execute_input": "2025-01-10T10:23:54.992636Z",
     "iopub.status.busy": "2025-01-10T10:23:54.991896Z",
     "iopub.status.idle": "2025-01-10T10:23:54.998379Z",
     "shell.execute_reply": "2025-01-10T10:23:54.997042Z",
     "shell.execute_reply.started": "2025-01-10T10:23:54.992599Z"
    },
    "papermill": {
     "duration": 0.027145,
     "end_time": "2025-01-14T13:58:12.805024",
     "exception": false,
     "start_time": "2025-01-14T13:58:12.777879",
     "status": "completed"
    },
    "tags": []
   },
   "source": [
    "**Processing Make**"
   ]
  },
  {
   "cell_type": "code",
   "execution_count": 24,
   "id": "b402465a",
   "metadata": {
    "ExecuteTime": {
     "end_time": "2025-06-13T10:07:50.662868Z",
     "start_time": "2025-06-13T10:07:50.657215Z"
    },
    "execution": {
     "iopub.execute_input": "2025-01-14T13:58:12.914539Z",
     "iopub.status.busy": "2025-01-14T13:58:12.914167Z",
     "iopub.status.idle": "2025-01-14T13:58:12.927356Z",
     "shell.execute_reply": "2025-01-14T13:58:12.926195Z"
    },
    "papermill": {
     "duration": 0.097358,
     "end_time": "2025-01-14T13:58:12.929652",
     "exception": false,
     "start_time": "2025-01-14T13:58:12.832294",
     "status": "completed"
    },
    "tags": []
   },
   "outputs": [
    {
     "data": {
      "text/plain": [
       "array(['Mercedes-Benz', 'Toyota', 'Volkswagen', 'Volvo', 'Saab',\n",
       "       'Bentley', 'Opel', 'Fisker', 'Audi', 'Renault', 'Maserati', 'Ford',\n",
       "       'Maybach', 'Nissan', 'Skoda', 'Suzuki', 'Infiniti', 'Hyundai',\n",
       "       'Mazda', 'Lotus', 'DS Automobiles', 'Lancia', 'Smart', 'Isuzu',\n",
       "       'Andere', 'Chrysler', 'Hamann', 'Daihatsu', 'Ligier'], dtype=object)"
      ]
     },
     "execution_count": 24,
     "metadata": {},
     "output_type": "execute_result"
    }
   ],
   "source": [
    "train_data['make'].unique()"
   ]
  },
  {
   "cell_type": "code",
   "execution_count": 25,
   "id": "f6e461a78f22260d",
   "metadata": {
    "ExecuteTime": {
     "end_time": "2025-06-13T07:38:57.570834Z",
     "start_time": "2025-06-13T07:38:57.567136Z"
    }
   },
   "outputs": [
    {
     "data": {
      "text/plain": [
       "make\n",
       "Mercedes-Benz     27752\n",
       "Volkswagen        21953\n",
       "Opel               9970\n",
       "Ford               6162\n",
       "Volvo              5907\n",
       "Renault            4874\n",
       "Skoda              4381\n",
       "Nissan             3401\n",
       "Hyundai            3367\n",
       "Toyota             2935\n",
       "Audi               2121\n",
       "Mazda              2113\n",
       "Suzuki             1239\n",
       "Maserati            510\n",
       "Smart               507\n",
       "Infiniti            483\n",
       "Bentley             249\n",
       "DS Automobiles      242\n",
       "Saab                111\n",
       "Lancia              108\n",
       "Chrysler             92\n",
       "Isuzu                34\n",
       "Lotus                23\n",
       "Maybach              21\n",
       "Andere               19\n",
       "Fisker                4\n",
       "Hamann                1\n",
       "Daihatsu              1\n",
       "Ligier                1\n",
       "Name: count, dtype: int64"
      ]
     },
     "execution_count": 25,
     "metadata": {},
     "output_type": "execute_result"
    }
   ],
   "source": [
    "make_counts = train_data['make'].value_counts()\n",
    "make_counts"
   ]
  },
  {
   "cell_type": "code",
   "execution_count": 26,
   "id": "bec52b05",
   "metadata": {
    "ExecuteTime": {
     "end_time": "2025-06-13T07:38:57.833244Z",
     "start_time": "2025-06-13T07:38:57.599644Z"
    },
    "execution": {
     "iopub.execute_input": "2025-01-14T13:58:12.988881Z",
     "iopub.status.busy": "2025-01-14T13:58:12.988088Z",
     "iopub.status.idle": "2025-01-14T13:58:13.553194Z",
     "shell.execute_reply": "2025-01-14T13:58:13.551833Z"
    },
    "papermill": {
     "duration": 0.597626,
     "end_time": "2025-01-14T13:58:13.555893",
     "exception": false,
     "start_time": "2025-01-14T13:58:12.958267",
     "status": "completed"
    },
    "tags": []
   },
   "outputs": [
    {
     "data": {
      "image/png": "[encoded data removed]",
      "text/plain": [
       "<Figure size 1200x600 with 1 Axes>"
      ]
     },
     "metadata": {},
     "output_type": "display_data"
    }
   ],
   "source": [
    "import matplotlib.pyplot as plt\n",
    "\n",
    "fig, ax = plt.subplots(figsize=(12, 6))\n",
    "ax.bar(make_counts.index, make_counts.values, edgecolor='black')\n",
    "ax.set_title('Histogram of make distribution')\n",
    "plt.xticks(rotation=90)\n",
    "ax.set_xlabel('make')\n",
    "ax.set_ylabel('Frequency')\n",
    "plt.show()"
   ]
  },
  {
   "cell_type": "code",
   "execution_count": 27,
   "id": "18eed9f7",
   "metadata": {
    "ExecuteTime": {
     "end_time": "2025-06-13T10:14:51.630679Z",
     "start_time": "2025-06-13T10:14:51.604081Z"
    },
    "execution": {
     "iopub.execute_input": "2025-01-14T13:58:13.702288Z",
     "iopub.status.busy": "2025-01-14T13:58:13.701841Z",
     "iopub.status.idle": "2025-01-14T13:58:13.791939Z",
     "shell.execute_reply": "2025-01-14T13:58:13.790687Z"
    },
    "papermill": {
     "duration": 0.123721,
     "end_time": "2025-01-14T13:58:13.794562",
     "exception": false,
     "start_time": "2025-01-14T13:58:13.670841",
     "status": "completed"
    },
    "tags": []
   },
   "outputs": [
    {
     "data": {
      "text/plain": [
       "Index(['Mercedes-Benz', 'Volkswagen', 'Opel', 'Ford', 'Volvo', 'Renault',\n",
       "       'Skoda', 'Nissan', 'Hyundai', 'Toyota', 'Audi', 'Mazda', 'Suzuki'],\n",
       "      dtype='object', name='make')"
      ]
     },
     "execution_count": 27,
     "metadata": {},
     "output_type": "execute_result"
    }
   ],
   "source": [
    "threshold = 1000  \n",
    "top_make = train_data['make'].value_counts()[train_data['make'].value_counts() > threshold].index\n",
    "train_data['make'] = train_data['make'].apply(lambda x: x if x in top_make else 'Other')\n",
    "top_make\n"
   ]
  },
  {
   "cell_type": "code",
   "execution_count": 28,
   "id": "1c9f65db",
   "metadata": {
    "ExecuteTime": {
     "end_time": "2025-06-13T10:14:54.839180Z",
     "start_time": "2025-06-13T10:14:54.767309Z"
    },
    "execution": {
     "iopub.execute_input": "2025-01-14T13:58:13.856476Z",
     "iopub.status.busy": "2025-01-14T13:58:13.855079Z",
     "iopub.status.idle": "2025-01-14T13:58:14.295490Z",
     "shell.execute_reply": "2025-01-14T13:58:14.294223Z"
    },
    "papermill": {
     "duration": 0.474653,
     "end_time": "2025-01-14T13:58:14.297865",
     "exception": false,
     "start_time": "2025-01-14T13:58:13.823212",
     "status": "completed"
    },
    "tags": []
   },
   "outputs": [
    {
     "data": {
      "image/png": "[encoded data removed]",
      "text/plain": [
       "<Figure size 1200x600 with 1 Axes>"
      ]
     },
     "metadata": {},
     "output_type": "display_data"
    }
   ],
   "source": [
    "import matplotlib.pyplot as plt\n",
    "\n",
    "fig, ax = plt.subplots(figsize=(12, 6))\n",
    "\n",
    "ax.bar(train_data['make'].value_counts().index, train_data['make'].value_counts().values, edgecolor='black')\n",
    "ax.set_title('Histogram of make distribution')\n",
    "plt.xticks(rotation=90)\n",
    "ax.set_xlabel('make')\n",
    "ax.set_ylabel('Frequency')\n",
    "plt.show()"
   ]
  },
  {
   "cell_type": "code",
   "execution_count": 29,
   "id": "38ee16efa953004c",
   "metadata": {
    "ExecuteTime": {
     "end_time": "2025-06-13T10:16:22.229266Z",
     "start_time": "2025-06-13T10:16:22.206897Z"
    }
   },
   "outputs": [
    {
     "name": "stdout",
     "output_type": "stream",
     "text": [
      "0              Nissan\n",
      "1          Volkswagen\n",
      "2              Nissan\n",
      "3               Volvo\n",
      "4             Hyundai\n",
      "            ...      \n",
      "9869    Mercedes-Benz\n",
      "9870           Toyota\n",
      "9871           Toyota\n",
      "9872    Mercedes-Benz\n",
      "9873           Suzuki\n",
      "Name: make, Length: 9874, dtype: object\n"
     ]
    }
   ],
   "source": [
    "unique_make = train_data['make'].unique()\n",
    "test_data['make'] = test_data['make'].apply(lambda x: x if x in unique_make else 'Other')\n",
    "print(test_data['make'])"
   ]
  },
  {
   "cell_type": "code",
   "execution_count": 30,
   "id": "2220875e",
   "metadata": {
    "ExecuteTime": {
     "end_time": "2025-06-13T10:16:29.116385Z",
     "start_time": "2025-06-13T10:16:29.063441Z"
    },
    "execution": {
     "iopub.execute_input": "2025-01-14T13:58:14.495347Z",
     "iopub.status.busy": "2025-01-14T13:58:14.494071Z",
     "iopub.status.idle": "2025-01-14T13:58:14.959994Z",
     "shell.execute_reply": "2025-01-14T13:58:14.958844Z"
    },
    "papermill": {
     "duration": 0.49889,
     "end_time": "2025-01-14T13:58:14.962363",
     "exception": false,
     "start_time": "2025-01-14T13:58:14.463473",
     "status": "completed"
    },
    "tags": []
   },
   "outputs": [
    {
     "data": {
      "image/png": "[encoded data removed]",
      "text/plain": [
       "<Figure size 1200x600 with 1 Axes>"
      ]
     },
     "metadata": {},
     "output_type": "display_data"
    }
   ],
   "source": [
    "\n",
    "fig, ax = plt.subplots(figsize=(12, 6))\n",
    "\n",
    "ax.bar(test_data['make'].value_counts().index, test_data['make'].value_counts().values, edgecolor='black')\n",
    "ax.set_title('Histogram of make distribution')\n",
    "plt.xticks(rotation=90)\n",
    "ax.set_xlabel('make')\n",
    "ax.set_ylabel('Frequency')\n",
    "plt.show()\n"
   ]
  },
  {
   "cell_type": "markdown",
   "id": "f99d6633",
   "metadata": {
    "papermill": {
     "duration": 0.029965,
     "end_time": "2025-01-14T13:58:15.021997",
     "exception": false,
     "start_time": "2025-01-14T13:58:14.992032",
     "status": "completed"
    },
    "tags": []
   },
   "source": [
    "\n",
    "**Processing Erstzulassung**"
   ]
  },
  {
   "cell_type": "code",
   "execution_count": 31,
   "id": "c67a3620",
   "metadata": {
    "ExecuteTime": {
     "end_time": "2025-06-13T10:19:41.539901Z",
     "start_time": "2025-06-13T10:19:41.537019Z"
    },
    "execution": {
     "iopub.execute_input": "2025-01-14T13:58:15.083876Z",
     "iopub.status.busy": "2025-01-14T13:58:15.083419Z",
     "iopub.status.idle": "2025-01-14T13:58:15.091613Z",
     "shell.execute_reply": "2025-01-14T13:58:15.090460Z"
    },
    "papermill": {
     "duration": 0.042215,
     "end_time": "2025-01-14T13:58:15.093808",
     "exception": false,
     "start_time": "2025-01-14T13:58:15.051593",
     "status": "completed"
    },
    "tags": []
   },
   "outputs": [
    {
     "data": {
      "text/plain": [
       "0     5/2008\n",
       "1     3/2008\n",
       "2     6/2002\n",
       "3     1/2003\n",
       "4    11/2012\n",
       "Name: Erstzulassung, dtype: object"
      ]
     },
     "execution_count": 31,
     "metadata": {},
     "output_type": "execute_result"
    }
   ],
   "source": [
    "train_data['Erstzulassung'].head()"
   ]
  },
  {
   "cell_type": "code",
   "execution_count": 32,
   "id": "abc66843",
   "metadata": {
    "ExecuteTime": {
     "end_time": "2025-06-13T10:19:42.301323Z",
     "start_time": "2025-06-13T10:19:42.298619Z"
    },
    "execution": {
     "iopub.execute_input": "2025-01-14T13:58:15.155457Z",
     "iopub.status.busy": "2025-01-14T13:58:15.155024Z",
     "iopub.status.idle": "2025-01-14T13:58:15.160655Z",
     "shell.execute_reply": "2025-01-14T13:58:15.159742Z"
    },
    "papermill": {
     "duration": 0.039536,
     "end_time": "2025-01-14T13:58:15.163021",
     "exception": false,
     "start_time": "2025-01-14T13:58:15.123485",
     "status": "completed"
    },
    "tags": []
   },
   "outputs": [],
   "source": [
    "def calculate_age(value,year,month):\n",
    "    age_year = year - int(value.split('/')[1])\n",
    "    age_month = month - int(value.split('/')[0])\n",
    "    if age_month < 0:\n",
    "        age_year -= 1\n",
    "        age_month += 12\n",
    "    return pd.Series([age_year, age_month])"
   ]
  },
  {
   "cell_type": "code",
   "execution_count": 33,
   "id": "6c01da861195b11f",
   "metadata": {
    "ExecuteTime": {
     "end_time": "2025-06-13T10:19:44.099132Z",
     "start_time": "2025-06-13T10:19:44.093374Z"
    }
   },
   "outputs": [
    {
     "data": {
      "text/plain": [
       "'9/2018'"
      ]
     },
     "execution_count": 33,
     "metadata": {},
     "output_type": "execute_result"
    }
   ],
   "source": [
    "train_data['Erstzulassung'].max()"
   ]
  },
  {
   "cell_type": "code",
   "execution_count": 34,
   "id": "c800ca0e",
   "metadata": {
    "ExecuteTime": {
     "end_time": "2025-06-13T10:19:47.050578Z",
     "start_time": "2025-06-13T10:19:44.706439Z"
    },
    "execution": {
     "iopub.execute_input": "2025-01-14T13:58:15.223786Z",
     "iopub.status.busy": "2025-01-14T13:58:15.223397Z",
     "iopub.status.idle": "2025-01-14T13:58:27.088094Z",
     "shell.execute_reply": "2025-01-14T13:58:27.087178Z"
    },
    "papermill": {
     "duration": 11.897877,
     "end_time": "2025-01-14T13:58:27.090527",
     "exception": false,
     "start_time": "2025-01-14T13:58:15.192650",
     "status": "completed"
    },
    "tags": []
   },
   "outputs": [],
   "source": [
    "ref_date_train = train_data['Erstzulassung'].max()\n",
    "year_train = int(ref_date_train.split('/')[1])\n",
    "month_train = int(ref_date_train.split('/')[0])\n",
    "train_available_date=pd.Timestamp(year_train,month_train,1)\n",
    "train_data[['age_year', 'age_month']] = train_data['Erstzulassung'].apply(lambda x: calculate_age(x, year_train, month_train))\n",
    "train_data['age']=train_data['age_year']*365+train_data['age_month']*30\n",
    "\n",
    "ref_date_test=test_data['Erstzulassung'].max()\n",
    "year_test = int(ref_date_test.split('/')[1])\n",
    "month_test = int(ref_date_test.split('/')[0])\n",
    "test_available_date=pd.Timestamp(year_test,month_test,1)\n",
    "test_data[['age_year', 'age_month']] = test_data['Erstzulassung'].apply(lambda x: calculate_age(x, year_test, month_test))\n",
    "test_data['age']=test_data['age_year']*365+test_data['age_month']*30"
   ]
  },
  {
   "cell_type": "code",
   "execution_count": 35,
   "id": "9484ebc448418477",
   "metadata": {
    "ExecuteTime": {
     "end_time": "2025-06-13T10:20:10.194355Z",
     "start_time": "2025-06-13T10:20:10.191455Z"
    }
   },
   "outputs": [
    {
     "data": {
      "text/plain": [
       "0        3770\n",
       "1        3830\n",
       "2        5930\n",
       "3        5715\n",
       "4        2125\n",
       "         ... \n",
       "98576    1060\n",
       "98577    -185\n",
       "98578    -185\n",
       "98579    1030\n",
       "98580    -185\n",
       "Name: age, Length: 98581, dtype: int64"
      ]
     },
     "execution_count": 35,
     "metadata": {},
     "output_type": "execute_result"
    }
   ],
   "source": [
    "train_data['age']"
   ]
  },
  {
   "cell_type": "code",
   "execution_count": 36,
   "id": "83588f7c",
   "metadata": {
    "ExecuteTime": {
     "end_time": "2025-06-13T10:23:08.229820Z",
     "start_time": "2025-06-13T10:23:08.226632Z"
    },
    "execution": {
     "iopub.execute_input": "2025-01-14T13:58:27.153010Z",
     "iopub.status.busy": "2025-01-14T13:58:27.152606Z",
     "iopub.status.idle": "2025-01-14T13:58:27.158341Z",
     "shell.execute_reply": "2025-01-14T13:58:27.157209Z"
    },
    "papermill": {
     "duration": 0.039514,
     "end_time": "2025-01-14T13:58:27.160786",
     "exception": false,
     "start_time": "2025-01-14T13:58:27.121272",
     "status": "completed"
    },
    "tags": []
   },
   "outputs": [],
   "source": [
    "# Calculate IQR\n",
    "def IQR(value):\n",
    "    Q1=value.quantile(0.25)\n",
    "    Q3=value.quantile(0.75)\n",
    "    IQR = Q3 - Q1\n",
    "    lower_bound = Q1 - 1.5 * IQR\n",
    "    upper_bound = Q3 + 1.5 * IQR\n",
    "    return lower_bound,upper_bound"
   ]
  },
  {
   "cell_type": "code",
   "execution_count": 37,
   "id": "ae4f56f071f2ca40",
   "metadata": {
    "ExecuteTime": {
     "end_time": "2025-06-13T10:23:08.860891Z",
     "start_time": "2025-06-13T10:23:08.858255Z"
    }
   },
   "outputs": [
    {
     "data": {
      "text/plain": [
       "np.int64(9125)"
      ]
     },
     "execution_count": 37,
     "metadata": {},
     "output_type": "execute_result"
    }
   ],
   "source": [
    "train_data['age'].max()"
   ]
  },
  {
   "cell_type": "code",
   "execution_count": 38,
   "id": "54bab7c0",
   "metadata": {
    "ExecuteTime": {
     "end_time": "2025-06-13T10:25:57.647416Z",
     "start_time": "2025-06-13T10:25:57.598717Z"
    },
    "execution": {
     "iopub.execute_input": "2025-01-14T13:58:27.227033Z",
     "iopub.status.busy": "2025-01-14T13:58:27.226644Z",
     "iopub.status.idle": "2025-01-14T13:58:27.521509Z",
     "shell.execute_reply": "2025-01-14T13:58:27.520371Z"
    },
    "papermill": {
     "duration": 0.331119,
     "end_time": "2025-01-14T13:58:27.523852",
     "exception": false,
     "start_time": "2025-01-14T13:58:27.192733",
     "status": "completed"
    },
    "tags": []
   },
   "outputs": [
    {
     "data": {
      "image/png": "[encoded data removed]",
      "text/plain": [
       "<Figure size 640x480 with 1 Axes>"
      ]
     },
     "metadata": {},
     "output_type": "display_data"
    }
   ],
   "source": [
    "#histogram\n",
    "fig, ax = plt.subplots()\n",
    "ax.hist(test_data['age'], bins=30, edgecolor='black')\n",
    "ax.set_title('Histogram of age')\n",
    "ax.set_xlabel('Age in days')\n",
    "ax.set_ylabel('Frequency')\n",
    "plt.show()"
   ]
  },
  {
   "cell_type": "code",
   "execution_count": 39,
   "id": "e49d484c503a4c0b",
   "metadata": {
    "ExecuteTime": {
     "end_time": "2025-06-13T10:25:31.626110Z",
     "start_time": "2025-06-13T10:25:31.591268Z"
    }
   },
   "outputs": [],
   "source": [
    "train_lb_l,train_ub_l=IQR(train_data['age'])\n",
    "test_lb_l,test_ub_l=IQR(test_data['age'])\n",
    "\n",
    "train_data_filtered = train_data[(train_data['age'] >= train_lb_l) & (train_data['age'] <= train_ub_l)]\n",
    "test_data['age'] = np.clip(test_data['age'], test_lb_l, test_ub_l)\n",
    "\n",
    "train_data = train_data_filtered.copy()\n",
    "\n",
    "train_data.reset_index(drop=True, inplace=True)"
   ]
  },
  {
   "cell_type": "code",
   "execution_count": 40,
   "id": "b8f07014",
   "metadata": {
    "ExecuteTime": {
     "end_time": "2025-06-13T10:25:33.193956Z",
     "start_time": "2025-06-13T10:25:33.177401Z"
    },
    "execution": {
     "iopub.execute_input": "2025-01-14T13:58:27.585629Z",
     "iopub.status.busy": "2025-01-14T13:58:27.585245Z",
     "iopub.status.idle": "2025-01-14T13:58:27.614727Z",
     "shell.execute_reply": "2025-01-14T13:58:27.613643Z"
    },
    "papermill": {
     "duration": 0.063223,
     "end_time": "2025-01-14T13:58:27.617225",
     "exception": false,
     "start_time": "2025-01-14T13:58:27.554002",
     "status": "completed"
    },
    "tags": []
   },
   "outputs": [],
   "source": [
    "train_data.drop(columns=['Erstzulassung','age_year','age_month'],inplace=True)\n",
    "test_data.drop(columns=['Erstzulassung','age_year','age_month'],inplace=True)"
   ]
  },
  {
   "cell_type": "code",
   "execution_count": 41,
   "id": "f9606d20c539b1e",
   "metadata": {},
   "outputs": [
    {
     "data": {
      "text/plain": [
       "0        3770\n",
       "1        3830\n",
       "2        2125\n",
       "3        2095\n",
       "4        3220\n",
       "         ... \n",
       "93031    1060\n",
       "93032    -185\n",
       "93033    -185\n",
       "93034    1030\n",
       "93035    -185\n",
       "Name: age, Length: 93036, dtype: int64"
      ]
     },
     "execution_count": 41,
     "metadata": {},
     "output_type": "execute_result"
    }
   ],
   "source": [
    "train_data['age']"
   ]
  },
  {
   "cell_type": "markdown",
   "id": "4be19c37",
   "metadata": {
    "papermill": {
     "duration": 0.029665,
     "end_time": "2025-01-14T13:58:27.677569",
     "exception": false,
     "start_time": "2025-01-14T13:58:27.647904",
     "status": "completed"
    },
    "tags": []
   },
   "source": [
    "**Processing Leistung**"
   ]
  },
  {
   "cell_type": "code",
   "execution_count": 42,
   "id": "05f9eb58",
   "metadata": {
    "ExecuteTime": {
     "end_time": "2025-06-13T10:26:20.354790Z",
     "start_time": "2025-06-13T10:26:20.349152Z"
    },
    "execution": {
     "iopub.execute_input": "2025-01-14T13:58:27.741641Z",
     "iopub.status.busy": "2025-01-14T13:58:27.741249Z",
     "iopub.status.idle": "2025-01-14T13:58:27.755155Z",
     "shell.execute_reply": "2025-01-14T13:58:27.754003Z"
    },
    "papermill": {
     "duration": 0.047333,
     "end_time": "2025-01-14T13:58:27.757364",
     "exception": false,
     "start_time": "2025-01-14T13:58:27.710031",
     "status": "completed"
    },
    "tags": []
   },
   "outputs": [
    {
     "data": {
      "text/plain": [
       "count    93036.000000\n",
       "mean       173.039436\n",
       "std         88.438566\n",
       "min          0.000000\n",
       "25%        120.000000\n",
       "50%        150.000000\n",
       "75%        190.000000\n",
       "max        802.000000\n",
       "Name: Leistung, dtype: float64"
      ]
     },
     "execution_count": 42,
     "metadata": {},
     "output_type": "execute_result"
    }
   ],
   "source": [
    "train_data['Leistung'].describe()"
   ]
  },
  {
   "cell_type": "code",
   "execution_count": 43,
   "id": "92e6bedc",
   "metadata": {
    "ExecuteTime": {
     "end_time": "2025-06-13T10:26:55.139526Z",
     "start_time": "2025-06-13T10:26:55.095823Z"
    },
    "execution": {
     "iopub.execute_input": "2025-01-14T13:58:27.820085Z",
     "iopub.status.busy": "2025-01-14T13:58:27.819671Z",
     "iopub.status.idle": "2025-01-14T13:58:28.100316Z",
     "shell.execute_reply": "2025-01-14T13:58:28.099214Z"
    },
    "papermill": {
     "duration": 0.314589,
     "end_time": "2025-01-14T13:58:28.102636",
     "exception": false,
     "start_time": "2025-01-14T13:58:27.788047",
     "status": "completed"
    },
    "tags": []
   },
   "outputs": [
    {
     "data": {
      "image/png": "[encoded data removed]",
      "text/plain": [
       "<Figure size 640x480 with 1 Axes>"
      ]
     },
     "metadata": {},
     "output_type": "display_data"
    }
   ],
   "source": [
    "#boxplot\n",
    "fig, ax = plt.subplots()\n",
    "ax.boxplot(train_data['Leistung'])\n",
    "ax.set_title('Leistung Distribution')\n",
    "ax.set_xticklabels(['Leistung'])\n",
    "ax.set_ylabel('Values')\n",
    "plt.show()"
   ]
  },
  {
   "cell_type": "code",
   "execution_count": 44,
   "id": "9734da91",
   "metadata": {
    "ExecuteTime": {
     "end_time": "2025-06-13T10:26:58.387013Z",
     "start_time": "2025-06-13T10:26:58.362447Z"
    },
    "execution": {
     "iopub.execute_input": "2025-01-14T13:58:28.165341Z",
     "iopub.status.busy": "2025-01-14T13:58:28.164924Z",
     "iopub.status.idle": "2025-01-14T13:58:28.275095Z",
     "shell.execute_reply": "2025-01-14T13:58:28.273972Z"
    },
    "papermill": {
     "duration": 0.144297,
     "end_time": "2025-01-14T13:58:28.277639",
     "exception": false,
     "start_time": "2025-01-14T13:58:28.133342",
     "status": "completed"
    },
    "tags": []
   },
   "outputs": [],
   "source": [
    "train_lb_l,train_ub_l=IQR(train_data['Leistung'])\n",
    "test_lb_l,test_ub_l=IQR(test_data['Leistung'])\n",
    "\n",
    "train_data_filtered = train_data[(train_data['Leistung'] >= train_lb_l) & (train_data['Leistung'] <= train_ub_l)]\n",
    "test_data['Leistung'] = np.clip(test_data['Leistung'], test_lb_l, test_ub_l)\n",
    "\n",
    "train_data = train_data_filtered.copy()\n",
    "\n",
    "train_data.reset_index(drop=True, inplace=True)"
   ]
  },
  {
   "cell_type": "code",
   "execution_count": 45,
   "id": "0fc437e5",
   "metadata": {
    "ExecuteTime": {
     "end_time": "2025-06-13T07:39:00.491715Z",
     "start_time": "2025-06-13T07:39:00.487765Z"
    },
    "execution": {
     "iopub.execute_input": "2025-01-14T13:58:28.342708Z",
     "iopub.status.busy": "2025-01-14T13:58:28.342287Z",
     "iopub.status.idle": "2025-01-14T13:58:28.355517Z",
     "shell.execute_reply": "2025-01-14T13:58:28.354375Z"
    },
    "papermill": {
     "duration": 0.047667,
     "end_time": "2025-01-14T13:58:28.357731",
     "exception": false,
     "start_time": "2025-01-14T13:58:28.310064",
     "status": "completed"
    },
    "tags": []
   },
   "outputs": [
    {
     "data": {
      "text/plain": [
       "count    86049.000000\n",
       "mean       152.731850\n",
       "std         46.865482\n",
       "min         45.000000\n",
       "25%        117.000000\n",
       "50%        150.000000\n",
       "75%        179.000000\n",
       "max        292.000000\n",
       "Name: Leistung, dtype: float64"
      ]
     },
     "execution_count": 45,
     "metadata": {},
     "output_type": "execute_result"
    }
   ],
   "source": [
    "train_data['Leistung'].describe()"
   ]
  },
  {
   "cell_type": "markdown",
   "id": "64c89f52",
   "metadata": {
    "papermill": {
     "duration": 0.03068,
     "end_time": "2025-01-14T13:58:28.525757",
     "exception": false,
     "start_time": "2025-01-14T13:58:28.495077",
     "status": "completed"
    },
    "tags": []
   },
   "source": [
    "**Processing Kraftstoffart**"
   ]
  },
  {
   "cell_type": "code",
   "execution_count": 46,
   "id": "0038b083",
   "metadata": {
    "ExecuteTime": {
     "end_time": "2025-06-13T10:39:35.290993Z",
     "start_time": "2025-06-13T10:39:35.285286Z"
    },
    "execution": {
     "iopub.execute_input": "2025-01-14T13:58:28.591947Z",
     "iopub.status.busy": "2025-01-14T13:58:28.591560Z",
     "iopub.status.idle": "2025-01-14T13:58:28.603216Z",
     "shell.execute_reply": "2025-01-14T13:58:28.602006Z"
    },
    "papermill": {
     "duration": 0.047727,
     "end_time": "2025-01-14T13:58:28.605622",
     "exception": false,
     "start_time": "2025-01-14T13:58:28.557895",
     "status": "completed"
    },
    "tags": []
   },
   "outputs": [
    {
     "data": {
      "text/plain": [
       "array(['Diesel', 'Hybrid (Diesel / Elektro)',\n",
       "       'Hybrid (Benzin/Elektro), E10-geeignet', 'Benzin, E10-geeignet',\n",
       "       'Benzin', 'Hybrid (Diesel / Elektro), Plug-in-Hybrid',\n",
       "       'Hybrid (Benzin/Elektro)', 'Diesel, Biodiesel geeignet',\n",
       "       'Erdgas (CNG)', 'Hybrid (Benzin/Elektro), Plug-in-Hybrid',\n",
       "       'Diesel, E10-geeignet', 'Autogas (LPG)',\n",
       "       'Erdgas (CNG), Biodiesel geeignet, E10-geeignet',\n",
       "       'Hybrid (Benzin/Elektro), E10-geeignet, Plug-in-Hybrid',\n",
       "       'Hybrid, Plug-in-Hybrid', 'Diesel, Plug-in-Hybrid',\n",
       "       'Diesel, Pflanzenöl geeignet', 'Autogas (LPG), E10-geeignet',\n",
       "       'Erdgas (CNG), E10-geeignet',\n",
       "       'Diesel, Biodiesel geeignet, Pflanzenöl geeignet',\n",
       "       'Benzin, E10-geeignet, Plug-in-Hybrid',\n",
       "       'Benzin, Biodiesel geeignet', 'Benzin, Plug-in-Hybrid',\n",
       "       'Benzin, Biodiesel geeignet, E10-geeignet', 'Andere',\n",
       "       'Hybrid (Benzin/Elektro), Biodiesel geeignet',\n",
       "       'Ethanol (FFV, E85 etc.)'], dtype=object)"
      ]
     },
     "execution_count": 46,
     "metadata": {},
     "output_type": "execute_result"
    }
   ],
   "source": [
    "train_data['Kraftstoffart'].unique()"
   ]
  },
  {
   "cell_type": "code",
   "execution_count": 47,
   "id": "675e514e",
   "metadata": {
    "ExecuteTime": {
     "end_time": "2025-06-13T10:41:35.248313Z",
     "start_time": "2025-06-13T10:41:35.143502Z"
    },
    "execution": {
     "iopub.execute_input": "2025-01-14T13:58:28.670636Z",
     "iopub.status.busy": "2025-01-14T13:58:28.670236Z",
     "iopub.status.idle": "2025-01-14T13:58:29.118439Z",
     "shell.execute_reply": "2025-01-14T13:58:29.117412Z"
    },
    "papermill": {
     "duration": 0.483493,
     "end_time": "2025-01-14T13:58:29.120970",
     "exception": false,
     "start_time": "2025-01-14T13:58:28.637477",
     "status": "completed"
    },
    "tags": []
   },
   "outputs": [],
   "source": [
    "train_data['primary_fuel']=train_data['Kraftstoffart'].str.split(',').str[0]\n",
    "train_data['fuel_modifiers']=train_data['Kraftstoffart'].str.split(',').str[1:].apply(lambda x: ', '.join(x).strip() if x else 'None')\n",
    "\n",
    "test_data['primary_fuel']=test_data['Kraftstoffart'].str.split(',').str[0]\n",
    "test_data['fuel_modifiers']=test_data['Kraftstoffart'].str.split(',').str[1:].apply(lambda x: ', '.join(x).strip() if x else 'None')\n"
   ]
  },
  {
   "cell_type": "code",
   "execution_count": 48,
   "id": "aaab2da4",
   "metadata": {
    "ExecuteTime": {
     "end_time": "2025-06-13T10:41:47.983209Z",
     "start_time": "2025-06-13T10:41:47.970557Z"
    },
    "execution": {
     "iopub.execute_input": "2025-01-14T13:58:29.186195Z",
     "iopub.status.busy": "2025-01-14T13:58:29.185778Z",
     "iopub.status.idle": "2025-01-14T13:58:29.211459Z",
     "shell.execute_reply": "2025-01-14T13:58:29.210373Z"
    },
    "papermill": {
     "duration": 0.061168,
     "end_time": "2025-01-14T13:58:29.214319",
     "exception": false,
     "start_time": "2025-01-14T13:58:29.153151",
     "status": "completed"
    },
    "tags": []
   },
   "outputs": [],
   "source": [
    "train_data.drop(columns=['Kraftstoffart'],inplace=True)\n",
    "test_data.drop(columns=['Kraftstoffart'],inplace=True)"
   ]
  },
  {
   "cell_type": "code",
   "execution_count": 49,
   "id": "3ec0e8031e83df91",
   "metadata": {
    "ExecuteTime": {
     "end_time": "2025-06-13T10:41:52.553686Z",
     "start_time": "2025-06-13T10:41:52.548471Z"
    }
   },
   "outputs": [
    {
     "data": {
      "text/plain": [
       "array(['None', 'E10-geeignet', 'Plug-in-Hybrid', 'Biodiesel geeignet',\n",
       "       'Biodiesel geeignet,  E10-geeignet',\n",
       "       'E10-geeignet,  Plug-in-Hybrid', 'Pflanzenöl geeignet',\n",
       "       'Biodiesel geeignet,  Pflanzenöl geeignet', 'E85 etc.)'],\n",
       "      dtype=object)"
      ]
     },
     "execution_count": 49,
     "metadata": {},
     "output_type": "execute_result"
    }
   ],
   "source": [
    "train_data['fuel_modifiers'].unique()"
   ]
  },
  {
   "cell_type": "code",
   "execution_count": 50,
   "id": "8850bce2f498008c",
   "metadata": {
    "ExecuteTime": {
     "end_time": "2025-06-13T10:42:05.448422Z",
     "start_time": "2025-06-13T10:42:05.443555Z"
    }
   },
   "outputs": [
    {
     "data": {
      "text/plain": [
       "array(['Diesel', 'Hybrid (Diesel / Elektro)', 'Hybrid (Benzin/Elektro)',\n",
       "       'Benzin', 'Erdgas (CNG)', 'Autogas (LPG)', 'Hybrid', 'Andere',\n",
       "       'Ethanol (FFV'], dtype=object)"
      ]
     },
     "execution_count": 50,
     "metadata": {},
     "output_type": "execute_result"
    }
   ],
   "source": [
    "train_data['primary_fuel'].unique()\n"
   ]
  },
  {
   "cell_type": "code",
   "execution_count": 51,
   "id": "136efc504463d493",
   "metadata": {
    "ExecuteTime": {
     "end_time": "2025-06-13T10:42:37.017062Z",
     "start_time": "2025-06-13T10:42:37.013569Z"
    }
   },
   "outputs": [
    {
     "data": {
      "text/plain": [
       "np.int64(0)"
      ]
     },
     "execution_count": 51,
     "metadata": {},
     "output_type": "execute_result"
    }
   ],
   "source": [
    "train_data['fuel_modifiers'].isna().sum()"
   ]
  },
  {
   "cell_type": "markdown",
   "id": "e6441709",
   "metadata": {
    "papermill": {
     "duration": 0.0308,
     "end_time": "2025-01-14T13:58:29.277003",
     "exception": false,
     "start_time": "2025-01-14T13:58:29.246203",
     "status": "completed"
    },
    "tags": []
   },
   "source": [
    "# **Filling the NA values in to the dataframe**"
   ]
  },
  {
   "cell_type": "markdown",
   "id": "77034d49",
   "metadata": {
    "papermill": {
     "duration": 0.032129,
     "end_time": "2025-01-14T13:58:29.340025",
     "exception": false,
     "start_time": "2025-01-14T13:58:29.307896",
     "status": "completed"
    },
    "tags": []
   },
   "source": [
    "**Handling Missing Values in Colour**"
   ]
  },
  {
   "cell_type": "code",
   "execution_count": 52,
   "id": "fb8f2108",
   "metadata": {
    "ExecuteTime": {
     "end_time": "2025-06-13T10:43:15.530902Z",
     "start_time": "2025-06-13T10:43:15.527248Z"
    },
    "execution": {
     "iopub.execute_input": "2025-01-14T13:58:29.403814Z",
     "iopub.status.busy": "2025-01-14T13:58:29.403442Z",
     "iopub.status.idle": "2025-01-14T13:58:29.415188Z",
     "shell.execute_reply": "2025-01-14T13:58:29.414176Z"
    },
    "papermill": {
     "duration": 0.046327,
     "end_time": "2025-01-14T13:58:29.417359",
     "exception": false,
     "start_time": "2025-01-14T13:58:29.371032",
     "status": "completed"
    },
    "tags": []
   },
   "outputs": [
    {
     "data": {
      "text/plain": [
       "array(['Schwarz Metallic', 'Grau Metallic', 'Schwarz', 'Blau Metallic',\n",
       "       'Weiß', 'Grün Metallic', 'Beige Metallic', 'Weiß Metallic',\n",
       "       'Silber Metallic', 'Braun Metallic', 'Blau', 'Violett Metallic',\n",
       "       'Orange Metallic', 'Rot', 'Silber', 'Orange', 'Gelb Metallic',\n",
       "       'Gelb', 'Rot Metallic', 'Gold Metallic', nan, 'Grau', 'Grün',\n",
       "       'Braun', 'Gold', 'Beige', 'Violett'], dtype=object)"
      ]
     },
     "execution_count": 52,
     "metadata": {},
     "output_type": "execute_result"
    }
   ],
   "source": [
    "train_data['colour'].unique()"
   ]
  },
  {
   "cell_type": "code",
   "execution_count": 53,
   "id": "d363cad3805f89e3",
   "metadata": {
    "ExecuteTime": {
     "end_time": "2025-06-13T10:43:34.779871Z",
     "start_time": "2025-06-13T10:43:34.775241Z"
    }
   },
   "outputs": [
    {
     "data": {
      "text/plain": [
       "np.int64(247)"
      ]
     },
     "execution_count": 53,
     "metadata": {},
     "output_type": "execute_result"
    }
   ],
   "source": [
    "train_data['colour'].isna().sum()"
   ]
  },
  {
   "cell_type": "code",
   "execution_count": 54,
   "id": "74db65c2",
   "metadata": {
    "ExecuteTime": {
     "end_time": "2025-06-13T10:43:50.497616Z",
     "start_time": "2025-06-13T10:43:50.488770Z"
    },
    "execution": {
     "iopub.execute_input": "2025-01-14T13:58:29.481866Z",
     "iopub.status.busy": "2025-01-14T13:58:29.481463Z",
     "iopub.status.idle": "2025-01-14T13:58:29.504175Z",
     "shell.execute_reply": "2025-01-14T13:58:29.503044Z"
    },
    "papermill": {
     "duration": 0.057781,
     "end_time": "2025-01-14T13:58:29.506707",
     "exception": false,
     "start_time": "2025-01-14T13:58:29.448926",
     "status": "completed"
    },
    "tags": []
   },
   "outputs": [],
   "source": [
    "train_data['colour']=train_data['colour'].fillna(train_data['colour'].mode().iloc[0])\n",
    "test_data['colour']=test_data['colour'].fillna(test_data['colour'].mode().iloc[0])"
   ]
  },
  {
   "cell_type": "code",
   "execution_count": 55,
   "id": "ea500195",
   "metadata": {
    "ExecuteTime": {
     "end_time": "2025-06-13T10:43:50.965731Z",
     "start_time": "2025-06-13T10:43:50.905904Z"
    },
    "execution": {
     "iopub.execute_input": "2025-01-14T13:58:29.574677Z",
     "iopub.status.busy": "2025-01-14T13:58:29.574310Z",
     "iopub.status.idle": "2025-01-14T13:58:30.057954Z",
     "shell.execute_reply": "2025-01-14T13:58:30.056776Z"
    },
    "papermill": {
     "duration": 0.520818,
     "end_time": "2025-01-14T13:58:30.060155",
     "exception": false,
     "start_time": "2025-01-14T13:58:29.539337",
     "status": "completed"
    },
    "tags": []
   },
   "outputs": [
    {
     "data": {
      "image/png": "[encoded data removed]",
      "text/plain": [
       "<Figure size 640x480 with 1 Axes>"
      ]
     },
     "metadata": {},
     "output_type": "display_data"
    }
   ],
   "source": [
    "#Piechart\n",
    "fig, ax = plt.subplots()\n",
    "counts = train_data['colour'].value_counts()\n",
    "ax.pie(counts, labels=counts.index, autopct='%.2f%%', startangle=90)\n",
    "ax.set_title('Pie Chart of Category Distribution')\n",
    "ax.axis('equal')\n",
    "plt.show()"
   ]
  },
  {
   "cell_type": "code",
   "execution_count": 56,
   "id": "1315b23d",
   "metadata": {
    "ExecuteTime": {
     "end_time": "2025-06-13T10:44:39.630556Z",
     "start_time": "2025-06-13T10:44:39.625404Z"
    },
    "execution": {
     "iopub.execute_input": "2025-01-14T13:58:30.125684Z",
     "iopub.status.busy": "2025-01-14T13:58:30.125279Z",
     "iopub.status.idle": "2025-01-14T13:58:30.140518Z",
     "shell.execute_reply": "2025-01-14T13:58:30.139133Z"
    },
    "papermill": {
     "duration": 0.050926,
     "end_time": "2025-01-14T13:58:30.142946",
     "exception": false,
     "start_time": "2025-01-14T13:58:30.092020",
     "status": "completed"
    },
    "tags": []
   },
   "outputs": [
    {
     "name": "stdout",
     "output_type": "stream",
     "text": [
      "colour\n",
      "Schwarz Metallic    20839\n",
      "Grau Metallic       14958\n",
      "Weiß                11193\n",
      "Silber Metallic     10317\n",
      "Blau Metallic        7156\n",
      "Schwarz              4431\n",
      "Weiß Metallic        4429\n",
      "Braun Metallic       3303\n",
      "Rot Metallic         2134\n",
      "Rot                  1835\n",
      "Grau                 1138\n",
      "Beige Metallic        921\n",
      "Grün Metallic         781\n",
      "Blau                  702\n",
      "Orange Metallic       474\n",
      "Gelb Metallic         272\n",
      "Silber                243\n",
      "Violett Metallic      222\n",
      "Gelb                  139\n",
      "Gold Metallic         130\n",
      "Braun                 126\n",
      "Grün                  105\n",
      "Orange                 91\n",
      "Beige                  85\n",
      "Violett                19\n",
      "Gold                    6\n",
      "Name: count, dtype: int64\n"
     ]
    }
   ],
   "source": [
    "color_counts = train_data['colour'].value_counts()\n",
    "print(color_counts)"
   ]
  },
  {
   "cell_type": "code",
   "execution_count": 57,
   "id": "aa15a58d",
   "metadata": {
    "ExecuteTime": {
     "end_time": "2025-06-13T10:45:39.432055Z",
     "start_time": "2025-06-13T10:45:39.405805Z"
    },
    "execution": {
     "iopub.execute_input": "2025-01-14T13:58:30.211090Z",
     "iopub.status.busy": "2025-01-14T13:58:30.210678Z",
     "iopub.status.idle": "2025-01-14T13:58:30.299571Z",
     "shell.execute_reply": "2025-01-14T13:58:30.298228Z"
    },
    "papermill": {
     "duration": 0.126276,
     "end_time": "2025-01-14T13:58:30.302426",
     "exception": false,
     "start_time": "2025-01-14T13:58:30.176150",
     "status": "completed"
    },
    "tags": []
   },
   "outputs": [],
   "source": [
    "threshold = 1000 \n",
    "top_colors = train_data['colour'].value_counts()[train_data['colour'].value_counts() > threshold].index\n",
    "train_data['colour'] = train_data['colour'].apply(lambda x: x if x in top_colors else 'Other')\n"
   ]
  },
  {
   "cell_type": "code",
   "execution_count": 58,
   "id": "87b71aad",
   "metadata": {
    "ExecuteTime": {
     "end_time": "2025-06-13T10:45:41.983379Z",
     "start_time": "2025-06-13T10:45:41.960241Z"
    },
    "execution": {
     "iopub.execute_input": "2025-01-14T13:58:30.368703Z",
     "iopub.status.busy": "2025-01-14T13:58:30.368301Z",
     "iopub.status.idle": "2025-01-14T13:58:30.442595Z",
     "shell.execute_reply": "2025-01-14T13:58:30.441260Z"
    },
    "papermill": {
     "duration": 0.110685,
     "end_time": "2025-01-14T13:58:30.445450",
     "exception": false,
     "start_time": "2025-01-14T13:58:30.334765",
     "status": "completed"
    },
    "tags": []
   },
   "outputs": [],
   "source": [
    "unique_colors = train_data['colour'].unique()\n",
    "test_data['colour'] = test_data['colour'].apply(lambda x: x if x in unique_colors else 'Other')"
   ]
  },
  {
   "cell_type": "markdown",
   "id": "bb95dbbf",
   "metadata": {
    "papermill": {
     "duration": 0.031822,
     "end_time": "2025-01-14T13:58:30.510066",
     "exception": false,
     "start_time": "2025-01-14T13:58:30.478244",
     "status": "completed"
    },
    "tags": []
   },
   "source": [
    "**Handling Missing Values in Kilometerstand**"
   ]
  },
  {
   "cell_type": "code",
   "execution_count": 59,
   "id": "2376889d",
   "metadata": {
    "ExecuteTime": {
     "end_time": "2025-06-13T10:46:25.941602Z",
     "start_time": "2025-06-13T10:46:25.934238Z"
    },
    "execution": {
     "iopub.execute_input": "2025-01-14T13:58:30.576009Z",
     "iopub.status.busy": "2025-01-14T13:58:30.575634Z",
     "iopub.status.idle": "2025-01-14T13:58:30.591986Z",
     "shell.execute_reply": "2025-01-14T13:58:30.590871Z"
    },
    "papermill": {
     "duration": 0.052341,
     "end_time": "2025-01-14T13:58:30.594680",
     "exception": false,
     "start_time": "2025-01-14T13:58:30.542339",
     "status": "completed"
    },
    "tags": []
   },
   "outputs": [
    {
     "data": {
      "text/plain": [
       "count    80213.000000\n",
       "mean        47.454324\n",
       "std         51.825907\n",
       "min          1.000000\n",
       "25%          9.999000\n",
       "50%         25.010000\n",
       "75%         71.807000\n",
       "max        557.771000\n",
       "Name: Kilometerstand, dtype: float64"
      ]
     },
     "execution_count": 59,
     "metadata": {},
     "output_type": "execute_result"
    }
   ],
   "source": [
    "train_data['Kilometerstand'].describe()"
   ]
  },
  {
   "cell_type": "code",
   "execution_count": 60,
   "id": "e5371aba",
   "metadata": {
    "ExecuteTime": {
     "end_time": "2025-06-13T10:47:04.395744Z",
     "start_time": "2025-06-13T10:47:04.393250Z"
    },
    "execution": {
     "iopub.execute_input": "2025-01-14T13:58:30.661709Z",
     "iopub.status.busy": "2025-01-14T13:58:30.661342Z",
     "iopub.status.idle": "2025-01-14T13:58:30.669805Z",
     "shell.execute_reply": "2025-01-14T13:58:30.668651Z"
    },
    "papermill": {
     "duration": 0.044839,
     "end_time": "2025-01-14T13:58:30.672202",
     "exception": false,
     "start_time": "2025-01-14T13:58:30.627363",
     "status": "completed"
    },
    "tags": []
   },
   "outputs": [
    {
     "data": {
      "text/plain": [
       "86044      4.000\n",
       "86045     50.133\n",
       "86046    104.290\n",
       "86047     17.700\n",
       "86048     52.300\n",
       "Name: Kilometerstand, dtype: float64"
      ]
     },
     "execution_count": 60,
     "metadata": {},
     "output_type": "execute_result"
    }
   ],
   "source": [
    "train_data['Kilometerstand'].tail()"
   ]
  },
  {
   "cell_type": "code",
   "execution_count": 61,
   "id": "8e2d416d",
   "metadata": {
    "ExecuteTime": {
     "end_time": "2025-06-13T10:47:08.080410Z",
     "start_time": "2025-06-13T10:47:08.033099Z"
    },
    "execution": {
     "iopub.execute_input": "2025-01-14T13:58:30.741962Z",
     "iopub.status.busy": "2025-01-14T13:58:30.741242Z",
     "iopub.status.idle": "2025-01-14T13:58:31.023498Z",
     "shell.execute_reply": "2025-01-14T13:58:31.022347Z"
    },
    "papermill": {
     "duration": 0.319654,
     "end_time": "2025-01-14T13:58:31.025817",
     "exception": false,
     "start_time": "2025-01-14T13:58:30.706163",
     "status": "completed"
    },
    "tags": []
   },
   "outputs": [
    {
     "data": {
      "image/png": "[encoded data removed]",
      "text/plain": [
       "<Figure size 640x480 with 1 Axes>"
      ]
     },
     "metadata": {},
     "output_type": "display_data"
    }
   ],
   "source": [
    "\n",
    "#histogram\n",
    "fig, ax = plt.subplots()\n",
    "ax.hist(test_data['Kilometerstand'], bins=20, edgecolor='black')\n",
    "ax.set_title('Histogram of Kilometerstand')\n",
    "ax.set_xlabel('Kilometerstand')\n",
    "ax.set_ylabel('Frequency')\n",
    "plt.show()\n"
   ]
  },
  {
   "cell_type": "code",
   "execution_count": 62,
   "id": "b2d742d5",
   "metadata": {
    "ExecuteTime": {
     "end_time": "2025-06-13T10:47:46.058452Z",
     "start_time": "2025-06-13T10:47:46.049718Z"
    },
    "execution": {
     "iopub.execute_input": "2025-01-14T13:58:31.094074Z",
     "iopub.status.busy": "2025-01-14T13:58:31.093577Z",
     "iopub.status.idle": "2025-01-14T13:58:31.110219Z",
     "shell.execute_reply": "2025-01-14T13:58:31.109033Z"
    },
    "papermill": {
     "duration": 0.053704,
     "end_time": "2025-01-14T13:58:31.112796",
     "exception": false,
     "start_time": "2025-01-14T13:58:31.059092",
     "status": "completed"
    },
    "tags": []
   },
   "outputs": [],
   "source": [
    "train_lb_k,train_ub_k=IQR(train_data['Kilometerstand'])\n",
    "test_lb_k,test_ub_k=IQR(test_data['Kilometerstand'])\n",
    "\n",
    "train_data['Kilometerstand'] = np.clip(train_data['Kilometerstand'], train_lb_k, train_ub_k)\n",
    "test_data['Kilometerstand'] = np.clip(test_data['Kilometerstand'], test_lb_k, test_ub_k)\n"
   ]
  },
  {
   "cell_type": "code",
   "execution_count": 63,
   "id": "003ff213",
   "metadata": {
    "ExecuteTime": {
     "end_time": "2025-06-13T10:47:50.907811Z",
     "start_time": "2025-06-13T10:47:50.900719Z"
    },
    "execution": {
     "iopub.execute_input": "2025-01-14T13:58:31.181238Z",
     "iopub.status.busy": "2025-01-14T13:58:31.180007Z",
     "iopub.status.idle": "2025-01-14T13:58:31.195801Z",
     "shell.execute_reply": "2025-01-14T13:58:31.194668Z"
    },
    "papermill": {
     "duration": 0.052338,
     "end_time": "2025-01-14T13:58:31.198021",
     "exception": false,
     "start_time": "2025-01-14T13:58:31.145683",
     "status": "completed"
    },
    "tags": []
   },
   "outputs": [
    {
     "data": {
      "text/plain": [
       "count    80213.000000\n",
       "mean        45.801664\n",
       "std         46.345548\n",
       "min          1.000000\n",
       "25%          9.999000\n",
       "50%         25.010000\n",
       "75%         71.807000\n",
       "max        164.519000\n",
       "Name: Kilometerstand, dtype: float64"
      ]
     },
     "execution_count": 63,
     "metadata": {},
     "output_type": "execute_result"
    }
   ],
   "source": [
    "train_data['Kilometerstand'].describe()"
   ]
  },
  {
   "cell_type": "code",
   "execution_count": 64,
   "id": "b2ffdbee90e97e03",
   "metadata": {
    "ExecuteTime": {
     "end_time": "2025-06-13T10:47:56.075724Z",
     "start_time": "2025-06-13T10:47:56.072314Z"
    }
   },
   "outputs": [
    {
     "data": {
      "text/plain": [
       "np.int64(5836)"
      ]
     },
     "execution_count": 64,
     "metadata": {},
     "output_type": "execute_result"
    }
   ],
   "source": [
    "train_data['Kilometerstand'].isna().sum()"
   ]
  },
  {
   "cell_type": "code",
   "execution_count": 65,
   "id": "c2299696",
   "metadata": {
    "ExecuteTime": {
     "end_time": "2025-06-13T10:47:56.643301Z",
     "start_time": "2025-06-13T10:47:56.639267Z"
    }
   },
   "outputs": [],
   "source": [
    "train_data['Kilometerstand'] = train_data['Kilometerstand'].fillna(train_data['Kilometerstand'].median())\n",
    "test_data['Kilometerstand'] = test_data['Kilometerstand'].fillna(test_data['Kilometerstand'].median())"
   ]
  },
  {
   "cell_type": "markdown",
   "id": "e318ea87",
   "metadata": {
    "papermill": {
     "duration": 0.032759,
     "end_time": "2025-01-14T13:58:31.455931",
     "exception": false,
     "start_time": "2025-01-14T13:58:31.423172",
     "status": "completed"
    },
    "tags": []
   },
   "source": [
    "**Handling Missing Values in Klimatisierung**"
   ]
  },
  {
   "cell_type": "code",
   "execution_count": 66,
   "id": "c96df732",
   "metadata": {
    "ExecuteTime": {
     "end_time": "2025-06-13T10:47:57.488920Z",
     "start_time": "2025-06-13T10:47:57.485206Z"
    },
    "execution": {
     "iopub.execute_input": "2025-01-14T13:58:31.525781Z",
     "iopub.status.busy": "2025-01-14T13:58:31.525417Z",
     "iopub.status.idle": "2025-01-14T13:58:31.537830Z",
     "shell.execute_reply": "2025-01-14T13:58:31.536652Z"
    },
    "papermill": {
     "duration": 0.049939,
     "end_time": "2025-01-14T13:58:31.540157",
     "exception": false,
     "start_time": "2025-01-14T13:58:31.490218",
     "status": "completed"
    },
    "tags": []
   },
   "outputs": [
    {
     "data": {
      "text/plain": [
       "array(['Klimaautomatik', 'Klimaanlage', '2-Zonen-Klimaautomatik',\n",
       "       'Keine Klimaanlage oder -automatik', '3-Zonen-Klimaautomatik', nan,\n",
       "       '4-Zonen-Klimaautomatik'], dtype=object)"
      ]
     },
     "execution_count": 66,
     "metadata": {},
     "output_type": "execute_result"
    }
   ],
   "source": [
    "train_data['Klimatisierung'].unique()"
   ]
  },
  {
   "cell_type": "code",
   "execution_count": 67,
   "id": "d3085894",
   "metadata": {
    "ExecuteTime": {
     "end_time": "2025-06-13T10:48:02.916766Z",
     "start_time": "2025-06-13T10:48:02.907205Z"
    },
    "execution": {
     "iopub.execute_input": "2025-01-14T13:58:31.608037Z",
     "iopub.status.busy": "2025-01-14T13:58:31.607623Z",
     "iopub.status.idle": "2025-01-14T13:58:31.632822Z",
     "shell.execute_reply": "2025-01-14T13:58:31.631684Z"
    },
    "papermill": {
     "duration": 0.061932,
     "end_time": "2025-01-14T13:58:31.635413",
     "exception": false,
     "start_time": "2025-01-14T13:58:31.573481",
     "status": "completed"
    },
    "tags": []
   },
   "outputs": [],
   "source": [
    "train_data['Klimatisierung']=train_data['Klimatisierung'].fillna(train_data['Klimatisierung'].mode().iloc[0])\n",
    "test_data['Klimatisierung']=test_data['Klimatisierung'].fillna(test_data['Klimatisierung'].mode().iloc[0])\n"
   ]
  },
  {
   "cell_type": "markdown",
   "id": "fd525a94",
   "metadata": {
    "papermill": {
     "duration": 0.033479,
     "end_time": "2025-01-14T13:58:31.702931",
     "exception": false,
     "start_time": "2025-01-14T13:58:31.669452",
     "status": "completed"
    },
    "tags": []
   },
   "source": [
    "**Handling Missing Values in Airbags**"
   ]
  },
  {
   "cell_type": "code",
   "execution_count": 68,
   "id": "b4902a14",
   "metadata": {
    "ExecuteTime": {
     "end_time": "2025-06-13T10:48:07.938685Z",
     "start_time": "2025-06-13T10:48:07.933775Z"
    },
    "execution": {
     "iopub.execute_input": "2025-01-14T13:58:31.787541Z",
     "iopub.status.busy": "2025-01-14T13:58:31.786953Z",
     "iopub.status.idle": "2025-01-14T13:58:31.802087Z",
     "shell.execute_reply": "2025-01-14T13:58:31.800737Z"
    },
    "papermill": {
     "duration": 0.063325,
     "end_time": "2025-01-14T13:58:31.804536",
     "exception": false,
     "start_time": "2025-01-14T13:58:31.741211",
     "status": "completed"
    },
    "tags": []
   },
   "outputs": [
    {
     "data": {
      "text/plain": [
       "array(['Front-, Seiten- und weitere Airbags', 'Front-Airbags',\n",
       "       'Front- und Seiten-Airbags', 'Fahrer-Airbag', nan], dtype=object)"
      ]
     },
     "execution_count": 68,
     "metadata": {},
     "output_type": "execute_result"
    }
   ],
   "source": [
    "train_data['Airbags'].unique()"
   ]
  },
  {
   "cell_type": "code",
   "execution_count": 69,
   "id": "3b30f61a",
   "metadata": {
    "ExecuteTime": {
     "end_time": "2025-06-13T10:49:36.752039Z",
     "start_time": "2025-06-13T10:49:36.736650Z"
    },
    "execution": {
     "iopub.execute_input": "2025-01-14T13:58:31.882616Z",
     "iopub.status.busy": "2025-01-14T13:58:31.882230Z",
     "iopub.status.idle": "2025-01-14T13:58:31.911904Z",
     "shell.execute_reply": "2025-01-14T13:58:31.910875Z"
    },
    "papermill": {
     "duration": 0.068188,
     "end_time": "2025-01-14T13:58:31.914576",
     "exception": false,
     "start_time": "2025-01-14T13:58:31.846388",
     "status": "completed"
    },
    "tags": []
   },
   "outputs": [],
   "source": [
    "train_data['Airbags'] = train_data['Airbags'].replace({\n",
    "    'Front-, Seiten- und weitere Airbags': 'Multiple',\n",
    "    'Front- und Seiten-Airbags': 'Multiple',\n",
    "    'Front-Airbags': 'Front',\n",
    "    'Fahrer-Airbag': 'Driver'\n",
    "})\n",
    "test_data['Airbags'] = test_data['Airbags'].replace({\n",
    "    'Front-, Seiten- und weitere Airbags': 'Multiple',\n",
    "    'Front- und Seiten-Airbags': 'Multiple',\n",
    "    'Front-Airbags': 'Front',\n",
    "    'Fahrer-Airbag': 'Driver'\n",
    "})"
   ]
  },
  {
   "cell_type": "code",
   "execution_count": 70,
   "id": "f13e6405",
   "metadata": {
    "ExecuteTime": {
     "end_time": "2025-06-13T10:49:37.312834Z",
     "start_time": "2025-06-13T10:49:37.302867Z"
    },
    "execution": {
     "iopub.execute_input": "2025-01-14T13:58:31.985645Z",
     "iopub.status.busy": "2025-01-14T13:58:31.984824Z",
     "iopub.status.idle": "2025-01-14T13:58:32.004653Z",
     "shell.execute_reply": "2025-01-14T13:58:32.003529Z"
    },
    "papermill": {
     "duration": 0.058438,
     "end_time": "2025-01-14T13:58:32.006995",
     "exception": false,
     "start_time": "2025-01-14T13:58:31.948557",
     "status": "completed"
    },
    "tags": []
   },
   "outputs": [],
   "source": [
    "train_data['Airbags']=train_data['Airbags'].fillna(train_data['Airbags'].mode().iloc[0])\n",
    "test_data['Airbags']=test_data['Airbags'].fillna(test_data['Airbags'].mode().iloc[0])"
   ]
  },
  {
   "cell_type": "markdown",
   "id": "12390d4e",
   "metadata": {
    "papermill": {
     "duration": 0.033638,
     "end_time": "2025-01-14T13:58:32.074561",
     "exception": false,
     "start_time": "2025-01-14T13:58:32.040923",
     "status": "completed"
    },
    "tags": []
   },
   "source": [
    "**Handling Missing Values in Verfügbarkeit**"
   ]
  },
  {
   "cell_type": "code",
   "execution_count": 71,
   "id": "d7af99ac",
   "metadata": {
    "ExecuteTime": {
     "end_time": "2025-06-13T10:49:54.521292Z",
     "start_time": "2025-06-13T10:49:54.515981Z"
    },
    "execution": {
     "iopub.execute_input": "2025-01-14T13:58:32.146330Z",
     "iopub.status.busy": "2025-01-14T13:58:32.145879Z",
     "iopub.status.idle": "2025-01-14T13:58:32.160344Z",
     "shell.execute_reply": "2025-01-14T13:58:32.159100Z"
    },
    "papermill": {
     "duration": 0.053894,
     "end_time": "2025-01-14T13:58:32.162744",
     "exception": false,
     "start_time": "2025-01-14T13:58:32.108850",
     "status": "completed"
    },
    "tags": []
   },
   "outputs": [
    {
     "data": {
      "text/plain": [
       "array([nan, 'Sofort', 'In 1 Tag ab Bestellung',\n",
       "       'In 3 Tagen ab Bestellung', 'In 2 Tagen ab Bestellung',\n",
       "       'In 5 Tagen ab Bestellung', 'In 3 Monaten ab Bestellung',\n",
       "       'Ab 13.10.2018', 'Ab 16.04.2018', 'Ab 20.12.2017',\n",
       "       'In 1 Woche ab Bestellung', 'Ab 10.12.2017', 'Ab 14.12.2017',\n",
       "       'Ab 15.12.2017', 'Ab 12.01.2018', 'In 6 Tagen ab Bestellung',\n",
       "       'Ab 09.05.2018', 'Ab 07.12.2017', 'In 6 Monaten ab Bestellung',\n",
       "       'Ab 08.05.2018', 'Ab 03.01.2018', 'Ab 12.03.2018', 'Ab 04.04.2019',\n",
       "       'Ab 15.05.2018', 'Ab 18.05.2018', 'Ab 14.02.2018',\n",
       "       'In 4 Tagen ab Bestellung', 'Ab 10.05.2018', 'Ab 20.02.2018',\n",
       "       'Ab 15.04.2018', 'Ab 21.02.2018', 'In 2 Monaten ab Bestellung',\n",
       "       'Ab 16.03.2018', 'Ab 05.12.2017', 'In 6 Wochen ab Bestellung',\n",
       "       'Ab 02.04.2018', 'Ab 15.03.2018', 'Ab 15.01.2018', 'Ab 18.12.2017',\n",
       "       'In 2 Wochen ab Bestellung', 'Ab 30.12.2017', 'Ab 16.01.2018',\n",
       "       'Ab 08.01.2018', 'Ab 14.06.2018', 'Ab 02.01.2018', 'Ab 13.12.2017',\n",
       "       'Ab 21.12.2017', 'Ab 29.12.2017', 'Ab 01.06.2020', 'Ab 09.12.2017',\n",
       "       'Ab 19.05.2018', 'Ab 27.12.2017', 'Ab 10.01.2018', 'Ab 02.03.2018',\n",
       "       'Ab 05.03.2018', 'Ab 20.04.2018', 'Ab 12.02.2018', 'Ab 05.02.2018',\n",
       "       'Ab 09.04.2018', 'Ab 31.01.2018', 'Ab 29.01.2018', 'Ab 30.06.2018',\n",
       "       'Ab 22.02.2018', 'Ab 09.02.2018', 'Ab 17.02.2018', 'Ab 01.01.2018',\n",
       "       'Ab 11.05.2018', 'Ab 21.01.2019', 'Ab 01.03.2018', 'Ab 23.01.2018',\n",
       "       'Ab 16.12.2017', 'Ab 01.04.2018', 'Ab 23.12.2017', 'Ab 07.03.2018',\n",
       "       'Ab 09.03.2018', 'Ab 05.04.2018', 'Ab 12.12.2017', 'Ab 08.02.2018',\n",
       "       'Ab 25.02.2018', 'Ab 14.03.2018', 'Ab 18.03.2018', 'Ab 19.03.2018',\n",
       "       'Ab 15.02.2018', 'Ab 25.04.2018', 'Ab 23.03.2018', 'Ab 01.02.2019',\n",
       "       'Ab 16.08.2018', 'Ab 28.12.2017', 'Ab 25.01.2018', 'Ab 09.01.2018',\n",
       "       'Ab 24.12.2017', 'Ab 04.04.2018', 'Ab 06.01.2018', 'Ab 17.05.2018',\n",
       "       'Ab 14.01.2018', 'Ab 24.01.2018', 'Ab 01.02.2018', 'Ab 19.01.2018',\n",
       "       'Ab 18.04.2018', 'Ab 18.01.2018', 'Ab 15.06.2018', 'Ab 11.01.2018',\n",
       "       'Ab 13.01.2018', 'Ab 07.05.2018', 'Ab 17.04.2018', 'Ab 10.02.2018',\n",
       "       'Ab 03.05.2018', 'Ab 02.02.2018', 'Ab 21.01.2018', 'Ab 25.12.2017',\n",
       "       'Ab 01.06.2018', 'Ab 13.03.2018', 'Ab 19.04.2018', 'Ab 03.02.2018',\n",
       "       'Ab 19.02.2018', 'Ab 31.12.2017', 'Ab 03.04.2018', 'Ab 26.01.2018',\n",
       "       'Ab 22.12.2017', 'Ab 22.01.2018', 'Ab 30.01.2018', 'Ab 11.07.2018',\n",
       "       'Ab 13.02.2018', 'Ab 17.01.2018', 'Ab 17.12.2017', 'Ab 13.05.2018',\n",
       "       'Ab 06.04.2018', 'Ab 26.03.2018', 'Ab 05.01.2018', 'Ab 07.02.2018',\n",
       "       'Ab 06.02.2018', 'Ab 11.02.2018', 'Ab 04.02.2018', 'Ab 16.02.2018',\n",
       "       'Ab 27.02.2018', 'Ab 21.05.2018', 'Ab 28.01.2018', 'Ab 18.02.2018',\n",
       "       'Ab 22.05.2018', 'Ab 31.03.2018', 'Ab 27.01.2018', 'Ab 08.12.2017',\n",
       "       'Ab 25.05.2018', 'Ab 24.02.2018', 'Ab 23.05.2018', 'Ab 26.02.2018',\n",
       "       'Ab 20.03.2018', 'Ab 23.04.2018', 'Ab 24.05.2018', 'Ab 30.07.2018',\n",
       "       'Ab 19.12.2017', 'Ab 06.03.2018', 'Ab 28.02.2018', 'Ab 05.06.2018',\n",
       "       'Ab 06.12.2017', 'Ab 28.05.2018', 'Ab 04.05.2018', 'Ab 04.06.2018',\n",
       "       'Ab 04.03.2018', 'Ab 11.12.2017', 'Ab 20.01.2018', 'Ab 01.05.2018',\n",
       "       'Ab 08.03.2018', 'Ab 30.03.2018', 'Ab 29.03.2018', 'Ab 13.06.2018',\n",
       "       'Ab 07.01.2018', 'Ab 03.07.2018', 'Ab 25.03.2018', 'Ab 28.03.2018',\n",
       "       'Ab 22.03.2018', 'Ab 29.05.2018', 'Ab 07.03.2019', 'Ab 01.09.2018',\n",
       "       'In 4 Monaten ab Bestellung', 'Ab 04.01.2018', 'Ab 22.04.2018',\n",
       "       'Ab 21.03.2018', 'Ab 02.05.2018', 'Ab 30.04.2018', 'Ab 10.07.2018',\n",
       "       'Ab 27.03.2018', 'Ab 10.04.2018', 'Ab 09.07.2018', 'Ab 23.02.2018',\n",
       "       'Ab 15.07.2018', 'Ab 03.08.2018', 'Ab 12.04.2018', 'Ab 11.04.2018',\n",
       "       'Ab 02.07.2018', 'Ab 14.05.2018', 'Ab 14.04.2018', 'Ab 17.07.2018',\n",
       "       'Ab 13.04.2018', 'Ab 27.07.2018', 'Ab 19.08.2018', 'Ab 31.05.2018',\n",
       "       'Ab 20.07.2018', 'Ab 06.05.2018', 'Ab 23.07.2018', 'Ab 24.04.2018',\n",
       "       'Ab 27.04.2018', 'Ab 06.06.2018', 'Ab 07.04.2018', 'Ab 08.07.2018',\n",
       "       'Ab 08.06.2018', 'Ab 30.05.2018', 'Ab 01.08.2018', 'Ab 26.04.2018',\n",
       "       'Ab 02.06.2018', 'Ab 01.07.2018', 'Ab 22.06.2018', 'Ab 20.08.2018',\n",
       "       'Ab 08.04.2018', 'Ab 07.08.2018', 'Ab 07.06.2018', 'Ab 16.05.2018',\n",
       "       'Ab 01.11.2020', 'Ab 14.12.2018', 'Ab 28.06.2018', 'Ab 03.03.2018',\n",
       "       'Ab 10.06.2018', 'Ab 20.05.2018', 'Ab 20.06.2018', 'Ab 29.06.2018',\n",
       "       'Ab 21.06.2018', 'Ab 21.08.2018', 'Ab 11.03.2018', 'Ab 17.06.2018',\n",
       "       'Ab 24.08.2018', 'Ab 05.08.2018', 'Ab 12.06.2018', 'Ab 23.08.2018',\n",
       "       'Ab 10.03.2018', 'Ab 27.05.2018', 'Ab 25.06.2018', 'Ab 25.07.2018',\n",
       "       'Ab 27.08.2018', 'Ab 26.05.2018', 'Ab 26.06.2018', 'Ab 27.06.2018',\n",
       "       'Ab 03.06.2018', 'Ab 31.08.2018', 'Ab 05.03.2020',\n",
       "       'In 12 Monaten ab Bestellung', 'Ab 28.08.2018', 'Ab 08.09.2018',\n",
       "       'Ab 22.02.2019', 'Ab 07.07.2018', 'Ab 09.06.2018', 'Ab 13.07.2018',\n",
       "       'Ab 11.06.2018', 'Ab 29.04.2018', 'Ab 15.09.2018', 'Ab 06.08.2018',\n",
       "       'Ab 15.08.2018', 'Ab 16.06.2018', 'Ab 06.09.2018', 'Ab 16.07.2018',\n",
       "       'Ab 28.03.2021', 'Ab 15.03.2019', 'Ab 13.09.2018', 'Ab 01.10.2018',\n",
       "       'Ab 20.09.2018', 'Ab 23.06.2018', 'Ab 19.06.2018', 'Ab 22.07.2018',\n",
       "       'Ab 02.09.2018', 'Ab 10.09.2018', 'Ab 24.06.2018', 'Ab 16.09.2018',\n",
       "       'Ab 24.07.2018', 'Ab 21.09.2018', 'Ab 05.07.2018', 'Ab 14.07.2018',\n",
       "       'Ab 04.07.2018', 'Ab 28.04.2018', 'Ab 18.06.2018', 'Ab 06.07.2018',\n",
       "       'Ab 12.05.2018', 'Ab 28.09.2018', 'Ab 02.08.2018', 'Ab 05.05.2018',\n",
       "       'Ab 21.04.2018', 'Ab 31.07.2018', 'Ab 04.10.2018', 'Ab 01.11.2018',\n",
       "       'Ab 10.08.2018', 'Ab 13.08.2018', 'Ab 06.10.2018', 'Ab 16.10.2018',\n",
       "       'Ab 12.07.2018', 'Ab 11.08.2018', 'Ab 10.10.2018', 'Ab 11.10.2018',\n",
       "       'Ab 14.09.2018', 'Ab 30.08.2018', 'Ab 08.08.2018', 'Ab 04.08.2018',\n",
       "       'Ab 15.10.2018', 'Ab 09.10.2018', 'Ab 18.07.2018', 'Ab 28.07.2018',\n",
       "       'Ab 17.08.2018', 'Ab 26.08.2018', 'Ab 18.10.2018', 'Ab 14.10.2018',\n",
       "       'Ab 17.09.2018', 'Ab 19.07.2018', 'Ab 19.10.2018', 'Ab 30.09.2018',\n",
       "       'Ab 31.10.2018', 'Ab 04.09.2018', 'Ab 21.07.2018', 'Ab 23.09.2018',\n",
       "       'Ab 26.10.2018', 'Ab 25.08.2018', 'Ab 25.10.2018', 'Ab 03.09.2018',\n",
       "       'Ab 26.07.2018', 'Ab 12.10.2018', 'Ab 27.09.2018', 'Ab 29.07.2018',\n",
       "       'Ab 03.10.2018', 'Ab 03.05.2020', 'Ab 09.08.2018', 'Ab 07.05.2020',\n",
       "       'Ab 14.08.2018', 'Ab 25.05.2021', 'Ab 29.08.2018', 'Ab 06.11.2018',\n",
       "       'Ab 09.11.2018', 'Ab 29.09.2018', 'Ab 22.08.2018', 'Ab 08.10.2018',\n",
       "       'Ab 16.11.2018', 'Ab 07.09.2018', 'Ab 18.08.2018', 'Ab 24.10.2018',\n",
       "       'Ab 18.11.2018', 'Ab 19.09.2018', 'Ab 05.03.2019', 'Ab 05.09.2018',\n",
       "       'Ab 17.11.2018', 'Ab 12.08.2018', 'In 5 Monaten ab Bestellung',\n",
       "       'Ab 23.11.2018', 'Ab 25.09.2018', 'Ab 08.11.2018', 'Ab 22.09.2018',\n",
       "       'Ab 10.12.2018', 'Ab 10.11.2018', 'Ab 13.11.2018', 'Ab 20.10.2018',\n",
       "       'Ab 25.11.2018', 'Ab 12.12.2018', 'Ab 02.10.2018', 'Ab 19.11.2018',\n",
       "       'Ab 12.09.2018', 'Ab 03.11.2018', 'Ab 16.03.2019', 'Ab 17.04.2019',\n",
       "       'Ab 19.09.2019', 'Ab 15.01.2019', 'Ab 27.03.2019', 'Ab 03.01.2019',\n",
       "       'Ab 08.02.2019', 'Ab 11.02.2019', 'Ab 04.03.2019', 'Ab 15.02.2019',\n",
       "       'Ab 01.12.2018', 'Ab 25.03.2019', 'Ab 28.11.2018', 'Ab 14.01.2019',\n",
       "       'Ab 04.01.2019', 'Ab 27.11.2018', 'Ab 30.11.2018', 'Ab 24.11.2018',\n",
       "       'Ab 14.03.2019', 'Ab 18.05.2019', 'Ab 07.06.2019', 'Ab 20.03.2019',\n",
       "       'Ab 16.01.2019', 'Ab 08.04.2019', 'Ab 07.05.2019', 'Ab 16.04.2019',\n",
       "       'Ab 09.01.2019', 'Ab 28.04.2019', 'Ab 04.02.2019', 'Ab 10.01.2019',\n",
       "       'Ab 11.01.2019', 'Ab 30.01.2019', 'Ab 22.01.2019', 'Ab 25.01.2019',\n",
       "       'Ab 20.02.2019', 'Ab 08.07.2019', 'Ab 12.01.2019', 'Ab 17.01.2019',\n",
       "       'Ab 13.01.2019', 'Ab 18.01.2019', 'Ab 24.01.2019', 'Ab 15.04.2019',\n",
       "       'Ab 19.01.2019', 'Ab 31.01.2019', 'Ab 20.04.2019', 'Ab 30.04.2019',\n",
       "       'Ab 20.01.2019', 'Ab 15.07.2019', 'Ab 09.02.2019', 'Ab 31.03.2019',\n",
       "       'Ab 06.02.2019', 'Ab 28.02.2019', 'Ab 05.02.2019', 'Ab 01.06.2019',\n",
       "       'Ab 02.02.2019', 'Ab 14.02.2019', 'Ab 18.03.2019', 'Ab 03.02.2019',\n",
       "       'Ab 15.06.2019', 'Ab 26.07.2019', 'Ab 06.05.2019', 'Ab 01.03.2019',\n",
       "       'Ab 06.03.2019', 'Ab 07.02.2019', 'Ab 18.02.2019', 'Ab 12.02.2019',\n",
       "       'Ab 02.05.2019', 'Ab 25.02.2019', 'Ab 13.02.2019', 'Ab 28.09.2019',\n",
       "       'Ab 21.02.2019', 'Ab 19.03.2019', 'Ab 02.03.2019', 'Ab 08.03.2019',\n",
       "       'Ab 11.03.2019', 'Ab 29.10.2019', 'Ab 24.06.2019', 'Ab 22.05.2019',\n",
       "       'Ab 01.07.2019', 'Ab 12.03.2019', 'Ab 05.04.2019', 'Ab 13.03.2019',\n",
       "       'Ab 30.03.2019', 'Ab 02.09.2019', 'Ab 17.03.2019', 'Ab 21.03.2019',\n",
       "       'Ab 22.03.2019', 'Ab 24.03.2019', 'Ab 18.06.2019', 'Ab 09.03.2019',\n",
       "       'Ab 10.03.2019', 'Ab 08.06.2019', 'Ab 23.03.2019', 'Ab 09.06.2019',\n",
       "       'Ab 29.03.2019', 'Ab 28.06.2019', 'Ab 30.07.2019', 'Ab 30.06.2019',\n",
       "       'Ab 28.03.2019', 'Ab 03.04.2019', 'Ab 04.06.2019', 'Ab 19.06.2019',\n",
       "       'Ab 14.06.2019', 'Ab 31.05.2019', 'Ab 18.07.2019', 'Ab 01.04.2019',\n",
       "       'Ab 27.05.2019', 'Ab 09.05.2019'], dtype=object)"
      ]
     },
     "execution_count": 71,
     "metadata": {},
     "output_type": "execute_result"
    }
   ],
   "source": [
    "train_data['Verfügbarkeit'].unique()"
   ]
  },
  {
   "cell_type": "code",
   "execution_count": 72,
   "id": "78fc3e82",
   "metadata": {
    "ExecuteTime": {
     "end_time": "2025-06-13T10:54:22.866994Z",
     "start_time": "2025-06-13T10:54:22.864531Z"
    },
    "execution": {
     "iopub.execute_input": "2025-01-14T13:58:32.232642Z",
     "iopub.status.busy": "2025-01-14T13:58:32.232274Z",
     "iopub.status.idle": "2025-01-14T13:58:32.239300Z",
     "shell.execute_reply": "2025-01-14T13:58:32.237979Z"
    },
    "papermill": {
     "duration": 0.044504,
     "end_time": "2025-01-14T13:58:32.241766",
     "exception": false,
     "start_time": "2025-01-14T13:58:32.197262",
     "status": "completed"
    },
    "tags": []
   },
   "outputs": [],
   "source": [
    "def convertToExactValue(value):\n",
    "    if pd.isna(value) or not isinstance(value, str):\n",
    "        return None\n",
    "    match = re.search(r'In (\\d+) (Tagen|Wochen|Monaten|Tag|Woch|Monat)', value)\n",
    "    if match:\n",
    "        num = int(match.group(1))\n",
    "        unit = match.group(2)\n",
    "        if unit in ['Tagen', 'Tag']:\n",
    "            return num  \n",
    "        elif unit in ['Wochen', 'Woch']:\n",
    "            return num * 7 \n",
    "        elif unit in ['Monaten', 'Monat']:\n",
    "            return num * 30\n",
    "    return None"
   ]
  },
  {
   "cell_type": "code",
   "execution_count": 73,
   "id": "ae68de76",
   "metadata": {
    "ExecuteTime": {
     "end_time": "2025-06-13T10:54:23.222136Z",
     "start_time": "2025-06-13T10:54:23.220226Z"
    },
    "execution": {
     "iopub.execute_input": "2025-01-14T13:58:32.311067Z",
     "iopub.status.busy": "2025-01-14T13:58:32.310714Z",
     "iopub.status.idle": "2025-01-14T13:58:32.316504Z",
     "shell.execute_reply": "2025-01-14T13:58:32.315539Z"
    },
    "papermill": {
     "duration": 0.042954,
     "end_time": "2025-01-14T13:58:32.318627",
     "exception": false,
     "start_time": "2025-01-14T13:58:32.275673",
     "status": "completed"
    },
    "tags": []
   },
   "outputs": [],
   "source": [
    "import re\n",
    "def extract_date(value):\n",
    "    if isinstance(value, str) and value.startswith('Ab'):\n",
    "        date_match = re.search(r'Ab (\\d{2}\\.\\d{2}\\.\\d{4})', value)\n",
    "        if date_match:\n",
    "            return pd.to_datetime(date_match.group(1), format='%d.%m.%Y')\n",
    "    return None"
   ]
  },
  {
   "cell_type": "code",
   "execution_count": 74,
   "id": "ee30c7c2",
   "metadata": {
    "ExecuteTime": {
     "end_time": "2025-06-13T10:54:25.398670Z",
     "start_time": "2025-06-13T10:54:25.180703Z"
    },
    "execution": {
     "iopub.execute_input": "2025-01-14T13:58:32.390582Z",
     "iopub.status.busy": "2025-01-14T13:58:32.390164Z",
     "iopub.status.idle": "2025-01-14T13:58:33.527372Z",
     "shell.execute_reply": "2025-01-14T13:58:33.526179Z"
    },
    "papermill": {
     "duration": 1.176542,
     "end_time": "2025-01-14T13:58:33.529951",
     "exception": false,
     "start_time": "2025-01-14T13:58:32.353409",
     "status": "completed"
    },
    "tags": []
   },
   "outputs": [],
   "source": [
    "import re\n",
    "def changeIntoNumber(value,min_date):\n",
    "    temp = value.reset_index(drop=True).to_frame(name='date')\n",
    "    temp['absolute'] = temp['date'].apply(extract_date)\n",
    "    temp['relative'] = temp['date'].apply(convertToExactValue)\n",
    "    temp['absolute'] = temp['absolute'].combine_first(temp['date'].apply(lambda x: min_date if x == 'Sofort' else None))\n",
    "    temp['combine'] = temp['relative'].combine_first((temp['absolute'] - min_date).dt.days)\n",
    "    return temp['combine']  \n",
    "\n",
    "train_data['availabilityDays'] = changeIntoNumber(train_data['Verfügbarkeit'],train_available_date)\n",
    "test_data['availabilityDays'] = changeIntoNumber(test_data['Verfügbarkeit'],test_available_date)"
   ]
  },
  {
   "cell_type": "code",
   "execution_count": 75,
   "id": "10b73eee",
   "metadata": {
    "ExecuteTime": {
     "end_time": "2025-06-13T10:54:26.718731Z",
     "start_time": "2025-06-13T10:54:26.701579Z"
    },
    "execution": {
     "iopub.execute_input": "2025-01-14T13:58:33.600665Z",
     "iopub.status.busy": "2025-01-14T13:58:33.600281Z",
     "iopub.status.idle": "2025-01-14T13:58:33.629594Z",
     "shell.execute_reply": "2025-01-14T13:58:33.628384Z"
    },
    "papermill": {
     "duration": 0.067795,
     "end_time": "2025-01-14T13:58:33.632143",
     "exception": false,
     "start_time": "2025-01-14T13:58:33.564348",
     "status": "completed"
    },
    "tags": []
   },
   "outputs": [],
   "source": [
    "train_data.drop(columns=['Verfügbarkeit'],inplace=True)\n",
    "test_data.drop(columns=['Verfügbarkeit'],inplace=True)"
   ]
  },
  {
   "cell_type": "code",
   "execution_count": 76,
   "id": "4577ccaf",
   "metadata": {
    "ExecuteTime": {
     "end_time": "2025-06-13T07:39:13.254075Z",
     "start_time": "2025-06-13T07:39:13.249856Z"
    },
    "execution": {
     "iopub.execute_input": "2025-01-14T13:58:33.701800Z",
     "iopub.status.busy": "2025-01-14T13:58:33.701422Z",
     "iopub.status.idle": "2025-01-14T13:58:33.713632Z",
     "shell.execute_reply": "2025-01-14T13:58:33.712190Z"
    },
    "papermill": {
     "duration": 0.050074,
     "end_time": "2025-01-14T13:58:33.716582",
     "exception": false,
     "start_time": "2025-01-14T13:58:33.666508",
     "status": "completed"
    },
    "tags": []
   },
   "outputs": [
    {
     "data": {
      "text/plain": [
       "count    5197.000000\n",
       "mean       -7.474312\n",
       "std        48.489104\n",
       "min      -268.000000\n",
       "25%         0.000000\n",
       "50%         0.000000\n",
       "75%         0.000000\n",
       "max      1275.000000\n",
       "Name: availabilityDays, dtype: float64"
      ]
     },
     "execution_count": 76,
     "metadata": {},
     "output_type": "execute_result"
    }
   ],
   "source": [
    "test_data['availabilityDays'].describe()"
   ]
  },
  {
   "cell_type": "code",
   "execution_count": 77,
   "id": "85a6d88e",
   "metadata": {
    "ExecuteTime": {
     "end_time": "2025-06-13T10:55:22.988251Z",
     "start_time": "2025-06-13T10:55:22.946547Z"
    },
    "execution": {
     "iopub.execute_input": "2025-01-14T13:58:33.788621Z",
     "iopub.status.busy": "2025-01-14T13:58:33.788211Z",
     "iopub.status.idle": "2025-01-14T13:58:34.121347Z",
     "shell.execute_reply": "2025-01-14T13:58:34.119868Z"
    },
    "papermill": {
     "duration": 0.372846,
     "end_time": "2025-01-14T13:58:34.124307",
     "exception": false,
     "start_time": "2025-01-14T13:58:33.751461",
     "status": "completed"
    },
    "tags": []
   },
   "outputs": [
    {
     "data": {
      "image/png": "[encoded data removed]",
      "text/plain": [
       "<Figure size 640x480 with 1 Axes>"
      ]
     },
     "metadata": {},
     "output_type": "display_data"
    }
   ],
   "source": [
    "\n",
    "#histogram\n",
    "fig, ax = plt.subplots()\n",
    "ax.hist(train_data['availabilityDays'], bins=20, edgecolor='black')\n",
    "ax.set_title('Histogram of Availability Days')\n",
    "ax.set_xlabel('Days')\n",
    "ax.set_ylabel('Frequency')\n",
    "plt.show()"
   ]
  },
  {
   "cell_type": "code",
   "execution_count": 78,
   "id": "48a38dcb",
   "metadata": {
    "ExecuteTime": {
     "end_time": "2025-06-13T07:33:39.022007Z",
     "start_time": "2025-06-13T07:33:39.020232Z"
    },
    "execution": {
     "iopub.execute_input": "2025-01-14T13:58:34.198347Z",
     "iopub.status.busy": "2025-01-14T13:58:34.197852Z",
     "iopub.status.idle": "2025-01-14T13:58:34.202886Z",
     "shell.execute_reply": "2025-01-14T13:58:34.201718Z"
    },
    "papermill": {
     "duration": 0.042982,
     "end_time": "2025-01-14T13:58:34.205187",
     "exception": false,
     "start_time": "2025-01-14T13:58:34.162205",
     "status": "completed"
    },
    "tags": []
   },
   "outputs": [],
   "source": [
    "# train_lb_a,train_ub_a=IQR(train_data['availabilityDays'])\n",
    "# test_lb_a,test_ub_a=IQR(test_data['availabilityDays'])\n",
    "\n",
    "# train_data['availabilityDays'] = np.clip(train_data['availabilityDays'], train_lb_a, train_ub_a)\n",
    "# test_data['availabilityDays'] = np.clip(test_data['availabilityDays'], test_lb_a, test_ub_a)"
   ]
  },
  {
   "cell_type": "code",
   "execution_count": 79,
   "id": "8ee9c666",
   "metadata": {
    "ExecuteTime": {
     "end_time": "2025-06-13T10:55:54.912635Z",
     "start_time": "2025-06-13T10:55:54.908684Z"
    },
    "execution": {
     "iopub.execute_input": "2025-01-14T13:58:34.505994Z",
     "iopub.status.busy": "2025-01-14T13:58:34.505617Z",
     "iopub.status.idle": "2025-01-14T13:58:34.515297Z",
     "shell.execute_reply": "2025-01-14T13:58:34.514055Z"
    },
    "papermill": {
     "duration": 0.048671,
     "end_time": "2025-01-14T13:58:34.517749",
     "exception": false,
     "start_time": "2025-01-14T13:58:34.469078",
     "status": "completed"
    },
    "tags": []
   },
   "outputs": [],
   "source": [
    "train_data['availabilityDays']=train_data['availabilityDays'].fillna(train_data['availabilityDays'].median())\n",
    "test_data['availabilityDays']=test_data['availabilityDays'].fillna(test_data['availabilityDays'].median())"
   ]
  },
  {
   "cell_type": "code",
   "execution_count": 80,
   "id": "ff0bbee8",
   "metadata": {
    "ExecuteTime": {
     "end_time": "2025-06-13T10:56:15.482341Z",
     "start_time": "2025-06-13T10:56:15.477305Z"
    },
    "execution": {
     "iopub.execute_input": "2025-01-14T13:58:34.589510Z",
     "iopub.status.busy": "2025-01-14T13:58:34.588414Z",
     "iopub.status.idle": "2025-01-14T13:58:34.602246Z",
     "shell.execute_reply": "2025-01-14T13:58:34.601202Z"
    },
    "papermill": {
     "duration": 0.052201,
     "end_time": "2025-01-14T13:58:34.604518",
     "exception": false,
     "start_time": "2025-01-14T13:58:34.552317",
     "status": "completed"
    },
    "tags": []
   },
   "outputs": [
    {
     "data": {
      "text/plain": [
       "count    86049.000000\n",
       "mean        -4.506583\n",
       "std         38.844476\n",
       "min       -270.000000\n",
       "25%          0.000000\n",
       "50%          0.000000\n",
       "75%          0.000000\n",
       "max        997.000000\n",
       "Name: availabilityDays, dtype: float64"
      ]
     },
     "execution_count": 80,
     "metadata": {},
     "output_type": "execute_result"
    }
   ],
   "source": [
    "train_data['availabilityDays'].describe()"
   ]
  },
  {
   "cell_type": "code",
   "execution_count": 81,
   "id": "0f3a45e1",
   "metadata": {
    "execution": {
     "iopub.execute_input": "2025-01-14T13:58:34.677173Z",
     "iopub.status.busy": "2025-01-14T13:58:34.676768Z",
     "iopub.status.idle": "2025-01-14T13:58:34.681525Z",
     "shell.execute_reply": "2025-01-14T13:58:34.680483Z"
    },
    "papermill": {
     "duration": 0.043756,
     "end_time": "2025-01-14T13:58:34.683814",
     "exception": false,
     "start_time": "2025-01-14T13:58:34.640058",
     "status": "completed"
    },
    "tags": []
   },
   "outputs": [],
   "source": [
    "# train_data.drop(columns=['availabilityDays'],inplace=True)\n",
    "# test_data.drop(columns=['availabilityDays'],inplace=True)"
   ]
  },
  {
   "cell_type": "markdown",
   "id": "9aa8f901",
   "metadata": {
    "papermill": {
     "duration": 0.035486,
     "end_time": "2025-01-14T13:58:34.754894",
     "exception": false,
     "start_time": "2025-01-14T13:58:34.719408",
     "status": "completed"
    },
    "tags": []
   },
   "source": [
    "**Handling Missing Values in Herkunft**"
   ]
  },
  {
   "cell_type": "code",
   "execution_count": 82,
   "id": "96ae7a2a",
   "metadata": {
    "ExecuteTime": {
     "end_time": "2025-06-13T10:56:31.488477Z",
     "start_time": "2025-06-13T10:56:31.484491Z"
    },
    "execution": {
     "iopub.execute_input": "2025-01-14T13:58:34.827528Z",
     "iopub.status.busy": "2025-01-14T13:58:34.827158Z",
     "iopub.status.idle": "2025-01-14T13:58:34.838672Z",
     "shell.execute_reply": "2025-01-14T13:58:34.837537Z"
    },
    "papermill": {
     "duration": 0.050914,
     "end_time": "2025-01-14T13:58:34.840990",
     "exception": false,
     "start_time": "2025-01-14T13:58:34.790076",
     "status": "completed"
    },
    "tags": []
   },
   "outputs": [
    {
     "data": {
      "text/plain": [
       "array(['Deutsche Ausführung', nan, 'EU-Ausführung'], dtype=object)"
      ]
     },
     "execution_count": 82,
     "metadata": {},
     "output_type": "execute_result"
    }
   ],
   "source": [
    "train_data['Herkunft'].unique()"
   ]
  },
  {
   "cell_type": "code",
   "execution_count": 83,
   "id": "7dccf511",
   "metadata": {
    "ExecuteTime": {
     "end_time": "2025-06-13T10:56:32.009170Z",
     "start_time": "2025-06-13T10:56:31.999277Z"
    },
    "execution": {
     "iopub.execute_input": "2025-01-14T13:58:34.915014Z",
     "iopub.status.busy": "2025-01-14T13:58:34.914020Z",
     "iopub.status.idle": "2025-01-14T13:58:34.936504Z",
     "shell.execute_reply": "2025-01-14T13:58:34.935451Z"
    },
    "papermill": {
     "duration": 0.061536,
     "end_time": "2025-01-14T13:58:34.938871",
     "exception": false,
     "start_time": "2025-01-14T13:58:34.877335",
     "status": "completed"
    },
    "tags": []
   },
   "outputs": [],
   "source": [
    "train_data['Herkunft'] = train_data['Herkunft'].fillna(train_data['Herkunft'].mode().iloc[0])\n",
    "test_data['Herkunft'] = test_data['Herkunft'].fillna(test_data['Herkunft'].mode().iloc[0])"
   ]
  },
  {
   "cell_type": "markdown",
   "id": "f9be45b4",
   "metadata": {
    "papermill": {
     "duration": 0.035801,
     "end_time": "2025-01-14T13:58:35.009503",
     "exception": false,
     "start_time": "2025-01-14T13:58:34.973702",
     "status": "completed"
    },
    "tags": []
   },
   "source": [
    "**Handling Missing Values in Innenausstattung**"
   ]
  },
  {
   "cell_type": "code",
   "execution_count": 84,
   "id": "5269f07e",
   "metadata": {
    "ExecuteTime": {
     "end_time": "2025-06-13T10:56:34.881727Z",
     "start_time": "2025-06-13T10:56:34.876993Z"
    },
    "execution": {
     "iopub.execute_input": "2025-01-14T13:58:35.080213Z",
     "iopub.status.busy": "2025-01-14T13:58:35.079819Z",
     "iopub.status.idle": "2025-01-14T13:58:35.091391Z",
     "shell.execute_reply": "2025-01-14T13:58:35.090337Z"
    },
    "papermill": {
     "duration": 0.049303,
     "end_time": "2025-01-14T13:58:35.093475",
     "exception": false,
     "start_time": "2025-01-14T13:58:35.044172",
     "status": "completed"
    },
    "tags": []
   },
   "outputs": [
    {
     "data": {
      "text/plain": [
       "array(['Alcantara, Schwarz', 'Vollleder, Schwarz', 'Stoff, Grau',\n",
       "       'Stoff, Schwarz', 'Teilleder, Schwarz', 'Stoff, Braun',\n",
       "       'Vollleder, Andere', 'Stoff, Andere', 'Teilleder, Grau',\n",
       "       'Vollleder, Grau', 'Vollleder, Braun', 'Vollleder, Beige',\n",
       "       'Andere, Braun', 'Andere, Andere', 'Alcantara, Grau',\n",
       "       'Andere, Beige', 'Teilleder, Braun', 'Grau', 'Velours, Schwarz',\n",
       "       'Andere, Schwarz', 'Stoff', 'Alcantara', 'Teilleder, Andere',\n",
       "       'Schwarz', 'Vollleder', 'Alcantara, Andere', 'Stoff, Beige',\n",
       "       'Teilleder', 'Teilleder, Beige', 'Andere, Grau',\n",
       "       'Alcantara, Beige', 'Velours, Grau', 'Andere', nan,\n",
       "       'Alcantara, Braun', 'Velours', 'Velours, Andere', 'Velours, Beige',\n",
       "       'Velours, Braun', 'Beige', 'Braun'], dtype=object)"
      ]
     },
     "execution_count": 84,
     "metadata": {},
     "output_type": "execute_result"
    }
   ],
   "source": [
    "train_data['Innenausstattung'].unique()"
   ]
  },
  {
   "cell_type": "code",
   "execution_count": 85,
   "id": "6a6e774e",
   "metadata": {
    "ExecuteTime": {
     "end_time": "2025-06-13T10:57:24.087266Z",
     "start_time": "2025-06-13T10:57:24.084258Z"
    },
    "execution": {
     "iopub.execute_input": "2025-01-14T13:58:35.166051Z",
     "iopub.status.busy": "2025-01-14T13:58:35.165699Z",
     "iopub.status.idle": "2025-01-14T13:58:35.174579Z",
     "shell.execute_reply": "2025-01-14T13:58:35.173395Z"
    },
    "papermill": {
     "duration": 0.047638,
     "end_time": "2025-01-14T13:58:35.176741",
     "exception": false,
     "start_time": "2025-01-14T13:58:35.129103",
     "status": "completed"
    },
    "tags": []
   },
   "outputs": [],
   "source": [
    "def convertInterior(value):\n",
    "    interior_df = value.reset_index(drop=True).to_frame(name='Interior') \n",
    "\n",
    "    interior_df['Material'] = interior_df['Interior'].str.split(', ').str[0]\n",
    "    interior_df['Color'] = interior_df['Interior'].str.split(', ').str[1]\n",
    "\n",
    "    colors_only = ['Schwarz', 'Grau', 'Beige', 'Braun']\n",
    "\n",
    "    interior_df['Color'] = interior_df.apply(lambda row: row['Material'] if row['Material'] in colors_only and pd.isna(row['Color']) else row['Color'], axis=1)\n",
    "    interior_df['Color'] = interior_df.apply(lambda row: row['Material'] if row['Material'] in colors_only and row['Color'] == 'Unknown' else row['Color'], axis=1)\n",
    "\n",
    "    interior_df['Material'] = interior_df.apply(lambda row: 'Unknown' if row['Material'] in colors_only else row['Material'], axis=1)\n",
    "\n",
    "    interior_df['Material'] = interior_df['Material'].fillna('Unknown')\n",
    "    interior_df['Color'] = interior_df['Color'].fillna('Unknown')\n",
    "    return interior_df\n"
   ]
  },
  {
   "cell_type": "code",
   "execution_count": 86,
   "id": "f2c8a2a2",
   "metadata": {
    "ExecuteTime": {
     "end_time": "2025-06-13T10:57:25.251499Z",
     "start_time": "2025-06-13T10:57:24.563614Z"
    },
    "execution": {
     "iopub.execute_input": "2025-01-14T13:58:35.249069Z",
     "iopub.status.busy": "2025-01-14T13:58:35.248023Z",
     "iopub.status.idle": "2025-01-14T13:58:38.260989Z",
     "shell.execute_reply": "2025-01-14T13:58:38.259586Z"
    },
    "papermill": {
     "duration": 3.051957,
     "end_time": "2025-01-14T13:58:38.263808",
     "exception": false,
     "start_time": "2025-01-14T13:58:35.211851",
     "status": "completed"
    },
    "tags": []
   },
   "outputs": [],
   "source": [
    "interior_results_train = convertInterior(train_data['Innenausstattung'])\n",
    "interior_results_test = convertInterior(test_data['Innenausstattung'])\n",
    "\n",
    "train_data['Material']=interior_results_train['Material']\n",
    "train_data['intColor']=interior_results_train['Color']\n",
    "\n",
    "test_data['Material']=interior_results_test['Material']\n",
    "test_data['intColor']=interior_results_test['Color']"
   ]
  },
  {
   "cell_type": "code",
   "execution_count": 87,
   "id": "8ca708df",
   "metadata": {
    "ExecuteTime": {
     "end_time": "2025-06-13T10:57:50.891364Z",
     "start_time": "2025-06-13T10:57:50.834571Z"
    },
    "execution": {
     "iopub.execute_input": "2025-01-14T13:58:38.336186Z",
     "iopub.status.busy": "2025-01-14T13:58:38.335775Z",
     "iopub.status.idle": "2025-01-14T13:58:38.686162Z",
     "shell.execute_reply": "2025-01-14T13:58:38.685025Z"
    },
    "papermill": {
     "duration": 0.389211,
     "end_time": "2025-01-14T13:58:38.688476",
     "exception": false,
     "start_time": "2025-01-14T13:58:38.299265",
     "status": "completed"
    },
    "tags": []
   },
   "outputs": [
    {
     "data": {
      "image/png": "[encoded data removed]",
      "text/plain": [
       "<Figure size 640x480 with 1 Axes>"
      ]
     },
     "metadata": {},
     "output_type": "display_data"
    }
   ],
   "source": [
    "\n",
    "fig, ax = plt.subplots()\n",
    "ax.hist(train_data['Material'], bins=20, edgecolor='black')\n",
    "ax.set_title('Histogram of Material')\n",
    "ax.set_xlabel('Material')\n",
    "ax.set_ylabel('Frequency')\n",
    "plt.show()"
   ]
  },
  {
   "cell_type": "code",
   "execution_count": 88,
   "id": "288cbad039763265",
   "metadata": {
    "ExecuteTime": {
     "end_time": "2025-06-13T10:58:21.196081Z",
     "start_time": "2025-06-13T10:58:21.139558Z"
    }
   },
   "outputs": [
    {
     "data": {
      "image/png": "[encoded data removed]",
      "text/plain": [
       "<Figure size 640x480 with 1 Axes>"
      ]
     },
     "metadata": {},
     "output_type": "display_data"
    }
   ],
   "source": [
    "\n",
    "fig, ax = plt.subplots()\n",
    "ax.hist(train_data['intColor'], bins=20, edgecolor='black')\n",
    "ax.set_title('Histogram of Interior Color ')\n",
    "ax.set_xlabel('Interior Color')\n",
    "ax.set_ylabel('Frequency')\n",
    "plt.show()"
   ]
  },
  {
   "cell_type": "code",
   "execution_count": 89,
   "id": "b02ec3d5",
   "metadata": {
    "ExecuteTime": {
     "end_time": "2025-06-13T10:58:29.668163Z",
     "start_time": "2025-06-13T10:58:29.650329Z"
    },
    "execution": {
     "iopub.execute_input": "2025-01-14T13:58:38.764097Z",
     "iopub.status.busy": "2025-01-14T13:58:38.763721Z",
     "iopub.status.idle": "2025-01-14T13:58:38.805900Z",
     "shell.execute_reply": "2025-01-14T13:58:38.804557Z"
    },
    "papermill": {
     "duration": 0.084511,
     "end_time": "2025-01-14T13:58:38.808856",
     "exception": false,
     "start_time": "2025-01-14T13:58:38.724345",
     "status": "completed"
    },
    "tags": []
   },
   "outputs": [],
   "source": [
    "train_data.drop(columns=['Innenausstattung'],inplace=True)\n",
    "test_data.drop(columns=['Innenausstattung'],inplace=True)"
   ]
  },
  {
   "cell_type": "markdown",
   "id": "2faf44f0",
   "metadata": {
    "papermill": {
     "duration": 0.035382,
     "end_time": "2025-01-14T13:58:38.881750",
     "exception": false,
     "start_time": "2025-01-14T13:58:38.846368",
     "status": "completed"
    },
    "tags": []
   },
   "source": [
    "**Handling Missing Values in CO2-Emissionen**"
   ]
  },
  {
   "cell_type": "code",
   "execution_count": 90,
   "id": "e08b4cbe",
   "metadata": {
    "ExecuteTime": {
     "end_time": "2025-06-13T10:58:32.271053Z",
     "start_time": "2025-06-13T10:58:32.266178Z"
    },
    "execution": {
     "iopub.execute_input": "2025-01-14T13:58:38.955644Z",
     "iopub.status.busy": "2025-01-14T13:58:38.955278Z",
     "iopub.status.idle": "2025-01-14T13:58:38.963231Z",
     "shell.execute_reply": "2025-01-14T13:58:38.962125Z"
    },
    "papermill": {
     "duration": 0.047594,
     "end_time": "2025-01-14T13:58:38.965363",
     "exception": false,
     "start_time": "2025-01-14T13:58:38.917769",
     "status": "completed"
    },
    "tags": []
   },
   "outputs": [
    {
     "data": {
      "text/plain": [
       "array(['≈\\u2009246\\u2009g/km (kombiniert)', '116\\u2009g/km (kombiniert)*',\n",
       "       '96\\u2009g/km (kombiniert)*', '≈\\u2009159\\u2009g/km (kombiniert)',\n",
       "       '≈\\u2009113\\u2009g/km (kombiniert)', '126\\u2009g/km (kombiniert)*',\n",
       "       '99\\u2009g/km (kombiniert)*', '≈\\u2009179\\u2009g/km (kombiniert)',\n",
       "       '≈\\u2009132\\u2009g/km (kombiniert)',\n",
       "       '≈\\u2009228\\u2009g/km (kombiniert)', '162\\u2009g/km (kombiniert)*',\n",
       "       '≈\\u2009202\\u2009g/km (kombiniert)', '103\\u2009g/km (kombiniert)*',\n",
       "       '117\\u2009g/km (kombiniert)*', '≈\\u2009197\\u2009g/km (kombiniert)',\n",
       "       '≈\\u2009114\\u2009g/km (kombiniert)', '114\\u2009g/km (kombiniert)*',\n",
       "       '≈\\u2009119\\u2009g/km (kombiniert)', '109\\u2009g/km (kombiniert)*',\n",
       "       '205\\u2009g/km (kombiniert)*', '149\\u2009g/km (kombiniert)*',\n",
       "       '137\\u2009g/km (kombiniert)*', '≈\\u2009166\\u2009g/km (kombiniert)',\n",
       "       '≈\\u2009144\\u2009g/km (kombiniert)', '138\\u2009g/km (kombiniert)*',\n",
       "       '184\\u2009g/km (kombiniert)*', '119\\u2009g/km (kombiniert)*',\n",
       "       '≈\\u2009138\\u2009g/km (kombiniert)',\n",
       "       '≈\\u2009196\\u2009g/km (kombiniert)',\n",
       "       '≈\\u2009124\\u2009g/km (kombiniert)',\n",
       "       '≈\\u2009115\\u2009g/km (kombiniert)',\n",
       "       '≈\\u2009137\\u2009g/km (kombiniert)', '211\\u2009g/km (kombiniert)*',\n",
       "       '≈\\u200948\\u2009g/km (kombiniert)',\n",
       "       '≈\\u2009105\\u2009g/km (kombiniert)',\n",
       "       '≈\\u2009265\\u2009g/km (kombiniert)',\n",
       "       '≈\\u2009211\\u2009g/km (kombiniert)', '101\\u2009g/km (kombiniert)*',\n",
       "       '≈\\u2009139\\u2009g/km (kombiniert)', '95\\u2009g/km (kombiniert)*',\n",
       "       '≈\\u200995\\u2009g/km (kombiniert)', '120\\u2009g/km (kombiniert)*',\n",
       "       '≈\\u2009158\\u2009g/km (kombiniert)', '189\\u2009g/km (kombiniert)*',\n",
       "       '140\\u2009g/km (kombiniert)*', '128\\u2009g/km (kombiniert)*',\n",
       "       '139\\u2009g/km (kombiniert)*', '≈\\u2009160\\u2009g/km (kombiniert)',\n",
       "       '≈\\u2009129\\u2009g/km (kombiniert)',\n",
       "       '≈\\u2009107\\u2009g/km (kombiniert)', '111\\u2009g/km (kombiniert)*',\n",
       "       '≈\\u200992\\u2009g/km (kombiniert)', '104\\u2009g/km (kombiniert)*',\n",
       "       '≈\\u2009143\\u2009g/km (kombiniert)', '125\\u2009g/km (kombiniert)*',\n",
       "       '≈\\u2009215\\u2009g/km (kombiniert)',\n",
       "       '≈\\u200999\\u2009g/km (kombiniert)',\n",
       "       '≈\\u2009103\\u2009g/km (kombiniert)', '123\\u2009g/km (kombiniert)*',\n",
       "       '≈\\u2009169\\u2009g/km (kombiniert)', '130\\u2009g/km (kombiniert)*',\n",
       "       '≈\\u2009225\\u2009g/km (kombiniert)', '97\\u2009g/km (kombiniert)*',\n",
       "       '≈\\u2009148\\u2009g/km (kombiniert)', '232\\u2009g/km (kombiniert)*',\n",
       "       '98\\u2009g/km (kombiniert)*', '≈\\u2009120\\u2009g/km (kombiniert)',\n",
       "       '≈\\u2009214\\u2009g/km (kombiniert)', '134\\u2009g/km (kombiniert)*',\n",
       "       '≈\\u2009101\\u2009g/km (kombiniert)',\n",
       "       '≈\\u2009149\\u2009g/km (kombiniert)',\n",
       "       '≈\\u2009217\\u2009g/km (kombiniert)',\n",
       "       '≈\\u2009205\\u2009g/km (kombiniert)',\n",
       "       '≈\\u2009257\\u2009g/km (kombiniert)',\n",
       "       '≈\\u2009164\\u2009g/km (kombiniert)',\n",
       "       '≈\\u2009125\\u2009g/km (kombiniert)',\n",
       "       '≈\\u2009224\\u2009g/km (kombiniert)',\n",
       "       '≈\\u2009154\\u2009g/km (kombiniert)', '157\\u2009g/km (kombiniert)*',\n",
       "       '174\\u2009g/km (kombiniert)*', '159\\u2009g/km (kombiniert)*',\n",
       "       '106\\u2009g/km (kombiniert)*', '146\\u2009g/km (kombiniert)*',\n",
       "       '≈\\u2009156\\u2009g/km (kombiniert)',\n",
       "       '≈\\u2009167\\u2009g/km (kombiniert)',\n",
       "       '≈\\u2009127\\u2009g/km (kombiniert)',\n",
       "       '≈\\u2009249\\u2009g/km (kombiniert)', '136\\u2009g/km (kombiniert)*',\n",
       "       '127\\u2009g/km (kombiniert)*', '≈\\u2009128\\u2009g/km (kombiniert)',\n",
       "       '≈\\u2009146\\u2009g/km (kombiniert)', '188\\u2009g/km (kombiniert)*',\n",
       "       '155\\u2009g/km (kombiniert)*', '≈\\u2009163\\u2009g/km (kombiniert)',\n",
       "       '129\\u2009g/km (kombiniert)*', '279\\u2009g/km (kombiniert)*',\n",
       "       '≈\\u2009118\\u2009g/km (kombiniert)',\n",
       "       '≈\\u2009123\\u2009g/km (kombiniert)', '112\\u2009g/km (kombiniert)*',\n",
       "       '110\\u2009g/km (kombiniert)*', '≈\\u2009212\\u2009g/km (kombiniert)',\n",
       "       '≈\\u2009232\\u2009g/km (kombiniert)', '199\\u2009g/km (kombiniert)*',\n",
       "       '118\\u2009g/km (kombiniert)*', '164\\u2009g/km (kombiniert)*',\n",
       "       '102\\u2009g/km (kombiniert)*', '≈\\u2009109\\u2009g/km (kombiniert)',\n",
       "       '≈\\u2009104\\u2009g/km (kombiniert)',\n",
       "       '≈\\u2009106\\u2009g/km (kombiniert)',\n",
       "       '≈\\u2009152\\u2009g/km (kombiniert)',\n",
       "       '≈\\u2009184\\u2009g/km (kombiniert)',\n",
       "       '≈\\u2009135\\u2009g/km (kombiniert)',\n",
       "       '≈\\u2009134\\u2009g/km (kombiniert)', '183\\u2009g/km (kombiniert)*',\n",
       "       '158\\u2009g/km (kombiniert)*', '152\\u2009g/km (kombiniert)*',\n",
       "       '191\\u2009g/km (kombiniert)*', '124\\u2009g/km (kombiniert)*',\n",
       "       '≈\\u200998\\u2009g/km (kombiniert)',\n",
       "       '≈\\u2009183\\u2009g/km (kombiniert)',\n",
       "       '≈\\u2009117\\u2009g/km (kombiniert)',\n",
       "       '≈\\u2009130\\u2009g/km (kombiniert)', '169\\u2009g/km (kombiniert)*',\n",
       "       '115\\u2009g/km (kombiniert)*', '≈\\u2009133\\u2009g/km (kombiniert)',\n",
       "       '≈\\u2009165\\u2009g/km (kombiniert)',\n",
       "       '≈\\u2009108\\u2009g/km (kombiniert)',\n",
       "       '≈\\u2009157\\u2009g/km (kombiniert)',\n",
       "       '≈\\u2009102\\u2009g/km (kombiniert)',\n",
       "       '≈\\u2009174\\u2009g/km (kombiniert)', '154\\u2009g/km (kombiniert)*',\n",
       "       '88\\u2009g/km (kombiniert)*', '161\\u2009g/km (kombiniert)*',\n",
       "       '172\\u2009g/km (kombiniert)*', '≈\\u2009168\\u2009g/km (kombiniert)',\n",
       "       '107\\u2009g/km (kombiniert)*', '≈\\u2009126\\u2009g/km (kombiniert)',\n",
       "       '≈\\u2009239\\u2009g/km (kombiniert)', '151\\u2009g/km (kombiniert)*',\n",
       "       '108\\u2009g/km (kombiniert)*', '≈\\u2009187\\u2009g/km (kombiniert)',\n",
       "       '≈\\u2009186\\u2009g/km (kombiniert)',\n",
       "       '≈\\u2009199\\u2009g/km (kombiniert)',\n",
       "       '≈\\u2009175\\u2009g/km (kombiniert)',\n",
       "       '≈\\u2009189\\u2009g/km (kombiniert)', '160\\u2009g/km (kombiniert)*',\n",
       "       '≈\\u2009110\\u2009g/km (kombiniert)',\n",
       "       '≈\\u2009223\\u2009g/km (kombiniert)',\n",
       "       '≈\\u2009171\\u2009g/km (kombiniert)', '76\\u2009g/km (kombiniert)*',\n",
       "       '186\\u2009g/km (kombiniert)*', '≈\\u2009122\\u2009g/km (kombiniert)',\n",
       "       '113\\u2009g/km (kombiniert)*', '≈\\u2009191\\u2009g/km (kombiniert)',\n",
       "       '175\\u2009g/km (kombiniert)*', '≈\\u2009204\\u2009g/km (kombiniert)',\n",
       "       '100\\u2009g/km (kombiniert)*', '≈\\u2009264\\u2009g/km (kombiniert)',\n",
       "       '153\\u2009g/km (kombiniert)*', '≈\\u2009100\\u2009g/km (kombiniert)',\n",
       "       '143\\u2009g/km (kombiniert)*', '≈\\u200988\\u2009g/km (kombiniert)',\n",
       "       '105\\u2009g/km (kombiniert)*', '156\\u2009g/km (kombiniert)*',\n",
       "       '≈\\u2009172\\u2009g/km (kombiniert)',\n",
       "       '≈\\u2009116\\u2009g/km (kombiniert)',\n",
       "       '≈\\u2009155\\u2009g/km (kombiniert)',\n",
       "       '≈\\u2009219\\u2009g/km (kombiniert)', '122\\u2009g/km (kombiniert)*',\n",
       "       '≈\\u2009295\\u2009g/km (kombiniert)', '197\\u2009g/km (kombiniert)*',\n",
       "       '≈\\u2009153\\u2009g/km (kombiniert)',\n",
       "       '≈\\u2009209\\u2009g/km (kombiniert)',\n",
       "       '≈\\u2009177\\u2009g/km (kombiniert)', '92\\u2009g/km (kombiniert)*',\n",
       "       '≈\\u2009193\\u2009g/km (kombiniert)',\n",
       "       '≈\\u2009151\\u2009g/km (kombiniert)', '94\\u2009g/km (kombiniert)*',\n",
       "       '171\\u2009g/km (kombiniert)*', '≈\\u2009162\\u2009g/km (kombiniert)',\n",
       "       '135\\u2009g/km (kombiniert)*', '204\\u2009g/km (kombiniert)*',\n",
       "       '165\\u2009g/km (kombiniert)*', '196\\u2009g/km (kombiniert)*',\n",
       "       '231\\u2009g/km (kombiniert)*', '≈\\u2009145\\u2009g/km (kombiniert)',\n",
       "       '≈\\u2009291\\u2009g/km (kombiniert)', '131\\u2009g/km (kombiniert)*',\n",
       "       '89\\u2009g/km (kombiniert)*', '193\\u2009g/km (kombiniert)*',\n",
       "       '133\\u2009g/km (kombiniert)*', '121\\u2009g/km (kombiniert)*',\n",
       "       '≈\\u2009140\\u2009g/km (kombiniert)',\n",
       "       '≈\\u2009170\\u2009g/km (kombiniert)',\n",
       "       '≈\\u2009180\\u2009g/km (kombiniert)', '48\\u2009g/km (kombiniert)*',\n",
       "       '142\\u2009g/km (kombiniert)*', '≈\\u200981\\u2009g/km (kombiniert)',\n",
       "       '≈\\u2009150\\u2009g/km (kombiniert)', '144\\u2009g/km (kombiniert)*',\n",
       "       '224\\u2009g/km (kombiniert)*', '185\\u2009g/km (kombiniert)*',\n",
       "       '≈\\u2009136\\u2009g/km (kombiniert)', '214\\u2009g/km (kombiniert)*',\n",
       "       '203\\u2009g/km (kombiniert)*', '≈\\u2009173\\u2009g/km (kombiniert)',\n",
       "       '≈\\u2009203\\u2009g/km (kombiniert)', '163\\u2009g/km (kombiniert)*',\n",
       "       '55\\u2009g/km (kombiniert)*', '≈\\u2009182\\u2009g/km (kombiniert)',\n",
       "       '≈\\u2009195\\u2009g/km (kombiniert)', '200\\u2009g/km (kombiniert)*',\n",
       "       '132\\u2009g/km (kombiniert)*', '86\\u2009g/km (kombiniert)*',\n",
       "       '167\\u2009g/km (kombiniert)*', '93\\u2009g/km (kombiniert)*',\n",
       "       '≈\\u2009245\\u2009g/km (kombiniert)', '212\\u2009g/km (kombiniert)*',\n",
       "       '≈\\u2009112\\u2009g/km (kombiniert)',\n",
       "       '≈\\u2009178\\u2009g/km (kombiniert)', '246\\u2009g/km (kombiniert)*',\n",
       "       '≈\\u2009231\\u2009g/km (kombiniert)',\n",
       "       '≈\\u2009207\\u2009g/km (kombiniert)', '148\\u2009g/km (kombiniert)*',\n",
       "       '≈\\u2009141\\u2009g/km (kombiniert)', '82\\u2009g/km (kombiniert)*',\n",
       "       '208\\u2009g/km (kombiniert)*', '150\\u2009g/km (kombiniert)*',\n",
       "       '79\\u2009g/km (kombiniert)*', '166\\u2009g/km (kombiniert)*',\n",
       "       '≈\\u2009161\\u2009g/km (kombiniert)',\n",
       "       '≈\\u2009147\\u2009g/km (kombiniert)', '228\\u2009g/km (kombiniert)*',\n",
       "       '≈\\u2009121\\u2009g/km (kombiniert)',\n",
       "       '≈\\u2009181\\u2009g/km (kombiniert)',\n",
       "       '≈\\u200987\\u2009g/km (kombiniert)',\n",
       "       '≈\\u2009192\\u2009g/km (kombiniert)',\n",
       "       '≈\\u200994\\u2009g/km (kombiniert)', '225\\u2009g/km (kombiniert)*',\n",
       "       '85\\u2009g/km (kombiniert)*', '≈\\u2009201\\u2009g/km (kombiniert)',\n",
       "       '≈\\u2009297\\u2009g/km (kombiniert)', '87\\u2009g/km (kombiniert)*',\n",
       "       '≈\\u2009208\\u2009g/km (kombiniert)',\n",
       "       '≈\\u200970\\u2009g/km (kombiniert)',\n",
       "       '≈\\u2009194\\u2009g/km (kombiniert)',\n",
       "       '≈\\u2009200\\u2009g/km (kombiniert)', '180\\u2009g/km (kombiniert)*',\n",
       "       '≈\\u2009238\\u2009g/km (kombiniert)',\n",
       "       '≈\\u2009176\\u2009g/km (kombiniert)',\n",
       "       '≈\\u2009185\\u2009g/km (kombiniert)', '181\\u2009g/km (kombiniert)*',\n",
       "       '≈\\u2009188\\u2009g/km (kombiniert)', '215\\u2009g/km (kombiniert)*',\n",
       "       '219\\u2009g/km (kombiniert)*', '≈\\u2009262\\u2009g/km (kombiniert)',\n",
       "       '213\\u2009g/km (kombiniert)*', '170\\u2009g/km (kombiniert)*',\n",
       "       '178\\u2009g/km (kombiniert)*', '≈\\u2009259\\u2009g/km (kombiniert)',\n",
       "       '≈\\u200985\\u2009g/km (kombiniert)', '179\\u2009g/km (kombiniert)*',\n",
       "       '≈\\u2009253\\u2009g/km (kombiniert)', '145\\u2009g/km (kombiniert)*',\n",
       "       '173\\u2009g/km (kombiniert)*', '90\\u2009g/km (kombiniert)*',\n",
       "       '≈\\u2009220\\u2009g/km (kombiniert)', '250\\u2009g/km (kombiniert)*',\n",
       "       '≈\\u2009111\\u2009g/km (kombiniert)', '182\\u2009g/km (kombiniert)*',\n",
       "       '81\\u2009g/km (kombiniert)*', '≈\\u2009226\\u2009g/km (kombiniert)',\n",
       "       '≈\\u200997\\u2009g/km (kombiniert)', '54\\u2009g/km (kombiniert)*',\n",
       "       '≈\\u2009221\\u2009g/km (kombiniert)', '257\\u2009g/km (kombiniert)*',\n",
       "       '≈\\u2009213\\u2009g/km (kombiniert)', nan,\n",
       "       '141\\u2009g/km (kombiniert)*', '≈\\u2009254\\u2009g/km (kombiniert)',\n",
       "       '201\\u2009g/km (kombiniert)*', '≈\\u2009131\\u2009g/km (kombiniert)',\n",
       "       '≈\\u200990\\u2009g/km (kombiniert)', '210\\u2009g/km (kombiniert)*',\n",
       "       '≈\\u2009142\\u2009g/km (kombiniert)',\n",
       "       '≈\\u2009198\\u2009g/km (kombiniert)', '147\\u2009g/km (kombiniert)*',\n",
       "       '192\\u2009g/km (kombiniert)*', '198\\u2009g/km (kombiniert)*',\n",
       "       '≈\\u200993\\u2009g/km (kombiniert)',\n",
       "       '≈\\u200979\\u2009g/km (kombiniert)',\n",
       "       '≈\\u2009240\\u2009g/km (kombiniert)',\n",
       "       '≈\\u2009258\\u2009g/km (kombiniert)',\n",
       "       '≈\\u2009241\\u2009g/km (kombiniert)', '53\\u2009g/km (kombiniert)*',\n",
       "       '22\\u2009g/km (kombiniert)*', '≈\\u2009247\\u2009g/km (kombiniert)',\n",
       "       '207\\u2009g/km (kombiniert)*', '168\\u2009g/km (kombiniert)*',\n",
       "       '≈\\u2009230\\u2009g/km (kombiniert)', '176\\u2009g/km (kombiniert)*',\n",
       "       '75\\u2009g/km (kombiniert)*', '≈\\u200986\\u2009g/km (kombiniert)',\n",
       "       '≈\\u2009212172\\u2009g/km (kombiniert)',\n",
       "       '≈\\u2009242\\u2009g/km (kombiniert)', '239\\u2009g/km (kombiniert)*',\n",
       "       '≈\\u2009190\\u2009g/km (kombiniert)', '295\\u2009g/km (kombiniert)*',\n",
       "       '177\\u2009g/km (kombiniert)*', '227\\u2009g/km (kombiniert)*',\n",
       "       '≈\\u2009235\\u2009g/km (kombiniert)', '261\\u2009g/km (kombiniert)*',\n",
       "       '233\\u2009g/km (kombiniert)*', '≈\\u2009292\\u2009g/km (kombiniert)',\n",
       "       '≈\\u2009302\\u2009g/km (kombiniert)',\n",
       "       '≈\\u2009322\\u2009g/km (kombiniert)',\n",
       "       '≈\\u2009206\\u2009g/km (kombiniert)',\n",
       "       '≈\\u2009210\\u2009g/km (kombiniert)',\n",
       "       '1828\\u2009g/km (kombiniert)*', '190\\u2009g/km (kombiniert)*',\n",
       "       '238\\u2009g/km (kombiniert)*', '≈\\u2009216\\u2009g/km (kombiniert)',\n",
       "       '≈\\u2009270\\u2009g/km (kombiniert)',\n",
       "       '≈\\u2009261\\u2009g/km (kombiniert)', '187\\u2009g/km (kombiniert)*',\n",
       "       '23\\u2009g/km (kombiniert)*', '24\\u2009g/km (kombiniert)*',\n",
       "       '≈\\u2009260\\u2009g/km (kombiniert)', '218\\u2009g/km (kombiniert)*',\n",
       "       '223\\u2009g/km (kombiniert)*', '≈\\u2009236\\u2009g/km (kombiniert)',\n",
       "       '70\\u2009g/km (kombiniert)*', '≈\\u2009298\\u2009g/km (kombiniert)',\n",
       "       '≈\\u20091000\\u2009g/km (kombiniert)',\n",
       "       '≈\\u2009251\\u2009g/km (kombiniert)', '209\\u2009g/km (kombiniert)*',\n",
       "       '≈\\u2009256\\u2009g/km (kombiniert)', '26\\u2009g/km (kombiniert)*',\n",
       "       '194\\u2009g/km (kombiniert)*', '≈\\u2009255\\u2009g/km (kombiniert)',\n",
       "       '≈\\u2009244\\u2009g/km (kombiniert)',\n",
       "       '≈\\u2009243\\u2009g/km (kombiniert)', '217\\u2009g/km (kombiniert)*',\n",
       "       '83\\u2009g/km (kombiniert)*', '≈\\u2009233\\u2009g/km (kombiniert)',\n",
       "       '59\\u2009g/km (kombiniert)*', '91\\u2009g/km (kombiniert)*',\n",
       "       '64\\u2009g/km (kombiniert)*', '≈\\u2009227\\u2009g/km (kombiniert)',\n",
       "       '≈\\u2009229\\u2009g/km (kombiniert)',\n",
       "       '≈\\u2009248\\u2009g/km (kombiniert)',\n",
       "       '≈\\u200996\\u2009g/km (kombiniert)',\n",
       "       '≈\\u200978\\u2009g/km (kombiniert)',\n",
       "       '≈\\u2009294\\u2009g/km (kombiniert)',\n",
       "       '≈\\u2009218\\u2009g/km (kombiniert)',\n",
       "       '≈\\u2009222\\u2009g/km (kombiniert)',\n",
       "       '≈\\u200949\\u2009g/km (kombiniert)', '230\\u2009g/km (kombiniert)*',\n",
       "       '206\\u2009g/km (kombiniert)*', '249\\u2009g/km (kombiniert)*',\n",
       "       '≈\\u200989\\u2009g/km (kombiniert)',\n",
       "       '≈\\u2009307\\u2009g/km (kombiniert)',\n",
       "       '≈\\u200916116\\u2009g/km (kombiniert)',\n",
       "       '≈\\u2009263\\u2009g/km (kombiniert)',\n",
       "       '≈\\u2009331\\u2009g/km (kombiniert)',\n",
       "       '≈\\u2009273\\u2009g/km (kombiniert)',\n",
       "       '≈\\u2009237\\u2009g/km (kombiniert)',\n",
       "       '≈\\u2009284\\u2009g/km (kombiniert)', '49\\u2009g/km (kombiniert)*',\n",
       "       '≈\\u200959\\u2009g/km (kombiniert)', '68\\u2009g/km (kombiniert)*',\n",
       "       '220\\u2009g/km (kombiniert)*', '38\\u2009g/km (kombiniert)*',\n",
       "       '62\\u2009g/km (kombiniert)*', '243\\u2009g/km (kombiniert)*',\n",
       "       '≈\\u2009252\\u2009g/km (kombiniert)', '30\\u2009g/km (kombiniert)*',\n",
       "       '11\\u2009g/km (kombiniert)*', '≈\\u2009453\\u2009g/km (kombiniert)',\n",
       "       '≈\\u20091138\\u2009g/km (kombiniert)',\n",
       "       '≈\\u200911\\u2009g/km (kombiniert)', '57\\u2009g/km (kombiniert)*',\n",
       "       '≈\\u200982\\u2009g/km (kombiniert)',\n",
       "       '≈\\u2009274\\u2009g/km (kombiniert)', '280\\u2009g/km (kombiniert)*',\n",
       "       '≈\\u200983\\u2009g/km (kombiniert)',\n",
       "       '≈\\u200991\\u2009g/km (kombiniert)', '216\\u2009g/km (kombiniert)*',\n",
       "       '252\\u2009g/km (kombiniert)*', '37\\u2009g/km (kombiniert)*',\n",
       "       '≈\\u2009358\\u2009g/km (kombiniert)',\n",
       "       '≈\\u200975\\u2009g/km (kombiniert)',\n",
       "       '≈\\u200947\\u2009g/km (kombiniert)', '78\\u2009g/km (kombiniert)*',\n",
       "       '≈\\u200922\\u2009g/km (kombiniert)',\n",
       "       '≈\\u2009275\\u2009g/km (kombiniert)', '195\\u2009g/km (kombiniert)*',\n",
       "       '≈\\u2009271\\u2009g/km (kombiniert)',\n",
       "       '≈\\u20091332\\u2009g/km (kombiniert)', '73\\u2009g/km (kombiniert)*',\n",
       "       '≈\\u20091378\\u2009g/km (kombiniert)',\n",
       "       '≈\\u200936\\u2009g/km (kombiniert)',\n",
       "       '≈\\u200962\\u2009g/km (kombiniert)', '39\\u2009g/km (kombiniert)*',\n",
       "       '≈\\u2009272\\u2009g/km (kombiniert)',\n",
       "       '≈\\u200976\\u2009g/km (kombiniert)',\n",
       "       '≈\\u200910\\u2009g/km (kombiniert)',\n",
       "       '≈\\u20095\\u2009g/km (kombiniert)', '236\\u2009g/km (kombiniert)*',\n",
       "       '≈\\u2009277\\u2009g/km (kombiniert)',\n",
       "       '≈\\u2009299\\u2009g/km (kombiniert)',\n",
       "       '≈\\u2009313\\u2009g/km (kombiniert)', '202\\u2009g/km (kombiniert)*',\n",
       "       '262\\u2009g/km (kombiniert)*', '≈\\u2009234\\u2009g/km (kombiniert)',\n",
       "       '36\\u2009g/km (kombiniert)*',\n",
       "       '≈\\u200915168\\u2009g/km (kombiniert)',\n",
       "       '≈\\u2009250\\u2009g/km (kombiniert)', '265\\u2009g/km (kombiniert)*',\n",
       "       '≈\\u200913983\\u2009g/km (kombiniert)',\n",
       "       '84\\u2009g/km (kombiniert)*', '12\\u2009g/km (kombiniert)*',\n",
       "       '40\\u2009g/km (kombiniert)*', '1380\\u2009g/km (kombiniert)*',\n",
       "       '235\\u2009g/km (kombiniert)*', '240\\u2009g/km (kombiniert)*',\n",
       "       '52\\u2009g/km (kombiniert)*', '1560\\u2009g/km (kombiniert)*',\n",
       "       '≈\\u2009281\\u2009g/km (kombiniert)',\n",
       "       '≈\\u200938\\u2009g/km (kombiniert)',\n",
       "       '≈\\u200937\\u2009g/km (kombiniert)', '245\\u2009g/km (kombiniert)*',\n",
       "       '915\\u2009g/km (kombiniert)*', '≈\\u2009287\\u2009g/km (kombiniert)',\n",
       "       '80\\u2009g/km (kombiniert)*', '28\\u2009g/km (kombiniert)*',\n",
       "       '≈\\u200913\\u2009g/km (kombiniert)', '272\\u2009g/km (kombiniert)*',\n",
       "       '268\\u2009g/km (kombiniert)*',\n",
       "       '≈\\u20091290\\u2009g/km (kombiniert)',\n",
       "       '≈\\u200935\\u2009g/km (kombiniert)', '1581\\u2009g/km (kombiniert)*',\n",
       "       '≈\\u2009414\\u2009g/km (kombiniert)',\n",
       "       '≈\\u2009283\\u2009g/km (kombiniert)', '291\\u2009g/km (kombiniert)*',\n",
       "       '≈\\u2009546\\u2009g/km (kombiniert)',\n",
       "       '≈\\u2009268\\u2009g/km (kombiniert)', '1\\u2009g/km (kombiniert)*',\n",
       "       '229\\u2009g/km (kombiniert)*', '72\\u2009g/km (kombiniert)*',\n",
       "       '≈\\u200984\\u2009g/km (kombiniert)', '226\\u2009g/km (kombiniert)*',\n",
       "       '35\\u2009g/km (kombiniert)*', '222\\u2009g/km (kombiniert)*',\n",
       "       '283\\u2009g/km (kombiniert)*', '1583\\u2009g/km (kombiniert)*',\n",
       "       '≈\\u200911613\\u2009g/km (kombiniert)',\n",
       "       '1650\\u2009g/km (kombiniert)*', '≈\\u200953\\u2009g/km (kombiniert)',\n",
       "       '≈\\u2009286\\u2009g/km (kombiniert)',\n",
       "       '≈\\u2009278\\u2009g/km (kombiniert)'], dtype=object)"
      ]
     },
     "execution_count": 90,
     "metadata": {},
     "output_type": "execute_result"
    }
   ],
   "source": [
    "train_data['CO2-Emissionen'].unique()"
   ]
  },
  {
   "cell_type": "code",
   "execution_count": 91,
   "id": "a01fa9f1",
   "metadata": {
    "ExecuteTime": {
     "end_time": "2025-06-13T11:00:34.672798Z",
     "start_time": "2025-06-13T11:00:34.670415Z"
    },
    "execution": {
     "iopub.execute_input": "2025-01-14T13:58:39.039337Z",
     "iopub.status.busy": "2025-01-14T13:58:39.038953Z",
     "iopub.status.idle": "2025-01-14T13:58:39.044901Z",
     "shell.execute_reply": "2025-01-14T13:58:39.043634Z"
    },
    "papermill": {
     "duration": 0.046049,
     "end_time": "2025-01-14T13:58:39.047197",
     "exception": false,
     "start_time": "2025-01-14T13:58:39.001148",
     "status": "completed"
    },
    "tags": []
   },
   "outputs": [],
   "source": [
    "import re\n",
    "import pandas as pd\n",
    "\n",
    "def extract_numeric(value):\n",
    "    if pd.isna(value): \n",
    "        return value\n",
    "    match = re.search(r'[\\d.]+', str(value))\n",
    "    return float(match.group(0)) if match else None  "
   ]
  },
  {
   "cell_type": "code",
   "execution_count": 92,
   "id": "29bb2577",
   "metadata": {
    "ExecuteTime": {
     "end_time": "2025-06-13T11:00:35.200788Z",
     "start_time": "2025-06-13T11:00:35.142722Z"
    },
    "execution": {
     "iopub.execute_input": "2025-01-14T13:58:39.120924Z",
     "iopub.status.busy": "2025-01-14T13:58:39.120512Z",
     "iopub.status.idle": "2025-01-14T13:58:39.315759Z",
     "shell.execute_reply": "2025-01-14T13:58:39.314634Z"
    },
    "papermill": {
     "duration": 0.235522,
     "end_time": "2025-01-14T13:58:39.318382",
     "exception": false,
     "start_time": "2025-01-14T13:58:39.082860",
     "status": "completed"
    },
    "tags": []
   },
   "outputs": [],
   "source": [
    "train_data['CO2-Emissionen'] = train_data['CO2-Emissionen'].apply(extract_numeric)\n",
    "test_data['CO2-Emissionen'] = test_data['CO2-Emissionen'].apply(extract_numeric)"
   ]
  },
  {
   "cell_type": "code",
   "execution_count": 93,
   "id": "5f896cfb",
   "metadata": {
    "ExecuteTime": {
     "end_time": "2025-06-13T11:00:35.606500Z",
     "start_time": "2025-06-13T11:00:35.569785Z"
    },
    "execution": {
     "iopub.execute_input": "2025-01-14T13:58:39.392000Z",
     "iopub.status.busy": "2025-01-14T13:58:39.391604Z",
     "iopub.status.idle": "2025-01-14T13:58:39.657804Z",
     "shell.execute_reply": "2025-01-14T13:58:39.656640Z"
    },
    "papermill": {
     "duration": 0.30535,
     "end_time": "2025-01-14T13:58:39.660263",
     "exception": false,
     "start_time": "2025-01-14T13:58:39.354913",
     "status": "completed"
    },
    "tags": []
   },
   "outputs": [
    {
     "data": {
      "image/png": "[encoded data removed]",
      "text/plain": [
       "<Figure size 640x480 with 1 Axes>"
      ]
     },
     "metadata": {},
     "output_type": "display_data"
    }
   ],
   "source": [
    "#boxplot\n",
    "fig, ax = plt.subplots()\n",
    "ax.boxplot(train_data['CO2-Emissionen'].dropna())\n",
    "ax.set_title('Histogram of Emission ')\n",
    "ax.set_ylabel('Emission Values')\n",
    "ax.set_xticklabels(['Emission'])\n",
    "plt.show()"
   ]
  },
  {
   "cell_type": "code",
   "execution_count": 94,
   "id": "1e7d56b1",
   "metadata": {
    "ExecuteTime": {
     "end_time": "2025-06-13T11:00:37.264375Z",
     "start_time": "2025-06-13T11:00:37.256778Z"
    },
    "execution": {
     "iopub.execute_input": "2025-01-14T13:58:39.736046Z",
     "iopub.status.busy": "2025-01-14T13:58:39.735689Z",
     "iopub.status.idle": "2025-01-14T13:58:39.753666Z",
     "shell.execute_reply": "2025-01-14T13:58:39.752342Z"
    },
    "papermill": {
     "duration": 0.059719,
     "end_time": "2025-01-14T13:58:39.756146",
     "exception": false,
     "start_time": "2025-01-14T13:58:39.696427",
     "status": "completed"
    },
    "tags": []
   },
   "outputs": [],
   "source": [
    "train_lb,train_ub=IQR(train_data['CO2-Emissionen'])\n",
    "test_lb,test_ub=IQR(test_data['CO2-Emissionen'])\n",
    "train_data['CO2-Emissionen'] = np.clip(train_data['CO2-Emissionen'], train_lb, train_ub)\n",
    "test_data['CO2-Emissionen'] = np.clip(test_data['CO2-Emissionen'], test_lb, test_ub)"
   ]
  },
  {
   "cell_type": "code",
   "execution_count": 95,
   "id": "ab2127f4",
   "metadata": {
    "ExecuteTime": {
     "end_time": "2025-06-13T11:00:41.402937Z",
     "start_time": "2025-06-13T11:00:41.347528Z"
    },
    "execution": {
     "iopub.execute_input": "2025-01-14T13:58:39.830174Z",
     "iopub.status.busy": "2025-01-14T13:58:39.829750Z",
     "iopub.status.idle": "2025-01-14T13:58:40.135263Z",
     "shell.execute_reply": "2025-01-14T13:58:40.134062Z"
    },
    "papermill": {
     "duration": 0.344849,
     "end_time": "2025-01-14T13:58:40.137486",
     "exception": false,
     "start_time": "2025-01-14T13:58:39.792637",
     "status": "completed"
    },
    "tags": []
   },
   "outputs": [
    {
     "data": {
      "image/png": "[encoded data removed]",
      "text/plain": [
       "<Figure size 640x480 with 1 Axes>"
      ]
     },
     "metadata": {},
     "output_type": "display_data"
    }
   ],
   "source": [
    "\n",
    "fig, ax = plt.subplots()\n",
    "ax.hist(train_data['CO2-Emissionen'], bins=20, edgecolor='black')\n",
    "ax.set_title('Filtered Distribution of CO2 Emissions ')\n",
    "ax.set_xlabel('g/km')\n",
    "ax.set_ylabel('Frequency')\n",
    "plt.show()"
   ]
  },
  {
   "cell_type": "code",
   "execution_count": 96,
   "id": "615c9ab0",
   "metadata": {
    "ExecuteTime": {
     "end_time": "2025-06-13T11:00:44.027680Z",
     "start_time": "2025-06-13T11:00:44.024270Z"
    },
    "execution": {
     "iopub.execute_input": "2025-01-14T13:58:40.213679Z",
     "iopub.status.busy": "2025-01-14T13:58:40.213304Z",
     "iopub.status.idle": "2025-01-14T13:58:40.223548Z",
     "shell.execute_reply": "2025-01-14T13:58:40.222415Z"
    },
    "papermill": {
     "duration": 0.05071,
     "end_time": "2025-01-14T13:58:40.226169",
     "exception": false,
     "start_time": "2025-01-14T13:58:40.175459",
     "status": "completed"
    },
    "tags": []
   },
   "outputs": [],
   "source": [
    "train_median = train_data['CO2-Emissionen'].median()\n",
    "test_median = test_data['CO2-Emissionen'].median()\n",
    "train_data['CO2-Emissionen'] = train_data['CO2-Emissionen'].fillna(train_median)\n",
    "test_data['CO2-Emissionen'] = test_data['CO2-Emissionen'].fillna(test_median)  # Use train median"
   ]
  },
  {
   "cell_type": "markdown",
   "id": "015447af",
   "metadata": {
    "papermill": {
     "duration": 0.036278,
     "end_time": "2025-01-14T13:58:40.432916",
     "exception": false,
     "start_time": "2025-01-14T13:58:40.396638",
     "status": "completed"
    },
    "tags": []
   },
   "source": [
    "**Handling Missing Values in Getriebe**"
   ]
  },
  {
   "cell_type": "code",
   "execution_count": 97,
   "id": "af449416",
   "metadata": {
    "ExecuteTime": {
     "end_time": "2025-06-13T11:00:47.656071Z",
     "start_time": "2025-06-13T11:00:47.651803Z"
    },
    "execution": {
     "iopub.execute_input": "2025-01-14T13:58:40.508815Z",
     "iopub.status.busy": "2025-01-14T13:58:40.507927Z",
     "iopub.status.idle": "2025-01-14T13:58:40.519437Z",
     "shell.execute_reply": "2025-01-14T13:58:40.518215Z"
    },
    "papermill": {
     "duration": 0.052055,
     "end_time": "2025-01-14T13:58:40.521589",
     "exception": false,
     "start_time": "2025-01-14T13:58:40.469534",
     "status": "completed"
    },
    "tags": []
   },
   "outputs": [
    {
     "data": {
      "text/plain": [
       "array(['Automatik', 'Schaltgetriebe', nan, 'Halbautomatik'], dtype=object)"
      ]
     },
     "execution_count": 97,
     "metadata": {},
     "output_type": "execute_result"
    }
   ],
   "source": [
    "train_data['Getriebe'].unique()"
   ]
  },
  {
   "cell_type": "code",
   "execution_count": 98,
   "id": "b328c6ef",
   "metadata": {
    "ExecuteTime": {
     "end_time": "2025-06-13T11:00:51.002514Z",
     "start_time": "2025-06-13T11:00:50.993723Z"
    },
    "execution": {
     "iopub.execute_input": "2025-01-14T13:58:40.597216Z",
     "iopub.status.busy": "2025-01-14T13:58:40.596819Z",
     "iopub.status.idle": "2025-01-14T13:58:40.618305Z",
     "shell.execute_reply": "2025-01-14T13:58:40.617164Z"
    },
    "papermill": {
     "duration": 0.062178,
     "end_time": "2025-01-14T13:58:40.620748",
     "exception": false,
     "start_time": "2025-01-14T13:58:40.558570",
     "status": "completed"
    },
    "tags": []
   },
   "outputs": [],
   "source": [
    "train_data['Getriebe'] = train_data['Getriebe'].fillna(train_data['Getriebe'].mode().iloc[0])\n",
    "test_data['Getriebe'] = test_data['Getriebe'].fillna(test_data['Getriebe'].mode().iloc[0])"
   ]
  },
  {
   "cell_type": "markdown",
   "id": "52cda0e8",
   "metadata": {
    "papermill": {
     "duration": 0.037242,
     "end_time": "2025-01-14T13:58:40.695049",
     "exception": false,
     "start_time": "2025-01-14T13:58:40.657807",
     "status": "completed"
    },
    "tags": []
   },
   "source": [
    "**Handling Missing Values in Verbrauch**"
   ]
  },
  {
   "cell_type": "code",
   "execution_count": 99,
   "id": "f7dc09e9",
   "metadata": {
    "ExecuteTime": {
     "end_time": "2025-06-13T11:01:06.294584Z",
     "start_time": "2025-06-13T11:01:06.291549Z"
    },
    "execution": {
     "iopub.execute_input": "2025-01-14T13:58:40.773604Z",
     "iopub.status.busy": "2025-01-14T13:58:40.773213Z",
     "iopub.status.idle": "2025-01-14T13:58:40.782520Z",
     "shell.execute_reply": "2025-01-14T13:58:40.781349Z"
    },
    "papermill": {
     "duration": 0.052892,
     "end_time": "2025-01-14T13:58:40.785456",
     "exception": false,
     "start_time": "2025-01-14T13:58:40.732564",
     "status": "completed"
    },
    "tags": []
   },
   "outputs": [
    {
     "data": {
      "text/plain": [
       "0    ≈ 9,3 l/100km (kombiniert)≈ 12,2 l/100km (inne...\n",
       "1    4,5 l/100km (kombiniert)*4,5 l/100km (innerort...\n",
       "2    4,1 l/100km (kombiniert)*3,8 l/100km (innerort...\n",
       "3    ≈ 6,1 l/100km (kombiniert)≈ 8,1 l/100km (inner...\n",
       "4    ≈ 4,3 l/100km (kombiniert)≈ 4,9 l/100km (inner...\n",
       "Name: Verbrauch, dtype: object"
      ]
     },
     "execution_count": 99,
     "metadata": {},
     "output_type": "execute_result"
    }
   ],
   "source": [
    "train_data['Verbrauch'].head()"
   ]
  },
  {
   "cell_type": "code",
   "execution_count": 100,
   "id": "be28449e",
   "metadata": {
    "ExecuteTime": {
     "end_time": "2025-06-13T11:01:39.973457Z",
     "start_time": "2025-06-13T11:01:39.970330Z"
    },
    "execution": {
     "iopub.execute_input": "2025-01-14T13:58:40.862025Z",
     "iopub.status.busy": "2025-01-14T13:58:40.861629Z",
     "iopub.status.idle": "2025-01-14T13:58:40.869220Z",
     "shell.execute_reply": "2025-01-14T13:58:40.868203Z"
    },
    "papermill": {
     "duration": 0.048257,
     "end_time": "2025-01-14T13:58:40.871477",
     "exception": false,
     "start_time": "2025-01-14T13:58:40.823220",
     "status": "completed"
    },
    "tags": []
   },
   "outputs": [],
   "source": [
    "import re\n",
    "\n",
    "def extract_fuel_consumption(value):\n",
    "    if pd.isna(value):\n",
    "        return None, None, None\n",
    "\n",
    "    combined_match = re.search(r'≈?\\s?([\\d,.]+)\\s?l/100km\\s?\\(kombiniert\\)', value)\n",
    "    inner_match = re.search(r'≈?\\s?([\\d,.]+)\\s?l/100km\\s?\\(innerorts\\)', value)\n",
    "    outer_match = re.search(r'≈?\\s?([\\d,.]+)\\s?l/100km\\s?\\(außerorts\\)', value)\n",
    "\n",
    "    combined = float(combined_match.group(1).replace(',', '.')) if combined_match else None\n",
    "    inner = float(inner_match.group(1).replace(',', '.')) if inner_match else None\n",
    "    outer = float(outer_match.group(1).replace(',', '.')) if outer_match else None\n",
    "\n",
    "    return combined, inner, outer\n"
   ]
  },
  {
   "cell_type": "code",
   "execution_count": 101,
   "id": "3ce8c75b",
   "metadata": {
    "ExecuteTime": {
     "end_time": "2025-06-13T11:01:42.094141Z",
     "start_time": "2025-06-13T11:01:41.609446Z"
    },
    "execution": {
     "iopub.execute_input": "2025-01-14T13:58:40.948359Z",
     "iopub.status.busy": "2025-01-14T13:58:40.947962Z",
     "iopub.status.idle": "2025-01-14T13:58:42.479952Z",
     "shell.execute_reply": "2025-01-14T13:58:42.478009Z"
    },
    "papermill": {
     "duration": 1.574894,
     "end_time": "2025-01-14T13:58:42.484367",
     "exception": false,
     "start_time": "2025-01-14T13:58:40.909473",
     "status": "completed"
    },
    "tags": []
   },
   "outputs": [],
   "source": [
    "results = train_data['Verbrauch'].apply(extract_fuel_consumption)\n",
    "results_test = test_data['Verbrauch'].apply(extract_fuel_consumption)\n",
    "\n",
    "train_data[['combined', 'inner', 'outer']] = pd.DataFrame(results.tolist(), index=train_data.index)\n",
    "test_data[['combined', 'inner', 'outer']] = pd.DataFrame(results_test.tolist(), index=test_data.index)"
   ]
  },
  {
   "cell_type": "code",
   "execution_count": 102,
   "id": "0286f366",
   "metadata": {
    "ExecuteTime": {
     "end_time": "2025-06-13T11:01:43.190607Z",
     "start_time": "2025-06-13T11:01:43.184104Z"
    },
    "execution": {
     "iopub.execute_input": "2025-01-14T13:58:42.590912Z",
     "iopub.status.busy": "2025-01-14T13:58:42.590526Z",
     "iopub.status.idle": "2025-01-14T13:58:42.609652Z",
     "shell.execute_reply": "2025-01-14T13:58:42.608242Z"
    },
    "papermill": {
     "duration": 0.084426,
     "end_time": "2025-01-14T13:58:42.612042",
     "exception": false,
     "start_time": "2025-01-14T13:58:42.527616",
     "status": "completed"
    },
    "tags": []
   },
   "outputs": [
    {
     "data": {
      "text/plain": [
       "count    84534.000000\n",
       "mean         4.899245\n",
       "std          1.151170\n",
       "min          0.100000\n",
       "25%          4.200000\n",
       "50%          4.700000\n",
       "75%          5.400000\n",
       "max        105.000000\n",
       "Name: outer, dtype: float64"
      ]
     },
     "execution_count": 102,
     "metadata": {},
     "output_type": "execute_result"
    }
   ],
   "source": [
    "train_data['outer'].describe()"
   ]
  },
  {
   "cell_type": "code",
   "execution_count": 103,
   "id": "dc64d6fa",
   "metadata": {
    "ExecuteTime": {
     "end_time": "2025-06-13T11:01:44.610242Z",
     "start_time": "2025-06-13T11:01:44.603720Z"
    },
    "execution": {
     "iopub.execute_input": "2025-01-14T13:58:42.693318Z",
     "iopub.status.busy": "2025-01-14T13:58:42.692900Z",
     "iopub.status.idle": "2025-01-14T13:58:42.711608Z",
     "shell.execute_reply": "2025-01-14T13:58:42.710461Z"
    },
    "papermill": {
     "duration": 0.06202,
     "end_time": "2025-01-14T13:58:42.714213",
     "exception": false,
     "start_time": "2025-01-14T13:58:42.652193",
     "status": "completed"
    },
    "tags": []
   },
   "outputs": [],
   "source": [
    "train_lb_o,train_ub_o=IQR(train_data['outer'])\n",
    "test_lb_o,test_ub_o=IQR(test_data['outer'])\n",
    "train_data['outer'] = np.clip(train_data['outer'], train_lb_o, train_ub_o)\n",
    "test_data['outer'] = np.clip(test_data['outer'], test_lb_o, test_ub_o)\n"
   ]
  },
  {
   "cell_type": "code",
   "execution_count": 104,
   "id": "b9ee8f78",
   "metadata": {
    "ExecuteTime": {
     "end_time": "2025-06-13T11:01:46.613403Z",
     "start_time": "2025-06-13T11:01:46.607325Z"
    },
    "execution": {
     "iopub.execute_input": "2025-01-14T13:58:42.817557Z",
     "iopub.status.busy": "2025-01-14T13:58:42.817171Z",
     "iopub.status.idle": "2025-01-14T13:58:42.837987Z",
     "shell.execute_reply": "2025-01-14T13:58:42.836576Z"
    },
    "papermill": {
     "duration": 0.078772,
     "end_time": "2025-01-14T13:58:42.840945",
     "exception": false,
     "start_time": "2025-01-14T13:58:42.762173",
     "status": "completed"
    },
    "tags": []
   },
   "outputs": [
    {
     "data": {
      "text/plain": [
       "count    84475.000000\n",
       "mean         6.904502\n",
       "std          2.042881\n",
       "min          0.100000\n",
       "25%          5.600000\n",
       "50%          6.700000\n",
       "75%          7.800000\n",
       "max        131.000000\n",
       "Name: inner, dtype: float64"
      ]
     },
     "execution_count": 104,
     "metadata": {},
     "output_type": "execute_result"
    }
   ],
   "source": [
    "train_data['inner'].describe()"
   ]
  },
  {
   "cell_type": "code",
   "execution_count": 105,
   "id": "54ac0c74",
   "metadata": {
    "ExecuteTime": {
     "end_time": "2025-06-13T11:01:49.112794Z",
     "start_time": "2025-06-13T11:01:49.104319Z"
    },
    "execution": {
     "iopub.execute_input": "2025-01-14T13:58:42.923950Z",
     "iopub.status.busy": "2025-01-14T13:58:42.923432Z",
     "iopub.status.idle": "2025-01-14T13:58:42.947327Z",
     "shell.execute_reply": "2025-01-14T13:58:42.946037Z"
    },
    "papermill": {
     "duration": 0.069292,
     "end_time": "2025-01-14T13:58:42.950434",
     "exception": false,
     "start_time": "2025-01-14T13:58:42.881142",
     "status": "completed"
    },
    "tags": []
   },
   "outputs": [],
   "source": [
    "train_lb_i,train_ub_i=IQR(train_data['inner'])\n",
    "test_lb_i,test_ub_i=IQR(test_data['inner'])\n",
    "train_data['inner'] = np.clip(train_data['inner'], train_lb_i, train_ub_i)\n",
    "test_data['inner'] = np.clip(test_data['inner'], test_lb_i, test_ub_i)"
   ]
  },
  {
   "cell_type": "code",
   "execution_count": 106,
   "id": "6dd41f3e",
   "metadata": {
    "ExecuteTime": {
     "end_time": "2025-06-13T11:01:50.367353Z",
     "start_time": "2025-06-13T11:01:50.361528Z"
    },
    "execution": {
     "iopub.execute_input": "2025-01-14T13:58:43.034303Z",
     "iopub.status.busy": "2025-01-14T13:58:43.033896Z",
     "iopub.status.idle": "2025-01-14T13:58:43.050667Z",
     "shell.execute_reply": "2025-01-14T13:58:43.049444Z"
    },
    "papermill": {
     "duration": 0.059316,
     "end_time": "2025-01-14T13:58:43.052889",
     "exception": false,
     "start_time": "2025-01-14T13:58:42.993573",
     "status": "completed"
    },
    "tags": []
   },
   "outputs": [
    {
     "data": {
      "text/plain": [
       "count    85926.000000\n",
       "mean         5.620523\n",
       "std          1.416399\n",
       "min          1.000000\n",
       "25%          4.700000\n",
       "50%          5.500000\n",
       "75%          6.300000\n",
       "max        115.000000\n",
       "Name: combined, dtype: float64"
      ]
     },
     "execution_count": 106,
     "metadata": {},
     "output_type": "execute_result"
    }
   ],
   "source": [
    "train_data['combined'].describe()"
   ]
  },
  {
   "cell_type": "code",
   "execution_count": 107,
   "id": "518ed66f",
   "metadata": {
    "ExecuteTime": {
     "end_time": "2025-06-13T11:01:52.670053Z",
     "start_time": "2025-06-13T11:01:52.661400Z"
    },
    "execution": {
     "iopub.execute_input": "2025-01-14T13:58:43.135358Z",
     "iopub.status.busy": "2025-01-14T13:58:43.133985Z",
     "iopub.status.idle": "2025-01-14T13:58:43.154310Z",
     "shell.execute_reply": "2025-01-14T13:58:43.153173Z"
    },
    "papermill": {
     "duration": 0.065032,
     "end_time": "2025-01-14T13:58:43.156866",
     "exception": false,
     "start_time": "2025-01-14T13:58:43.091834",
     "status": "completed"
    },
    "tags": []
   },
   "outputs": [],
   "source": [
    "train_lb_c,train_ub_c=IQR(train_data['combined'])\n",
    "test_lb_c,test_ub_c=IQR(test_data['combined'])\n",
    "train_data['combined'] = np.clip(train_data['combined'], train_lb_c, train_ub_c)\n",
    "test_data['combined'] = np.clip(test_data['combined'], test_lb_c, test_ub_c)"
   ]
  },
  {
   "cell_type": "code",
   "execution_count": 108,
   "id": "8a2b4bc6",
   "metadata": {
    "ExecuteTime": {
     "end_time": "2025-06-13T11:01:57.011743Z",
     "start_time": "2025-06-13T11:01:57.000273Z"
    },
    "execution": {
     "iopub.execute_input": "2025-01-14T13:58:43.238812Z",
     "iopub.status.busy": "2025-01-14T13:58:43.238294Z",
     "iopub.status.idle": "2025-01-14T13:58:43.270779Z",
     "shell.execute_reply": "2025-01-14T13:58:43.269316Z"
    },
    "papermill": {
     "duration": 0.076787,
     "end_time": "2025-01-14T13:58:43.274019",
     "exception": false,
     "start_time": "2025-01-14T13:58:43.197232",
     "status": "completed"
    },
    "tags": []
   },
   "outputs": [],
   "source": [
    "train_medians = train_data[['combined', 'inner', 'outer']].median()\n",
    "train_data[['combined', 'inner', 'outer']] = train_data[['combined', 'inner', 'outer']].fillna(train_medians)\n",
    "test_medians = test_data[['combined', 'inner', 'outer']].median()\n",
    "test_data[['combined', 'inner', 'outer']] = test_data[['combined', 'inner', 'outer']].fillna(test_medians)"
   ]
  },
  {
   "cell_type": "code",
   "execution_count": 109,
   "id": "ee7cbb56",
   "metadata": {
    "ExecuteTime": {
     "end_time": "2025-06-13T11:01:59.082010Z",
     "start_time": "2025-06-13T11:01:59.065317Z"
    },
    "execution": {
     "iopub.execute_input": "2025-01-14T13:58:43.364021Z",
     "iopub.status.busy": "2025-01-14T13:58:43.363621Z",
     "iopub.status.idle": "2025-01-14T13:58:43.404248Z",
     "shell.execute_reply": "2025-01-14T13:58:43.403168Z"
    },
    "papermill": {
     "duration": 0.08404,
     "end_time": "2025-01-14T13:58:43.406606",
     "exception": false,
     "start_time": "2025-01-14T13:58:43.322566",
     "status": "completed"
    },
    "tags": []
   },
   "outputs": [],
   "source": [
    "train_data.drop(columns=['Verbrauch'],inplace=True)\n",
    "test_data.drop(columns=['Verbrauch'],inplace=True)"
   ]
  },
  {
   "cell_type": "code",
   "execution_count": 110,
   "id": "d2b43d42",
   "metadata": {
    "ExecuteTime": {
     "end_time": "2025-06-13T11:02:00.267388Z",
     "start_time": "2025-06-13T11:02:00.198667Z"
    },
    "execution": {
     "iopub.execute_input": "2025-01-14T13:58:43.486194Z",
     "iopub.status.busy": "2025-01-14T13:58:43.485775Z",
     "iopub.status.idle": "2025-01-14T13:58:46.665397Z",
     "shell.execute_reply": "2025-01-14T13:58:46.664225Z"
    },
    "papermill": {
     "duration": 3.222098,
     "end_time": "2025-01-14T13:58:46.667632",
     "exception": false,
     "start_time": "2025-01-14T13:58:43.445534",
     "status": "completed"
    },
    "tags": []
   },
   "outputs": [
    {
     "data": {
      "text/plain": [
       "<Figure size 800x600 with 0 Axes>"
      ]
     },
     "metadata": {},
     "output_type": "display_data"
    },
    {
     "data": {
      "image/png": "[encoded data removed]",
      "text/plain": [
       "<Figure size 640x480 with 1 Axes>"
      ]
     },
     "metadata": {},
     "output_type": "display_data"
    }
   ],
   "source": [
    "plt.figure(figsize=(8, 6))\n",
    "fig, ax = plt.subplots()\n",
    "ax.scatter(train_data['inner'], train_data['outer'])\n",
    "ax.set_title('Inner City vs. Outer City Fuel Consumption')\n",
    "ax.set_xlabel('Inner City (l/100km)')\n",
    "ax.set_ylabel('Outer City (l/100km)')\n",
    "plt.show()\n",
    "\n"
   ]
  },
  {
   "cell_type": "markdown",
   "id": "6e36a9ee",
   "metadata": {
    "papermill": {
     "duration": 0.04115,
     "end_time": "2025-01-14T13:58:47.423179",
     "exception": false,
     "start_time": "2025-01-14T13:58:47.382029",
     "status": "completed"
    },
    "tags": []
   },
   "source": [
    "**Handling Missing Values in Schadstoffklasse**"
   ]
  },
  {
   "cell_type": "code",
   "execution_count": 111,
   "id": "157bb9d3",
   "metadata": {
    "ExecuteTime": {
     "end_time": "2025-06-13T11:02:19.691917Z",
     "start_time": "2025-06-13T11:02:19.687889Z"
    },
    "execution": {
     "iopub.execute_input": "2025-01-14T13:58:47.508638Z",
     "iopub.status.busy": "2025-01-14T13:58:47.508240Z",
     "iopub.status.idle": "2025-01-14T13:58:47.520703Z",
     "shell.execute_reply": "2025-01-14T13:58:47.519196Z"
    },
    "papermill": {
     "duration": 0.060557,
     "end_time": "2025-01-14T13:58:47.523610",
     "exception": false,
     "start_time": "2025-01-14T13:58:47.463053",
     "status": "completed"
    },
    "tags": []
   },
   "outputs": [
    {
     "data": {
      "text/plain": [
       "array(['Euro4', 'Euro5', 'Euro6', nan, 'Euro6d-TEMP', 'Euro6c', 'Euro3',\n",
       "       'Euro6d'], dtype=object)"
      ]
     },
     "execution_count": 111,
     "metadata": {},
     "output_type": "execute_result"
    }
   ],
   "source": [
    "train_data['Schadstoffklasse'].unique()"
   ]
  },
  {
   "cell_type": "code",
   "execution_count": 112,
   "id": "4b44a9ca",
   "metadata": {
    "ExecuteTime": {
     "end_time": "2025-06-13T11:02:21.155207Z",
     "start_time": "2025-06-13T11:02:21.143142Z"
    },
    "execution": {
     "iopub.execute_input": "2025-01-14T13:58:47.609139Z",
     "iopub.status.busy": "2025-01-14T13:58:47.608684Z",
     "iopub.status.idle": "2025-01-14T13:58:47.634256Z",
     "shell.execute_reply": "2025-01-14T13:58:47.633034Z"
    },
    "papermill": {
     "duration": 0.072727,
     "end_time": "2025-01-14T13:58:47.637171",
     "exception": false,
     "start_time": "2025-01-14T13:58:47.564444",
     "status": "completed"
    },
    "tags": []
   },
   "outputs": [],
   "source": [
    "train_data['Schadstoffklasse'] = train_data['Schadstoffklasse'].replace(['Euro6d-TEMP', 'Euro6c', 'Euro6d'],'Euro6')\n",
    "test_data['Schadstoffklasse'] = test_data['Schadstoffklasse'].replace(['Euro6d-TEMP', 'Euro6c', 'Euro6d'],'Euro6')\n",
    "\n"
   ]
  },
  {
   "cell_type": "code",
   "execution_count": 113,
   "id": "227c3b8c",
   "metadata": {
    "ExecuteTime": {
     "end_time": "2025-06-13T11:02:23.040626Z",
     "start_time": "2025-06-13T11:02:23.037347Z"
    },
    "execution": {
     "iopub.execute_input": "2025-01-14T13:58:47.720995Z",
     "iopub.status.busy": "2025-01-14T13:58:47.720599Z",
     "iopub.status.idle": "2025-01-14T13:58:47.731583Z",
     "shell.execute_reply": "2025-01-14T13:58:47.730149Z"
    },
    "papermill": {
     "duration": 0.056812,
     "end_time": "2025-01-14T13:58:47.734238",
     "exception": false,
     "start_time": "2025-01-14T13:58:47.677426",
     "status": "completed"
    },
    "tags": []
   },
   "outputs": [
    {
     "name": "stdout",
     "output_type": "stream",
     "text": [
      "['Euro4' 'Euro5' 'Euro6' nan 'Euro3']\n"
     ]
    }
   ],
   "source": [
    "print(train_data['Schadstoffklasse'].unique())"
   ]
  },
  {
   "cell_type": "code",
   "execution_count": 114,
   "id": "0d00dc8b",
   "metadata": {
    "ExecuteTime": {
     "end_time": "2025-06-13T11:02:25.866670Z",
     "start_time": "2025-06-13T11:02:25.857678Z"
    },
    "execution": {
     "iopub.execute_input": "2025-01-14T13:58:47.821591Z",
     "iopub.status.busy": "2025-01-14T13:58:47.820945Z",
     "iopub.status.idle": "2025-01-14T13:58:47.845846Z",
     "shell.execute_reply": "2025-01-14T13:58:47.844441Z"
    },
    "papermill": {
     "duration": 0.070398,
     "end_time": "2025-01-14T13:58:47.848681",
     "exception": false,
     "start_time": "2025-01-14T13:58:47.778283",
     "status": "completed"
    },
    "tags": []
   },
   "outputs": [],
   "source": [
    "train_data['Schadstoffklasse'] = train_data['Schadstoffklasse'].fillna(train_data['Schadstoffklasse'].mode().iloc[0])\n",
    "test_data['Schadstoffklasse'] = test_data['Schadstoffklasse'].fillna(test_data['Schadstoffklasse'].mode().iloc[0])"
   ]
  },
  {
   "cell_type": "markdown",
   "id": "f54b1fc3",
   "metadata": {
    "papermill": {
     "duration": 0.043647,
     "end_time": "2025-01-14T13:58:47.994476",
     "exception": false,
     "start_time": "2025-01-14T13:58:47.950829",
     "status": "completed"
    },
    "tags": []
   },
   "source": [
    "**Handling Missing Values in Hubraum**"
   ]
  },
  {
   "cell_type": "code",
   "execution_count": 115,
   "id": "d5606f3c",
   "metadata": {
    "ExecuteTime": {
     "end_time": "2025-06-13T08:03:26.707605Z",
     "start_time": "2025-06-13T08:03:26.704197Z"
    },
    "execution": {
     "iopub.execute_input": "2025-01-14T13:58:48.084879Z",
     "iopub.status.busy": "2025-01-14T13:58:48.084521Z",
     "iopub.status.idle": "2025-01-14T13:58:48.093499Z",
     "shell.execute_reply": "2025-01-14T13:58:48.091928Z"
    },
    "papermill": {
     "duration": 0.056164,
     "end_time": "2025-01-14T13:58:48.096126",
     "exception": false,
     "start_time": "2025-01-14T13:58:48.039962",
     "status": "completed"
    },
    "tags": []
   },
   "outputs": [
    {
     "data": {
      "text/plain": [
       "0    2.987 cm³\n",
       "1    2.143 cm³\n",
       "2    1.798 cm³\n",
       "3    2.143 cm³\n",
       "4    1.600 cm³\n",
       "Name: Hubraum, dtype: object"
      ]
     },
     "execution_count": 115,
     "metadata": {},
     "output_type": "execute_result"
    }
   ],
   "source": [
    "train_data['Hubraum'].head()"
   ]
  },
  {
   "cell_type": "code",
   "execution_count": 116,
   "id": "cc0cb61a",
   "metadata": {
    "ExecuteTime": {
     "end_time": "2025-06-13T11:02:57.874816Z",
     "start_time": "2025-06-13T11:02:57.871827Z"
    },
    "execution": {
     "iopub.execute_input": "2025-01-14T13:58:48.180785Z",
     "iopub.status.busy": "2025-01-14T13:58:48.180389Z",
     "iopub.status.idle": "2025-01-14T13:58:48.186699Z",
     "shell.execute_reply": "2025-01-14T13:58:48.185567Z"
    },
    "papermill": {
     "duration": 0.050198,
     "end_time": "2025-01-14T13:58:48.189186",
     "exception": false,
     "start_time": "2025-01-14T13:58:48.138988",
     "status": "completed"
    },
    "tags": []
   },
   "outputs": [],
   "source": [
    "import pandas as pd\n",
    "\n",
    "def clean_engine_displacement(value):\n",
    "    if pd.isna(value):  \n",
    "        return value\n",
    "    value = value.replace('\\xa0', '').replace(',', '.')\n",
    "    try:\n",
    "        return float(value.replace('cm³', '').strip())\n",
    "    except ValueError:\n",
    "        return None \n"
   ]
  },
  {
   "cell_type": "code",
   "execution_count": 117,
   "id": "d1a79c2b",
   "metadata": {
    "ExecuteTime": {
     "end_time": "2025-06-13T11:02:58.418679Z",
     "start_time": "2025-06-13T11:02:58.382686Z"
    },
    "execution": {
     "iopub.execute_input": "2025-01-14T13:58:48.273904Z",
     "iopub.status.busy": "2025-01-14T13:58:48.273519Z",
     "iopub.status.idle": "2025-01-14T13:58:48.395033Z",
     "shell.execute_reply": "2025-01-14T13:58:48.393729Z"
    },
    "papermill": {
     "duration": 0.16639,
     "end_time": "2025-01-14T13:58:48.397472",
     "exception": false,
     "start_time": "2025-01-14T13:58:48.231082",
     "status": "completed"
    },
    "tags": []
   },
   "outputs": [],
   "source": [
    "train_data['Hubraum'] = train_data['Hubraum'].apply(clean_engine_displacement)\n",
    "test_data['Hubraum'] = test_data['Hubraum'].apply(clean_engine_displacement)"
   ]
  },
  {
   "cell_type": "code",
   "execution_count": 118,
   "id": "bf598d8a",
   "metadata": {
    "ExecuteTime": {
     "end_time": "2025-06-13T11:02:58.886274Z",
     "start_time": "2025-06-13T11:02:58.879883Z"
    },
    "execution": {
     "iopub.execute_input": "2025-01-14T13:58:48.486855Z",
     "iopub.status.busy": "2025-01-14T13:58:48.486478Z",
     "iopub.status.idle": "2025-01-14T13:58:48.502605Z",
     "shell.execute_reply": "2025-01-14T13:58:48.501515Z"
    },
    "papermill": {
     "duration": 0.065743,
     "end_time": "2025-01-14T13:58:48.505030",
     "exception": false,
     "start_time": "2025-01-14T13:58:48.439287",
     "status": "completed"
    },
    "tags": []
   },
   "outputs": [
    {
     "data": {
      "text/plain": [
       "count    86018.000000\n",
       "mean        64.606878\n",
       "std        240.969609\n",
       "min          1.000000\n",
       "25%          1.591000\n",
       "50%          1.968000\n",
       "75%          2.143000\n",
       "max        999.000000\n",
       "Name: Hubraum, dtype: float64"
      ]
     },
     "execution_count": 118,
     "metadata": {},
     "output_type": "execute_result"
    }
   ],
   "source": [
    "train_data['Hubraum'].describe()"
   ]
  },
  {
   "cell_type": "code",
   "execution_count": 119,
   "id": "dea7ca91",
   "metadata": {
    "ExecuteTime": {
     "end_time": "2025-06-13T11:03:00.609273Z",
     "start_time": "2025-06-13T11:03:00.600956Z"
    },
    "execution": {
     "iopub.execute_input": "2025-01-14T13:58:48.587160Z",
     "iopub.status.busy": "2025-01-14T13:58:48.586745Z",
     "iopub.status.idle": "2025-01-14T13:58:48.603970Z",
     "shell.execute_reply": "2025-01-14T13:58:48.602889Z"
    },
    "papermill": {
     "duration": 0.06099,
     "end_time": "2025-01-14T13:58:48.606470",
     "exception": false,
     "start_time": "2025-01-14T13:58:48.545480",
     "status": "completed"
    },
    "tags": []
   },
   "outputs": [],
   "source": [
    "train_lb_h,train_ub_h=IQR(train_data['Hubraum'])\n",
    "test_lb_h,test_ub_h=IQR(test_data['Hubraum'])\n",
    "train_data['Hubraum'] = np.clip(train_data['Hubraum'], train_lb_h, train_ub_h)\n",
    "test_data['Hubraum'] = np.clip(test_data['Hubraum'], test_lb_h, test_ub_h)"
   ]
  },
  {
   "cell_type": "code",
   "execution_count": 120,
   "id": "7fdf7e57",
   "metadata": {
    "ExecuteTime": {
     "end_time": "2025-06-13T11:03:01.780793Z",
     "start_time": "2025-06-13T11:03:01.776279Z"
    },
    "execution": {
     "iopub.execute_input": "2025-01-14T13:58:48.688159Z",
     "iopub.status.busy": "2025-01-14T13:58:48.687090Z",
     "iopub.status.idle": "2025-01-14T13:58:48.697346Z",
     "shell.execute_reply": "2025-01-14T13:58:48.696141Z"
    },
    "papermill": {
     "duration": 0.053431,
     "end_time": "2025-01-14T13:58:48.699889",
     "exception": false,
     "start_time": "2025-01-14T13:58:48.646458",
     "status": "completed"
    },
    "tags": []
   },
   "outputs": [],
   "source": [
    "train_data['Hubraum'] = train_data['Hubraum'].fillna(train_data['Hubraum'].median())\n",
    "test_data['Hubraum'] = test_data['Hubraum'].fillna(test_data['Hubraum'].median())"
   ]
  },
  {
   "cell_type": "code",
   "execution_count": 121,
   "id": "09d2caf6",
   "metadata": {
    "ExecuteTime": {
     "end_time": "2025-06-13T11:03:04.422399Z",
     "start_time": "2025-06-13T11:03:04.370935Z"
    },
    "execution": {
     "iopub.execute_input": "2025-01-14T13:58:48.785920Z",
     "iopub.status.busy": "2025-01-14T13:58:48.785540Z",
     "iopub.status.idle": "2025-01-14T13:58:49.143064Z",
     "shell.execute_reply": "2025-01-14T13:58:49.141535Z"
    },
    "papermill": {
     "duration": 0.404967,
     "end_time": "2025-01-14T13:58:49.145874",
     "exception": false,
     "start_time": "2025-01-14T13:58:48.740907",
     "status": "completed"
    },
    "tags": []
   },
   "outputs": [
    {
     "data": {
      "image/png": "[encoded data removed]",
      "text/plain": [
       "<Figure size 640x480 with 1 Axes>"
      ]
     },
     "metadata": {},
     "output_type": "display_data"
    }
   ],
   "source": [
    "\n",
    "fig, ax = plt.subplots()\n",
    "ax.hist(train_data['Hubraum'], bins=20, edgecolor='black')\n",
    "ax.set_title('Filtered Distribution Engine Displacement ')\n",
    "ax.set_xlabel('Engine Displacement')\n",
    "ax.set_ylabel('Frequency')\n",
    "plt.show()"
   ]
  },
  {
   "cell_type": "code",
   "execution_count": 122,
   "id": "785b46d8",
   "metadata": {
    "ExecuteTime": {
     "end_time": "2025-06-13T11:03:08.166393Z",
     "start_time": "2025-06-13T11:03:08.132962Z"
    },
    "execution": {
     "iopub.execute_input": "2025-01-14T13:58:49.231340Z",
     "iopub.status.busy": "2025-01-14T13:58:49.230929Z",
     "iopub.status.idle": "2025-01-14T13:58:49.316437Z",
     "shell.execute_reply": "2025-01-14T13:58:49.315320Z"
    },
    "papermill": {
     "duration": 0.130562,
     "end_time": "2025-01-14T13:58:49.318850",
     "exception": false,
     "start_time": "2025-01-14T13:58:49.188288",
     "status": "completed"
    },
    "tags": []
   },
   "outputs": [
    {
     "data": {
      "text/html": [
       "<div>\n",
       "<style scoped>\n",
       "    .dataframe tbody tr th:only-of-type {\n",
       "        vertical-align: middle;\n",
       "    }\n",
       "\n",
       "    .dataframe tbody tr th {\n",
       "        vertical-align: top;\n",
       "    }\n",
       "\n",
       "    .dataframe thead th {\n",
       "        text-align: right;\n",
       "    }\n",
       "</style>\n",
       "<table border=\"1\" class=\"dataframe\">\n",
       "  <thead>\n",
       "    <tr style=\"text-align: right;\">\n",
       "      <th></th>\n",
       "      <th>price</th>\n",
       "      <th>Kilometerstand</th>\n",
       "      <th>Leistung</th>\n",
       "      <th>CO2-Emissionen</th>\n",
       "      <th>Hubraum</th>\n",
       "      <th>Anzahl Sitzplätze</th>\n",
       "      <th>age</th>\n",
       "      <th>availabilityDays</th>\n",
       "      <th>combined</th>\n",
       "      <th>inner</th>\n",
       "      <th>outer</th>\n",
       "    </tr>\n",
       "  </thead>\n",
       "  <tbody>\n",
       "    <tr>\n",
       "      <th>count</th>\n",
       "      <td>86049.000000</td>\n",
       "      <td>86049.000000</td>\n",
       "      <td>86049.000000</td>\n",
       "      <td>86049.000000</td>\n",
       "      <td>86049.000000</td>\n",
       "      <td>78827.00000</td>\n",
       "      <td>86049.000000</td>\n",
       "      <td>86049.000000</td>\n",
       "      <td>86049.000000</td>\n",
       "      <td>86049.000000</td>\n",
       "      <td>86049.000000</td>\n",
       "    </tr>\n",
       "    <tr>\n",
       "      <th>mean</th>\n",
       "      <td>24699.814733</td>\n",
       "      <td>44.391536</td>\n",
       "      <td>152.731850</td>\n",
       "      <td>139.273978</td>\n",
       "      <td>1.930350</td>\n",
       "      <td>5.12620</td>\n",
       "      <td>1080.582633</td>\n",
       "      <td>-4.506583</td>\n",
       "      <td>5.599990</td>\n",
       "      <td>6.860301</td>\n",
       "      <td>4.875283</td>\n",
       "    </tr>\n",
       "    <tr>\n",
       "      <th>std</th>\n",
       "      <td>14137.738646</td>\n",
       "      <td>45.050680</td>\n",
       "      <td>46.865482</td>\n",
       "      <td>29.696656</td>\n",
       "      <td>0.509117</td>\n",
       "      <td>0.96234</td>\n",
       "      <td>923.686086</td>\n",
       "      <td>38.844476</td>\n",
       "      <td>1.182314</td>\n",
       "      <td>1.647960</td>\n",
       "      <td>0.910931</td>\n",
       "    </tr>\n",
       "    <tr>\n",
       "      <th>min</th>\n",
       "      <td>1490.000000</td>\n",
       "      <td>1.000000</td>\n",
       "      <td>45.000000</td>\n",
       "      <td>63.500000</td>\n",
       "      <td>1.000000</td>\n",
       "      <td>1.00000</td>\n",
       "      <td>-185.000000</td>\n",
       "      <td>-270.000000</td>\n",
       "      <td>2.300000</td>\n",
       "      <td>2.300000</td>\n",
       "      <td>2.400000</td>\n",
       "    </tr>\n",
       "    <tr>\n",
       "      <th>25%</th>\n",
       "      <td>14890.000000</td>\n",
       "      <td>10.990000</td>\n",
       "      <td>117.000000</td>\n",
       "      <td>119.000000</td>\n",
       "      <td>1.591000</td>\n",
       "      <td>5.00000</td>\n",
       "      <td>395.000000</td>\n",
       "      <td>0.000000</td>\n",
       "      <td>4.700000</td>\n",
       "      <td>5.600000</td>\n",
       "      <td>4.200000</td>\n",
       "    </tr>\n",
       "    <tr>\n",
       "      <th>50%</th>\n",
       "      <td>21250.000000</td>\n",
       "      <td>25.010000</td>\n",
       "      <td>150.000000</td>\n",
       "      <td>134.000000</td>\n",
       "      <td>1.968000</td>\n",
       "      <td>5.00000</td>\n",
       "      <td>695.000000</td>\n",
       "      <td>0.000000</td>\n",
       "      <td>5.500000</td>\n",
       "      <td>6.700000</td>\n",
       "      <td>4.700000</td>\n",
       "    </tr>\n",
       "    <tr>\n",
       "      <th>75%</th>\n",
       "      <td>30745.000000</td>\n",
       "      <td>67.072000</td>\n",
       "      <td>179.000000</td>\n",
       "      <td>156.000000</td>\n",
       "      <td>2.143000</td>\n",
       "      <td>5.00000</td>\n",
       "      <td>1610.000000</td>\n",
       "      <td>0.000000</td>\n",
       "      <td>6.300000</td>\n",
       "      <td>7.800000</td>\n",
       "      <td>5.400000</td>\n",
       "    </tr>\n",
       "    <tr>\n",
       "      <th>max</th>\n",
       "      <td>168890.000000</td>\n",
       "      <td>164.519000</td>\n",
       "      <td>292.000000</td>\n",
       "      <td>211.500000</td>\n",
       "      <td>2.971000</td>\n",
       "      <td>67.00000</td>\n",
       "      <td>3860.000000</td>\n",
       "      <td>997.000000</td>\n",
       "      <td>8.700000</td>\n",
       "      <td>11.100000</td>\n",
       "      <td>7.200000</td>\n",
       "    </tr>\n",
       "  </tbody>\n",
       "</table>\n",
       "</div>"
      ],
      "text/plain": [
       "               price  Kilometerstand      Leistung  CO2-Emissionen  \\\n",
       "count   86049.000000    86049.000000  86049.000000    86049.000000   \n",
       "mean    24699.814733       44.391536    152.731850      139.273978   \n",
       "std     14137.738646       45.050680     46.865482       29.696656   \n",
       "min      1490.000000        1.000000     45.000000       63.500000   \n",
       "25%     14890.000000       10.990000    117.000000      119.000000   \n",
       "50%     21250.000000       25.010000    150.000000      134.000000   \n",
       "75%     30745.000000       67.072000    179.000000      156.000000   \n",
       "max    168890.000000      164.519000    292.000000      211.500000   \n",
       "\n",
       "            Hubraum  Anzahl Sitzplätze           age  availabilityDays  \\\n",
       "count  86049.000000        78827.00000  86049.000000      86049.000000   \n",
       "mean       1.930350            5.12620   1080.582633         -4.506583   \n",
       "std        0.509117            0.96234    923.686086         38.844476   \n",
       "min        1.000000            1.00000   -185.000000       -270.000000   \n",
       "25%        1.591000            5.00000    395.000000          0.000000   \n",
       "50%        1.968000            5.00000    695.000000          0.000000   \n",
       "75%        2.143000            5.00000   1610.000000          0.000000   \n",
       "max        2.971000           67.00000   3860.000000        997.000000   \n",
       "\n",
       "           combined         inner         outer  \n",
       "count  86049.000000  86049.000000  86049.000000  \n",
       "mean       5.599990      6.860301      4.875283  \n",
       "std        1.182314      1.647960      0.910931  \n",
       "min        2.300000      2.300000      2.400000  \n",
       "25%        4.700000      5.600000      4.200000  \n",
       "50%        5.500000      6.700000      4.700000  \n",
       "75%        6.300000      7.800000      5.400000  \n",
       "max        8.700000     11.100000      7.200000  "
      ]
     },
     "execution_count": 122,
     "metadata": {},
     "output_type": "execute_result"
    }
   ],
   "source": [
    "train_data.describe()"
   ]
  },
  {
   "cell_type": "markdown",
   "id": "0369f5d5",
   "metadata": {
    "papermill": {
     "duration": 0.041981,
     "end_time": "2025-01-14T13:58:49.401312",
     "exception": false,
     "start_time": "2025-01-14T13:58:49.359331",
     "status": "completed"
    },
    "tags": []
   },
   "source": [
    "**Handling Missing Values in Anzahl Sitzplätze**"
   ]
  },
  {
   "cell_type": "code",
   "execution_count": 123,
   "id": "8cb9661d",
   "metadata": {
    "ExecuteTime": {
     "end_time": "2025-06-13T11:03:25.308915Z",
     "start_time": "2025-06-13T11:03:25.305468Z"
    },
    "execution": {
     "iopub.execute_input": "2025-01-14T13:58:49.484969Z",
     "iopub.status.busy": "2025-01-14T13:58:49.484580Z",
     "iopub.status.idle": "2025-01-14T13:58:49.494273Z",
     "shell.execute_reply": "2025-01-14T13:58:49.493172Z"
    },
    "papermill": {
     "duration": 0.054498,
     "end_time": "2025-01-14T13:58:49.496420",
     "exception": false,
     "start_time": "2025-01-14T13:58:49.441922",
     "status": "completed"
    },
    "tags": []
   },
   "outputs": [
    {
     "data": {
      "text/plain": [
       "array([ 5.,  7., nan,  4.,  3.,  8.,  2.,  6.,  9., 10.,  1., 17., 67.])"
      ]
     },
     "execution_count": 123,
     "metadata": {},
     "output_type": "execute_result"
    }
   ],
   "source": [
    "train_data['Anzahl Sitzplätze'].unique()"
   ]
  },
  {
   "cell_type": "code",
   "execution_count": 124,
   "id": "b9a0e72d",
   "metadata": {
    "ExecuteTime": {
     "end_time": "2025-06-13T11:03:25.900119Z",
     "start_time": "2025-06-13T11:03:25.894218Z"
    },
    "execution": {
     "iopub.execute_input": "2025-01-14T13:58:49.579980Z",
     "iopub.status.busy": "2025-01-14T13:58:49.579154Z",
     "iopub.status.idle": "2025-01-14T13:58:49.595270Z",
     "shell.execute_reply": "2025-01-14T13:58:49.594006Z"
    },
    "papermill": {
     "duration": 0.060549,
     "end_time": "2025-01-14T13:58:49.597731",
     "exception": false,
     "start_time": "2025-01-14T13:58:49.537182",
     "status": "completed"
    },
    "tags": []
   },
   "outputs": [
    {
     "data": {
      "text/plain": [
       "count    78827.00000\n",
       "mean         5.12620\n",
       "std          0.96234\n",
       "min          1.00000\n",
       "25%          5.00000\n",
       "50%          5.00000\n",
       "75%          5.00000\n",
       "max         67.00000\n",
       "Name: Anzahl Sitzplätze, dtype: float64"
      ]
     },
     "execution_count": 124,
     "metadata": {},
     "output_type": "execute_result"
    }
   ],
   "source": [
    "train_data['Anzahl Sitzplätze'].describe()"
   ]
  },
  {
   "cell_type": "code",
   "execution_count": 125,
   "id": "823381a6",
   "metadata": {
    "ExecuteTime": {
     "end_time": "2025-06-13T11:03:42.381463Z",
     "start_time": "2025-06-13T11:03:42.336243Z"
    },
    "execution": {
     "iopub.execute_input": "2025-01-14T13:58:49.681531Z",
     "iopub.status.busy": "2025-01-14T13:58:49.681150Z",
     "iopub.status.idle": "2025-01-14T13:58:49.926761Z",
     "shell.execute_reply": "2025-01-14T13:58:49.925629Z"
    },
    "papermill": {
     "duration": 0.290424,
     "end_time": "2025-01-14T13:58:49.929344",
     "exception": false,
     "start_time": "2025-01-14T13:58:49.638920",
     "status": "completed"
    },
    "tags": []
   },
   "outputs": [
    {
     "data": {
      "image/png": "[encoded data removed]",
      "text/plain": [
       "<Figure size 1000x600 with 1 Axes>"
      ]
     },
     "metadata": {},
     "output_type": "display_data"
    }
   ],
   "source": [
    "import matplotlib.pyplot as plt\n",
    "\n",
    "plt.figure(figsize=(10, 6))\n",
    "plt.boxplot(train_data['Anzahl Sitzplätze'].dropna())\n",
    "\n",
    "plt.title('No of seats')\n",
    "plt.xlabel('sitzplace')\n",
    "plt.show()"
   ]
  },
  {
   "cell_type": "code",
   "execution_count": 126,
   "id": "dfa64737",
   "metadata": {
    "ExecuteTime": {
     "end_time": "2025-06-13T11:03:54.532062Z",
     "start_time": "2025-06-13T11:03:54.525637Z"
    },
    "execution": {
     "iopub.execute_input": "2025-01-14T13:58:50.015898Z",
     "iopub.status.busy": "2025-01-14T13:58:50.015476Z",
     "iopub.status.idle": "2025-01-14T13:58:50.032196Z",
     "shell.execute_reply": "2025-01-14T13:58:50.031046Z"
    },
    "papermill": {
     "duration": 0.063667,
     "end_time": "2025-01-14T13:58:50.034970",
     "exception": false,
     "start_time": "2025-01-14T13:58:49.971303",
     "status": "completed"
    },
    "tags": []
   },
   "outputs": [],
   "source": [
    "train_lb_s,train_ub_s=IQR(train_data['Anzahl Sitzplätze'])\n",
    "test_lb_s,test_ub_s=IQR(test_data['Anzahl Sitzplätze'])\n",
    "train_data['Anzahl Sitzplätze'] = np.clip(train_data['Anzahl Sitzplätze'], train_lb_s, train_ub_s)\n",
    "test_data['Anzahl Sitzplätze'] = np.clip(test_data['Anzahl Sitzplätze'], test_lb_s, test_ub_s)"
   ]
  },
  {
   "cell_type": "code",
   "execution_count": 127,
   "id": "0f712efd",
   "metadata": {
    "ExecuteTime": {
     "end_time": "2025-06-13T11:03:55.051555Z",
     "start_time": "2025-06-13T11:03:55.047628Z"
    },
    "execution": {
     "iopub.execute_input": "2025-01-14T13:58:50.121205Z",
     "iopub.status.busy": "2025-01-14T13:58:50.120766Z",
     "iopub.status.idle": "2025-01-14T13:58:50.131822Z",
     "shell.execute_reply": "2025-01-14T13:58:50.130460Z"
    },
    "papermill": {
     "duration": 0.057351,
     "end_time": "2025-01-14T13:58:50.134243",
     "exception": false,
     "start_time": "2025-01-14T13:58:50.076892",
     "status": "completed"
    },
    "tags": []
   },
   "outputs": [],
   "source": [
    "train_data['Anzahl Sitzplätze']=train_data['Anzahl Sitzplätze'].fillna(train_data['Anzahl Sitzplätze'].median())\n",
    "test_data['Anzahl Sitzplätze']=test_data['Anzahl Sitzplätze'].fillna(test_data['Anzahl Sitzplätze'].median())"
   ]
  },
  {
   "cell_type": "code",
   "execution_count": 128,
   "id": "f768f640",
   "metadata": {
    "ExecuteTime": {
     "end_time": "2025-06-13T11:03:55.647248Z",
     "start_time": "2025-06-13T11:03:55.618111Z"
    },
    "execution": {
     "iopub.execute_input": "2025-01-14T13:58:50.222197Z",
     "iopub.status.busy": "2025-01-14T13:58:50.221631Z",
     "iopub.status.idle": "2025-01-14T13:58:50.421853Z",
     "shell.execute_reply": "2025-01-14T13:58:50.420788Z"
    },
    "papermill": {
     "duration": 0.246708,
     "end_time": "2025-01-14T13:58:50.424228",
     "exception": false,
     "start_time": "2025-01-14T13:58:50.177520",
     "status": "completed"
    },
    "tags": []
   },
   "outputs": [
    {
     "data": {
      "image/png": "[encoded data removed]",
      "text/plain": [
       "<Figure size 1000x600 with 1 Axes>"
      ]
     },
     "metadata": {},
     "output_type": "display_data"
    }
   ],
   "source": [
    "import matplotlib.pyplot as plt\n",
    "\n",
    "plt.figure(figsize=(10, 6))\n",
    "plt.boxplot(train_data['Anzahl Sitzplätze'].dropna())\n",
    "\n",
    "plt.title('No of seats')\n",
    "plt.xlabel('sitzplace')\n",
    "plt.show()"
   ]
  },
  {
   "cell_type": "code",
   "execution_count": 129,
   "id": "2ff63728",
   "metadata": {
    "ExecuteTime": {
     "end_time": "2025-06-13T11:04:02.527642Z",
     "start_time": "2025-06-13T11:04:02.497735Z"
    },
    "execution": {
     "iopub.execute_input": "2025-01-14T13:58:50.509192Z",
     "iopub.status.busy": "2025-01-14T13:58:50.508771Z",
     "iopub.status.idle": "2025-01-14T13:58:50.587743Z",
     "shell.execute_reply": "2025-01-14T13:58:50.586519Z"
    },
    "papermill": {
     "duration": 0.124209,
     "end_time": "2025-01-14T13:58:50.590182",
     "exception": false,
     "start_time": "2025-01-14T13:58:50.465973",
     "status": "completed"
    },
    "tags": []
   },
   "outputs": [
    {
     "data": {
      "text/html": [
       "<div>\n",
       "<style scoped>\n",
       "    .dataframe tbody tr th:only-of-type {\n",
       "        vertical-align: middle;\n",
       "    }\n",
       "\n",
       "    .dataframe tbody tr th {\n",
       "        vertical-align: top;\n",
       "    }\n",
       "\n",
       "    .dataframe thead th {\n",
       "        text-align: right;\n",
       "    }\n",
       "</style>\n",
       "<table border=\"1\" class=\"dataframe\">\n",
       "  <thead>\n",
       "    <tr style=\"text-align: right;\">\n",
       "      <th></th>\n",
       "      <th>price</th>\n",
       "      <th>Kilometerstand</th>\n",
       "      <th>Leistung</th>\n",
       "      <th>CO2-Emissionen</th>\n",
       "      <th>Hubraum</th>\n",
       "      <th>Anzahl Sitzplätze</th>\n",
       "      <th>age</th>\n",
       "      <th>availabilityDays</th>\n",
       "      <th>combined</th>\n",
       "      <th>inner</th>\n",
       "      <th>outer</th>\n",
       "    </tr>\n",
       "  </thead>\n",
       "  <tbody>\n",
       "    <tr>\n",
       "      <th>count</th>\n",
       "      <td>86049.000000</td>\n",
       "      <td>86049.000000</td>\n",
       "      <td>86049.000000</td>\n",
       "      <td>86049.000000</td>\n",
       "      <td>86049.000000</td>\n",
       "      <td>86049.0</td>\n",
       "      <td>86049.000000</td>\n",
       "      <td>86049.000000</td>\n",
       "      <td>86049.000000</td>\n",
       "      <td>86049.000000</td>\n",
       "      <td>86049.000000</td>\n",
       "    </tr>\n",
       "    <tr>\n",
       "      <th>mean</th>\n",
       "      <td>24699.814733</td>\n",
       "      <td>44.391536</td>\n",
       "      <td>152.731850</td>\n",
       "      <td>139.273978</td>\n",
       "      <td>1.930350</td>\n",
       "      <td>5.0</td>\n",
       "      <td>1080.582633</td>\n",
       "      <td>-4.506583</td>\n",
       "      <td>5.599990</td>\n",
       "      <td>6.860301</td>\n",
       "      <td>4.875283</td>\n",
       "    </tr>\n",
       "    <tr>\n",
       "      <th>std</th>\n",
       "      <td>14137.738646</td>\n",
       "      <td>45.050680</td>\n",
       "      <td>46.865482</td>\n",
       "      <td>29.696656</td>\n",
       "      <td>0.509117</td>\n",
       "      <td>0.0</td>\n",
       "      <td>923.686086</td>\n",
       "      <td>38.844476</td>\n",
       "      <td>1.182314</td>\n",
       "      <td>1.647960</td>\n",
       "      <td>0.910931</td>\n",
       "    </tr>\n",
       "    <tr>\n",
       "      <th>min</th>\n",
       "      <td>1490.000000</td>\n",
       "      <td>1.000000</td>\n",
       "      <td>45.000000</td>\n",
       "      <td>63.500000</td>\n",
       "      <td>1.000000</td>\n",
       "      <td>5.0</td>\n",
       "      <td>-185.000000</td>\n",
       "      <td>-270.000000</td>\n",
       "      <td>2.300000</td>\n",
       "      <td>2.300000</td>\n",
       "      <td>2.400000</td>\n",
       "    </tr>\n",
       "    <tr>\n",
       "      <th>25%</th>\n",
       "      <td>14890.000000</td>\n",
       "      <td>10.990000</td>\n",
       "      <td>117.000000</td>\n",
       "      <td>119.000000</td>\n",
       "      <td>1.591000</td>\n",
       "      <td>5.0</td>\n",
       "      <td>395.000000</td>\n",
       "      <td>0.000000</td>\n",
       "      <td>4.700000</td>\n",
       "      <td>5.600000</td>\n",
       "      <td>4.200000</td>\n",
       "    </tr>\n",
       "    <tr>\n",
       "      <th>50%</th>\n",
       "      <td>21250.000000</td>\n",
       "      <td>25.010000</td>\n",
       "      <td>150.000000</td>\n",
       "      <td>134.000000</td>\n",
       "      <td>1.968000</td>\n",
       "      <td>5.0</td>\n",
       "      <td>695.000000</td>\n",
       "      <td>0.000000</td>\n",
       "      <td>5.500000</td>\n",
       "      <td>6.700000</td>\n",
       "      <td>4.700000</td>\n",
       "    </tr>\n",
       "    <tr>\n",
       "      <th>75%</th>\n",
       "      <td>30745.000000</td>\n",
       "      <td>67.072000</td>\n",
       "      <td>179.000000</td>\n",
       "      <td>156.000000</td>\n",
       "      <td>2.143000</td>\n",
       "      <td>5.0</td>\n",
       "      <td>1610.000000</td>\n",
       "      <td>0.000000</td>\n",
       "      <td>6.300000</td>\n",
       "      <td>7.800000</td>\n",
       "      <td>5.400000</td>\n",
       "    </tr>\n",
       "    <tr>\n",
       "      <th>max</th>\n",
       "      <td>168890.000000</td>\n",
       "      <td>164.519000</td>\n",
       "      <td>292.000000</td>\n",
       "      <td>211.500000</td>\n",
       "      <td>2.971000</td>\n",
       "      <td>5.0</td>\n",
       "      <td>3860.000000</td>\n",
       "      <td>997.000000</td>\n",
       "      <td>8.700000</td>\n",
       "      <td>11.100000</td>\n",
       "      <td>7.200000</td>\n",
       "    </tr>\n",
       "  </tbody>\n",
       "</table>\n",
       "</div>"
      ],
      "text/plain": [
       "               price  Kilometerstand      Leistung  CO2-Emissionen  \\\n",
       "count   86049.000000    86049.000000  86049.000000    86049.000000   \n",
       "mean    24699.814733       44.391536    152.731850      139.273978   \n",
       "std     14137.738646       45.050680     46.865482       29.696656   \n",
       "min      1490.000000        1.000000     45.000000       63.500000   \n",
       "25%     14890.000000       10.990000    117.000000      119.000000   \n",
       "50%     21250.000000       25.010000    150.000000      134.000000   \n",
       "75%     30745.000000       67.072000    179.000000      156.000000   \n",
       "max    168890.000000      164.519000    292.000000      211.500000   \n",
       "\n",
       "            Hubraum  Anzahl Sitzplätze           age  availabilityDays  \\\n",
       "count  86049.000000            86049.0  86049.000000      86049.000000   \n",
       "mean       1.930350                5.0   1080.582633         -4.506583   \n",
       "std        0.509117                0.0    923.686086         38.844476   \n",
       "min        1.000000                5.0   -185.000000       -270.000000   \n",
       "25%        1.591000                5.0    395.000000          0.000000   \n",
       "50%        1.968000                5.0    695.000000          0.000000   \n",
       "75%        2.143000                5.0   1610.000000          0.000000   \n",
       "max        2.971000                5.0   3860.000000        997.000000   \n",
       "\n",
       "           combined         inner         outer  \n",
       "count  86049.000000  86049.000000  86049.000000  \n",
       "mean       5.599990      6.860301      4.875283  \n",
       "std        1.182314      1.647960      0.910931  \n",
       "min        2.300000      2.300000      2.400000  \n",
       "25%        4.700000      5.600000      4.200000  \n",
       "50%        5.500000      6.700000      4.700000  \n",
       "75%        6.300000      7.800000      5.400000  \n",
       "max        8.700000     11.100000      7.200000  "
      ]
     },
     "execution_count": 129,
     "metadata": {},
     "output_type": "execute_result"
    }
   ],
   "source": [
    "train_data.describe()"
   ]
  },
  {
   "cell_type": "markdown",
   "id": "e26fd13b",
   "metadata": {
    "papermill": {
     "duration": 0.042149,
     "end_time": "2025-01-14T13:58:50.675593",
     "exception": false,
     "start_time": "2025-01-14T13:58:50.633444",
     "status": "completed"
    },
    "tags": []
   },
   "source": [
    "**Handling Missing Values in Anzahl der Türen**"
   ]
  },
  {
   "cell_type": "code",
   "execution_count": 130,
   "id": "28fc1d6d83ba1e9",
   "metadata": {
    "ExecuteTime": {
     "end_time": "2025-06-13T11:09:34.770550Z",
     "start_time": "2025-06-13T11:09:34.767513Z"
    }
   },
   "outputs": [],
   "source": [
    "#Not much important \n",
    "train_data.drop(columns=['Anzahl der Türen'],inplace=True)\n",
    "test_data.drop(columns=['Anzahl der Türen'],inplace=True)\n",
    "\n"
   ]
  },
  {
   "cell_type": "code",
   "execution_count": 131,
   "id": "968239e1",
   "metadata": {
    "ExecuteTime": {
     "end_time": "2025-06-13T11:10:27.233546Z",
     "start_time": "2025-06-13T11:10:27.203500Z"
    },
    "execution": {
     "iopub.execute_input": "2025-01-14T13:58:51.988524Z",
     "iopub.status.busy": "2025-01-14T13:58:51.988085Z",
     "iopub.status.idle": "2025-01-14T13:58:52.077265Z",
     "shell.execute_reply": "2025-01-14T13:58:52.075874Z"
    },
    "papermill": {
     "duration": 0.13687,
     "end_time": "2025-01-14T13:58:52.079714",
     "exception": false,
     "start_time": "2025-01-14T13:58:51.942844",
     "status": "completed"
    },
    "tags": []
   },
   "outputs": [
    {
     "data": {
      "text/html": [
       "<div>\n",
       "<style scoped>\n",
       "    .dataframe tbody tr th:only-of-type {\n",
       "        vertical-align: middle;\n",
       "    }\n",
       "\n",
       "    .dataframe tbody tr th {\n",
       "        vertical-align: top;\n",
       "    }\n",
       "\n",
       "    .dataframe thead th {\n",
       "        text-align: right;\n",
       "    }\n",
       "</style>\n",
       "<table border=\"1\" class=\"dataframe\">\n",
       "  <thead>\n",
       "    <tr style=\"text-align: right;\">\n",
       "      <th></th>\n",
       "      <th>price</th>\n",
       "      <th>Kilometerstand</th>\n",
       "      <th>Leistung</th>\n",
       "      <th>CO2-Emissionen</th>\n",
       "      <th>Hubraum</th>\n",
       "      <th>Anzahl Sitzplätze</th>\n",
       "      <th>age</th>\n",
       "      <th>availabilityDays</th>\n",
       "      <th>combined</th>\n",
       "      <th>inner</th>\n",
       "      <th>outer</th>\n",
       "    </tr>\n",
       "  </thead>\n",
       "  <tbody>\n",
       "    <tr>\n",
       "      <th>count</th>\n",
       "      <td>86049.000000</td>\n",
       "      <td>86049.000000</td>\n",
       "      <td>86049.000000</td>\n",
       "      <td>86049.000000</td>\n",
       "      <td>86049.000000</td>\n",
       "      <td>86049.0</td>\n",
       "      <td>86049.000000</td>\n",
       "      <td>86049.000000</td>\n",
       "      <td>86049.000000</td>\n",
       "      <td>86049.000000</td>\n",
       "      <td>86049.000000</td>\n",
       "    </tr>\n",
       "    <tr>\n",
       "      <th>mean</th>\n",
       "      <td>24699.814733</td>\n",
       "      <td>44.391536</td>\n",
       "      <td>152.731850</td>\n",
       "      <td>139.273978</td>\n",
       "      <td>1.930350</td>\n",
       "      <td>5.0</td>\n",
       "      <td>1080.582633</td>\n",
       "      <td>-4.506583</td>\n",
       "      <td>5.599990</td>\n",
       "      <td>6.860301</td>\n",
       "      <td>4.875283</td>\n",
       "    </tr>\n",
       "    <tr>\n",
       "      <th>std</th>\n",
       "      <td>14137.738646</td>\n",
       "      <td>45.050680</td>\n",
       "      <td>46.865482</td>\n",
       "      <td>29.696656</td>\n",
       "      <td>0.509117</td>\n",
       "      <td>0.0</td>\n",
       "      <td>923.686086</td>\n",
       "      <td>38.844476</td>\n",
       "      <td>1.182314</td>\n",
       "      <td>1.647960</td>\n",
       "      <td>0.910931</td>\n",
       "    </tr>\n",
       "    <tr>\n",
       "      <th>min</th>\n",
       "      <td>1490.000000</td>\n",
       "      <td>1.000000</td>\n",
       "      <td>45.000000</td>\n",
       "      <td>63.500000</td>\n",
       "      <td>1.000000</td>\n",
       "      <td>5.0</td>\n",
       "      <td>-185.000000</td>\n",
       "      <td>-270.000000</td>\n",
       "      <td>2.300000</td>\n",
       "      <td>2.300000</td>\n",
       "      <td>2.400000</td>\n",
       "    </tr>\n",
       "    <tr>\n",
       "      <th>25%</th>\n",
       "      <td>14890.000000</td>\n",
       "      <td>10.990000</td>\n",
       "      <td>117.000000</td>\n",
       "      <td>119.000000</td>\n",
       "      <td>1.591000</td>\n",
       "      <td>5.0</td>\n",
       "      <td>395.000000</td>\n",
       "      <td>0.000000</td>\n",
       "      <td>4.700000</td>\n",
       "      <td>5.600000</td>\n",
       "      <td>4.200000</td>\n",
       "    </tr>\n",
       "    <tr>\n",
       "      <th>50%</th>\n",
       "      <td>21250.000000</td>\n",
       "      <td>25.010000</td>\n",
       "      <td>150.000000</td>\n",
       "      <td>134.000000</td>\n",
       "      <td>1.968000</td>\n",
       "      <td>5.0</td>\n",
       "      <td>695.000000</td>\n",
       "      <td>0.000000</td>\n",
       "      <td>5.500000</td>\n",
       "      <td>6.700000</td>\n",
       "      <td>4.700000</td>\n",
       "    </tr>\n",
       "    <tr>\n",
       "      <th>75%</th>\n",
       "      <td>30745.000000</td>\n",
       "      <td>67.072000</td>\n",
       "      <td>179.000000</td>\n",
       "      <td>156.000000</td>\n",
       "      <td>2.143000</td>\n",
       "      <td>5.0</td>\n",
       "      <td>1610.000000</td>\n",
       "      <td>0.000000</td>\n",
       "      <td>6.300000</td>\n",
       "      <td>7.800000</td>\n",
       "      <td>5.400000</td>\n",
       "    </tr>\n",
       "    <tr>\n",
       "      <th>max</th>\n",
       "      <td>168890.000000</td>\n",
       "      <td>164.519000</td>\n",
       "      <td>292.000000</td>\n",
       "      <td>211.500000</td>\n",
       "      <td>2.971000</td>\n",
       "      <td>5.0</td>\n",
       "      <td>3860.000000</td>\n",
       "      <td>997.000000</td>\n",
       "      <td>8.700000</td>\n",
       "      <td>11.100000</td>\n",
       "      <td>7.200000</td>\n",
       "    </tr>\n",
       "  </tbody>\n",
       "</table>\n",
       "</div>"
      ],
      "text/plain": [
       "               price  Kilometerstand      Leistung  CO2-Emissionen  \\\n",
       "count   86049.000000    86049.000000  86049.000000    86049.000000   \n",
       "mean    24699.814733       44.391536    152.731850      139.273978   \n",
       "std     14137.738646       45.050680     46.865482       29.696656   \n",
       "min      1490.000000        1.000000     45.000000       63.500000   \n",
       "25%     14890.000000       10.990000    117.000000      119.000000   \n",
       "50%     21250.000000       25.010000    150.000000      134.000000   \n",
       "75%     30745.000000       67.072000    179.000000      156.000000   \n",
       "max    168890.000000      164.519000    292.000000      211.500000   \n",
       "\n",
       "            Hubraum  Anzahl Sitzplätze           age  availabilityDays  \\\n",
       "count  86049.000000            86049.0  86049.000000      86049.000000   \n",
       "mean       1.930350                5.0   1080.582633         -4.506583   \n",
       "std        0.509117                0.0    923.686086         38.844476   \n",
       "min        1.000000                5.0   -185.000000       -270.000000   \n",
       "25%        1.591000                5.0    395.000000          0.000000   \n",
       "50%        1.968000                5.0    695.000000          0.000000   \n",
       "75%        2.143000                5.0   1610.000000          0.000000   \n",
       "max        2.971000                5.0   3860.000000        997.000000   \n",
       "\n",
       "           combined         inner         outer  \n",
       "count  86049.000000  86049.000000  86049.000000  \n",
       "mean       5.599990      6.860301      4.875283  \n",
       "std        1.182314      1.647960      0.910931  \n",
       "min        2.300000      2.300000      2.400000  \n",
       "25%        4.700000      5.600000      4.200000  \n",
       "50%        5.500000      6.700000      4.700000  \n",
       "75%        6.300000      7.800000      5.400000  \n",
       "max        8.700000     11.100000      7.200000  "
      ]
     },
     "execution_count": 131,
     "metadata": {},
     "output_type": "execute_result"
    }
   ],
   "source": [
    "train_data.describe()"
   ]
  },
  {
   "cell_type": "markdown",
   "id": "a961e9ef",
   "metadata": {
    "papermill": {
     "duration": 0.042674,
     "end_time": "2025-01-14T13:58:52.167547",
     "exception": false,
     "start_time": "2025-01-14T13:58:52.124873",
     "status": "completed"
    },
    "tags": []
   },
   "source": [
    "# Viewing Cleaned Data"
   ]
  },
  {
   "cell_type": "code",
   "execution_count": 132,
   "id": "b25e3e64",
   "metadata": {
    "ExecuteTime": {
     "end_time": "2025-06-13T11:10:31.328774Z",
     "start_time": "2025-06-13T11:10:31.326382Z"
    },
    "execution": {
     "iopub.execute_input": "2025-01-14T13:58:52.258380Z",
     "iopub.status.busy": "2025-01-14T13:58:52.257857Z",
     "iopub.status.idle": "2025-01-14T13:58:52.263825Z",
     "shell.execute_reply": "2025-01-14T13:58:52.262712Z"
    },
    "papermill": {
     "duration": 0.054576,
     "end_time": "2025-01-14T13:58:52.266011",
     "exception": false,
     "start_time": "2025-01-14T13:58:52.211435",
     "status": "completed"
    },
    "tags": []
   },
   "outputs": [
    {
     "name": "stdout",
     "output_type": "stream",
     "text": [
      "(9874, 26)\n"
     ]
    }
   ],
   "source": [
    "print(test_data.shape)"
   ]
  },
  {
   "cell_type": "code",
   "execution_count": 133,
   "id": "66d39136",
   "metadata": {
    "ExecuteTime": {
     "end_time": "2025-06-13T11:10:53.310075Z",
     "start_time": "2025-06-13T11:10:53.307887Z"
    }
   },
   "outputs": [
    {
     "data": {
      "text/plain": [
       "(Index(['price', 'Kategorie', 'colour', 'Kilometerstand', 'Leistung', 'make',\n",
       "        'model', 'Klimatisierung', 'Airbags', 'Herkunft', 'CO2-Emissionen',\n",
       "        'Getriebe', 'Schadstoffklasse', 'Hubraum', 'Anzahl Sitzplätze',\n",
       "        'primary_vehicle_type', 'descriptor', 'age', 'primary_fuel',\n",
       "        'fuel_modifiers', 'availabilityDays', 'Material', 'intColor',\n",
       "        'combined', 'inner', 'outer'],\n",
       "       dtype='object'),\n",
       " (86049, 26))"
      ]
     },
     "execution_count": 133,
     "metadata": {},
     "output_type": "execute_result"
    }
   ],
   "source": [
    "train_data.columns,train_data.shape"
   ]
  },
  {
   "cell_type": "code",
   "execution_count": 134,
   "id": "7eb26259",
   "metadata": {
    "ExecuteTime": {
     "end_time": "2025-06-13T11:11:14.665861Z",
     "start_time": "2025-06-13T11:11:14.658410Z"
    },
    "execution": {
     "iopub.execute_input": "2025-01-14T13:58:52.357061Z",
     "iopub.status.busy": "2025-01-14T13:58:52.356182Z",
     "iopub.status.idle": "2025-01-14T13:58:52.375034Z",
     "shell.execute_reply": "2025-01-14T13:58:52.373627Z"
    },
    "papermill": {
     "duration": 0.066384,
     "end_time": "2025-01-14T13:58:52.377668",
     "exception": false,
     "start_time": "2025-01-14T13:58:52.311284",
     "status": "completed"
    },
    "tags": []
   },
   "outputs": [
    {
     "name": "stdout",
     "output_type": "stream",
     "text": [
      "adId                    0.0\n",
      "Kategorie               0.0\n",
      "colour                  0.0\n",
      "Kilometerstand          0.0\n",
      "Leistung                0.0\n",
      "make                    0.0\n",
      "model                   0.0\n",
      "Klimatisierung          0.0\n",
      "Airbags                 0.0\n",
      "Herkunft                0.0\n",
      "CO2-Emissionen          0.0\n",
      "Getriebe                0.0\n",
      "Schadstoffklasse        0.0\n",
      "Hubraum                 0.0\n",
      "Anzahl Sitzplätze       0.0\n",
      "primary_vehicle_type    0.0\n",
      "descriptor              0.0\n",
      "age                     0.0\n",
      "primary_fuel            0.0\n",
      "fuel_modifiers          0.0\n",
      "availabilityDays        0.0\n",
      "Material                0.0\n",
      "intColor                0.0\n",
      "combined                0.0\n",
      "inner                   0.0\n",
      "outer                   0.0\n",
      "dtype: float64\n"
     ]
    }
   ],
   "source": [
    "missing_percentage = (test_data.isna().sum() / len(test_data)) * 100\n",
    "print(missing_percentage)"
   ]
  },
  {
   "cell_type": "markdown",
   "id": "d1c1ff1f",
   "metadata": {
    "papermill": {
     "duration": 0.04596,
     "end_time": "2025-01-14T13:58:52.469669",
     "exception": false,
     "start_time": "2025-01-14T13:58:52.423709",
     "status": "completed"
    },
    "tags": []
   },
   "source": [
    "# Random Forest Regressor with K fold"
   ]
  },
  {
   "cell_type": "code",
   "execution_count": 135,
   "id": "63489262",
   "metadata": {
    "ExecuteTime": {
     "end_time": "2025-06-14T04:57:46.963144Z",
     "start_time": "2025-06-14T04:57:46.949491Z"
    },
    "execution": {
     "iopub.execute_input": "2025-01-14T13:58:52.560094Z",
     "iopub.status.busy": "2025-01-14T13:58:52.559052Z",
     "iopub.status.idle": "2025-01-14T13:58:52.586123Z",
     "shell.execute_reply": "2025-01-14T13:58:52.584564Z"
    },
    "papermill": {
     "duration": 0.07429,
     "end_time": "2025-01-14T13:58:52.588636",
     "exception": false,
     "start_time": "2025-01-14T13:58:52.514346",
     "status": "completed"
    },
    "tags": []
   },
   "outputs": [],
   "source": [
    "X = train_data.drop(columns=['price'])  \n",
    "y = train_data['price']  "
   ]
  },
  {
   "cell_type": "code",
   "execution_count": 136,
   "id": "c58e7c93",
   "metadata": {
    "ExecuteTime": {
     "end_time": "2025-06-14T04:57:16.612802Z",
     "start_time": "2025-06-14T04:57:16.397871Z"
    },
    "execution": {
     "iopub.execute_input": "2025-01-14T13:58:52.677126Z",
     "iopub.status.busy": "2025-01-14T13:58:52.676748Z",
     "iopub.status.idle": "2025-01-14T13:58:52.928388Z",
     "shell.execute_reply": "2025-01-14T13:58:52.926902Z"
    },
    "papermill": {
     "duration": 0.299021,
     "end_time": "2025-01-14T13:58:52.931151",
     "exception": false,
     "start_time": "2025-01-14T13:58:52.632130",
     "status": "completed"
    },
    "tags": []
   },
   "outputs": [],
   "source": [
    "categorical_columns = ['Kategorie', 'colour','make','model','Klimatisierung','Airbags','Herkunft',  'Getriebe',\n",
    "                       'Schadstoffklasse', 'primary_vehicle_type', 'descriptor', 'primary_fuel', \n",
    "                       'fuel_modifiers', 'Material','intColor']\n",
    "numerical_columns = ['Kilometerstand', 'Leistung', 'CO2-Emissionen', 'Hubraum',\n",
    "                     'Anzahl Sitzplätze', 'Anzahl der Türen', 'age', 'availabilityDays',\n",
    "                     'combined', 'inner', 'outer']\n",
    "X_train = pd.get_dummies(X, columns=categorical_columns, drop_first=True)"
   ]
  },
  {
   "cell_type": "code",
   "execution_count": 137,
   "id": "afd7ad7cedfe72e3",
   "metadata": {
    "ExecuteTime": {
     "end_time": "2025-06-13T11:13:52.102117Z",
     "start_time": "2025-06-13T11:13:52.097169Z"
    }
   },
   "outputs": [],
   "source": [
    "import json\n",
    "numerical_columns_dict={}\n",
    "numerical_columns = ['Kilometerstand', 'Leistung', 'CO2-Emissionen', 'Hubraum',\n",
    "                     'Anzahl Sitzplätze', 'age', 'availabilityDays',\n",
    "                     'combined', 'inner', 'outer']\n",
    "for _ in numerical_columns:\n",
    "    min_,max_=X_train[_].min(), X_train[_].max()\n",
    "    numerical_columns_dict[_]=(float(min_), float(max_))\n",
    "\n",
    "with open(\"numercial_values.json\", \"w\") as f:\n",
    "    json.dump(numerical_columns_dict, f)"
   ]
  },
  {
   "cell_type": "code",
   "execution_count": 138,
   "id": "9c9e0f0d",
   "metadata": {
    "ExecuteTime": {
     "end_time": "2025-06-13T11:14:08.431478Z",
     "start_time": "2025-06-13T11:14:08.428810Z"
    }
   },
   "outputs": [],
   "source": [
    "feature_names = X_train.columns.tolist()\n",
    "\n",
    "with open(\"feature_names.json\", \"w\") as f:\n",
    "    json.dump(feature_names, f)"
   ]
  },
  {
   "cell_type": "code",
   "execution_count": 139,
   "id": "23c81818",
   "metadata": {},
   "outputs": [],
   "source": [
    "dict1={}\n",
    "for cat in categorical_columns:\n",
    "    dict1[cat]=X[cat].unique().tolist()\n",
    "with open(\"categorical_values.json\", \"w\") as f:\n",
    "    json.dump(dict1, f)"
   ]
  },
  {
   "cell_type": "code",
   "execution_count": 140,
   "id": "f5a194da",
   "metadata": {},
   "outputs": [
    {
     "name": "stdout",
     "output_type": "stream",
     "text": [
      "Fold Accuracies: [0.92868751 0.95710122 0.95873591 0.94671854 0.92452346]\n",
      "Average Accuracy: 0.9431533307597448\n"
     ]
    }
   ],
   "source": [
    "from sklearn.model_selection import cross_val_score,train_test_split\n",
    "from sklearn.ensemble import RandomForestRegressor\n",
    "from joblib import dump\n",
    "\n",
    "X_train_split, X_test_split, y_train_split, y_test_split = train_test_split(X_train, y, test_size=0.2, random_state=42)\n",
    "\n",
    "rf_regressor = RandomForestRegressor(n_estimators=200, random_state=42)\n",
    "scores = cross_val_score(rf_regressor, X_train, y, cv=5)  \n",
    "print(\"Fold Accuracies:\", scores)\n",
    "print(\"Average Accuracy:\", scores.mean())\n"
   ]
  },
  {
   "cell_type": "code",
   "execution_count": 141,
   "id": "243c6b04",
   "metadata": {},
   "outputs": [
    {
     "data": {
      "text/plain": [
       "['car_price_model.joblib']"
      ]
     },
     "execution_count": 141,
     "metadata": {},
     "output_type": "execute_result"
    }
   ],
   "source": [
    "rf_regressor.fit(X_train_split, y_train_split)\n",
    "dump(rf_regressor, \"car_price_model.joblib\")"
   ]
  },
  {
   "cell_type": "code",
   "execution_count": 142,
   "id": "f6ce8ef9",
   "metadata": {},
   "outputs": [
    {
     "name": "stdout",
     "output_type": "stream",
     "text": [
      "Validation MAE: 1796.05\n"
     ]
    }
   ],
   "source": [
    "from sklearn.metrics import mean_absolute_error\n",
    "\n",
    "y_pred = rf_regressor.predict(X_test_split)\n",
    "mae = mean_absolute_error(y_test_split, y_pred)\n",
    "print(f\"Validation MAE: {mae:.2f}\")"
   ]
  },
  {
   "cell_type": "code",
   "execution_count": 143,
   "id": "f1482b6e",
   "metadata": {
    "ExecuteTime": {
     "end_time": "2025-06-13T11:17:24.306955Z",
     "start_time": "2025-06-13T11:17:24.291092Z"
    },
    "execution": {
     "iopub.execute_input": "2025-01-14T14:08:08.480794Z",
     "iopub.status.busy": "2025-01-14T14:08:08.480209Z",
     "iopub.status.idle": "2025-01-14T14:08:08.540344Z",
     "shell.execute_reply": "2025-01-14T14:08:08.539028Z"
    },
    "papermill": {
     "duration": 0.108112,
     "end_time": "2025-01-14T14:08:08.543290",
     "exception": false,
     "start_time": "2025-01-14T14:08:08.435178",
     "status": "completed"
    },
    "tags": []
   },
   "outputs": [],
   "source": [
    "X_test = pd.get_dummies(test_data, columns=categorical_columns, drop_first=True)\n",
    "X_test = X_test.reindex(columns=X_train.columns, fill_value=0)"
   ]
  },
  {
   "cell_type": "code",
   "execution_count": 144,
   "id": "8ab6ec90",
   "metadata": {},
   "outputs": [],
   "source": [
    "test_data['price'] = rf_regressor.predict(X_test)\n",
    "submission = pd.DataFrame({'adId': test_data['adId'], 'price': test_data['price']})\n",
    "submission.to_csv('./submission.csv', index=False)"
   ]
  },
  {
   "cell_type": "code",
   "execution_count": null,
   "id": "5970dec9",
   "metadata": {},
   "outputs": [],
   "source": [
    "#Grid search cv for finding the best parameters\n",
    "from sklearn.model_selection import GridSearchCV\n",
    "from sklearn.ensemble import RandomForestRegressor\n",
    "\n",
    "param_grid = {\n",
    "    'n_estimators': [100, 200, 300],\n",
    "    'max_depth': [None, 10, 20],\n",
    "    'min_samples_split': [2, 5, 10],\n",
    "    'min_samples_leaf': [1, 2, 4]\n",
    "}\n",
    "\n",
    "grid_search = GridSearchCV(\n",
    "    estimator=RandomForestRegressor(random_state=42),\n",
    "    param_grid=param_grid,\n",
    "    cv=2,\n",
    "    scoring='neg_mean_absolute_error',\n",
    "    n_jobs=-1,\n",
    "    verbose=1\n",
    ")\n",
    "\n",
    "grid_search.fit(X_train_split, y_train_split)\n",
    "\n",
    "print(\"Best parameters:\", grid_search.best_params_)\n",
    "print(\"Best MAE:\", -grid_search.best_score_)\n",
    "\n",
    "# Get the best estimator\n",
    "best_model = grid_search.best_estimator_\n"
   ]
  }
 ],
 "metadata": {
  "kaggle": {
   "accelerator": "none",
   "dataSources": [
    {
     "databundleVersionId": 10162244,
     "sourceId": 88423,
     "sourceType": "competition"
    }
   ],
   "dockerImageVersionId": 30786,
   "isGpuEnabled": false,
   "isInternetEnabled": false,
   "language": "python",
   "sourceType": "notebook"
  },
  "kernelspec": {
   "display_name": ".venv",
   "language": "python",
   "name": "python3"
  },
  "language_info": {
   "codemirror_mode": {
    "name": "ipython",
    "version": 3
   },
   "file_extension": ".py",
   "mimetype": "text/x-python",
   "name": "python",
   "nbconvert_exporter": "python",
   "pygments_lexer": "ipython3",
   "version": "3.13.3"
  },
  "papermill": {
   "default_parameters": {},
   "duration": 615.478628,
   "end_time": "2025-01-14T14:08:20.425417",
   "environment_variables": {},
   "exception": null,
   "input_path": "__notebook__.ipynb",
   "output_path": "__notebook__.ipynb",
   "parameters": {},
   "start_time": "2025-01-14T13:58:04.946789",
   "version": "2.6.0"
  }
 },
 "nbformat": 4,
 "nbformat_minor": 5
}
